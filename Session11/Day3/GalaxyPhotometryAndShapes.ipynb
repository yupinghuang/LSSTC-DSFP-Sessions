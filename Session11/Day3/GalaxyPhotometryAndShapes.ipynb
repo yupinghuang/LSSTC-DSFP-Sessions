{
 "cells": [
  {
   "cell_type": "markdown",
   "metadata": {},
   "source": [
    "# Practice with galaxy photometry and shape measurement\n",
    "To accompany galaxy-measurement lecture from the LSSTC Data Science Fellowship Program, July 2020.\n",
    "\n",
    "All questions and corrections can be directed to me at garyb@physics.upenn.edu\n",
    "\n",
    "Enjoy!\n",
    "\n",
    "_Gary Bernstein, 16 July 2020_"
   ]
  },
  {
   "cell_type": "code",
   "execution_count": null,
   "metadata": {},
   "outputs": [],
   "source": [
    "# Load the packages we will use\n",
    "import numpy as np\n",
    "import astropy.io.fits as pf\n",
    "import astropy.coordinates as co\n",
    "from matplotlib import pyplot as pl\n",
    "import scipy.fft as fft\n",
    "%matplotlib inline"
   ]
  },
  {
   "cell_type": "markdown",
   "metadata": {},
   "source": [
    "## Useful tools\n",
    "For our galaxy measurement practice, we'll be testing out some of our techniques on *exponential profile* galaxies, which are define by\n",
    "$$ I(x,y) \\propto e^{-r/r_0},$$\n",
    "where $r_0$ is the \"scale length,\" and we'll allow our galaxy to potentially be elliptical shaped by setting\n",
    "$$ r^2 = (1-e^2) \\left[ \\frac{(x-x_0)^2}{1-e} + \\frac{(y-y_0)^2}{1+e}\\right].$$\n",
    "\n",
    "To reduce the complexity of our problem, I'm only letting the galaxy have the $e_+$ form of ellipticity, where $e>0$ ($e<0$) means the galaxy is stretched along the $x$ ($y$) axis.\n",
    "\n",
    "We're also going to assume that our galaxy is viewed through a circular Gaussian PSF:\n",
    "$$ T(x,y) \\propto e^{-(x^2+y^2)/2\\sigma_{\\rm PSF}^2}.$$\n",
    "\n",
    "The function `drawDisk` below is provided to draw an image of an elliptical exponential galaxy as convolved with a Gaussian PSF.  You don't have to understand how it works to do these exercises.  But you might be interested (since this is how the `GalSim` galaxy simulation package works): the galaxy and the PSF are first \"drawn\" in Fourier space, and then multiplied, since a convolution in real space is multiplication in Fourier space (which is *much* faster).  Then we use a Fast Fourier Transform (FFT) to get our image back in real space.\n",
    "\n",
    "I also include in this notebook two helpful things from the astrometry notebook:\n",
    "* The function `addBackground` which will add background noise of a chosen level (denoted as $n$ in the lecture notes) to any image.\n",
    "* The `x` and `y` arrays that give the location values of each pixel. In this set of exercises, we'll work exclusively with 64x64 images.  Also I am going to redefine the coordinate system so that $(x,y)=(0,0)$ is actually at element `[32,32]` of the array."
   ]
  },
  {
   "cell_type": "code",
   "execution_count": null,
   "metadata": {},
   "outputs": [],
   "source": [
    "def addBackground(image, variance):\n",
    "    # Add Gaussian noise with given variance to each pixel of the image\n",
    "    image += np.random.normal(scale=np.sqrt(variance),size=image.shape)\n",
    "    return"
   ]
  },
  {
   "cell_type": "code",
   "execution_count": null,
   "metadata": {},
   "outputs": [],
   "source": [
    "n_pix = 64\n",
    "xy=np.indices( (n_pix,n_pix),dtype=float)\n",
    "x = xy[1].copy()- n_pix/2\n",
    "y = xy[0].copy()- n_pix/2\n",
    "pl.imshow(x,origin='lower',interpolation='nearest')\n",
    "pl.title(\"This is a plot of x coordinate\")\n",
    "pl.colorbar()"
   ]
  },
  {
   "cell_type": "code",
   "execution_count": null,
   "metadata": {},
   "outputs": [],
   "source": [
    "# Here is our elliptical exponential galaxy drawing function\n",
    "# It is always centered on the pixel just above right of the image center.\n",
    "def drawDisk(r0=4.,flux=1.,e=0.,sigma_psf=3.,n_pix=n_pix):\n",
    "    # n_pix must be even.\n",
    "    \n",
    "    # Build arrays holding the (ky,kx) values\n",
    "    # irfft2 wants array of this shape:\n",
    "    tmp = np.ones((n_pix,n_pix//2+1),dtype=float) \n",
    "    freqs = np.arange(-n_pix//2,n_pix//2)\n",
    "    freqs = (2 * np.pi / n_pix)*np.roll(freqs,n_pix//2)\n",
    "    kx = tmp * freqs[:n_pix//2+1]\n",
    "    ky = tmp * freqs[:,np.newaxis]\n",
    "\n",
    "    # Calculate the FT of the PSF\n",
    "    ft = np.exp( (kx*kx+ky*ky)*(-sigma_psf*sigma_psf/2.))\n",
    "    \n",
    "    # Produce the FT of the exponential - for the circular version,\n",
    "    # it's (1+k^2 r_0^2)**(-3/2)\n",
    "    # factors to \"ellipticize\" and scale the k's:\n",
    "    a = np.power((1+e)/(1-e),0.25)\n",
    "    ksqp1 = np.square(r0*kx*a) + np.square(r0*ky/a) + 1\n",
    "    ft *= flux / (ksqp1*np.sqrt(ksqp1))\n",
    "    \n",
    "    # Now FFT back to real space\n",
    "    img = fft.irfft2(ft)\n",
    "    # And roll the origin to the center\n",
    "    return np.roll(img, (n_pix//2,n_pix//2),axis=(0,1))\n",
    "    "
   ]
  },
  {
   "cell_type": "code",
   "execution_count": null,
   "metadata": {},
   "outputs": [],
   "source": [
    "# As a test, let's draw an image with a small PSF size and\n",
    "# see if it really is exponential. \n",
    "# With e>0, it should be extended along x axis\n",
    "r0=4.\n",
    "img = drawDisk(e=0.2,flux=1e5,sigma_psf=3.,r0=r0)\n",
    "pl.imshow(img,origin='lower',interpolation='nearest')\n",
    "pl.title(\"Is it stretched along x?\")\n",
    "# And also a plot of log(flux) vs x or y should look linear\n",
    "pl.figure()\n",
    "pl.plot(np.arange(-32,32)/r0,np.log(img[:,32]),label='Y')\n",
    "pl.plot(np.arange(-32,32)/r0,np.log(img[32,:]),label='X')\n",
    "pl.legend()\n",
    "pl.title(\"Are the lines straight and near unity slope?\")\n",
    "pl.xlabel(\"(x or y)/r0\")\n",
    "pl.ylabel(\"log(I)\")\n",
    "pl.grid()"
   ]
  },
  {
   "cell_type": "markdown",
   "metadata": {},
   "source": [
    "## Exercise 1: Aperture photometry\n",
    "\n",
    "Here we'll try out a few forms of aperture photometry and see how they compare in terms of the S/N ratios they provide on the galaxy flux.\n",
    "\n",
    "**(a)** Write a function `tophat_flux(img,R)` which implements a simple tophat aperture sum of flux in all pixels within radius `R` of the center of the galaxy.  We will keep the center of our galaxy fixed at pixel \\[32,32\\] so you don't have to worry about iterating to find the centroid.\n",
    "\n",
    "Draw a noiseless version of a circular galaxy with the characteristics in the cell below.  Then use your `tophat_flux` function to plot the \"curve of growth\" for this image, with `R` on the x axis going from 5 to 30 pixels, and the y axis showing the fraction of the total flux that falls in your aperture.\n",
    "\n",
    "How many scale radii do we need the aperture to be to miss <1% of the flux?"
   ]
  },
  {
   "cell_type": "code",
   "execution_count": null,
   "metadata": {},
   "outputs": [],
   "source": [
    "r0 = 4.\n",
    "e = 0.\n",
    "flux = 1e4\n",
    "sigma_psf = 2."
   ]
  },
  {
   "cell_type": "code",
   "execution_count": null,
   "metadata": {},
   "outputs": [],
   "source": [
    "# your work here..."
   ]
  },
  {
   "cell_type": "markdown",
   "metadata": {},
   "source": [
    "**(b)** Next let's add some background noise to our image, say `n_bg=100`.  \n",
    "* First, make one such noisy version of your galaxy and `imshow` it.  \n",
    "* Then, using **analytic** methods, estimate what the variance of your aperture flux measurements will be when `R=10`.  \n",
    "* Finally, make 1000 different realizations of your noisy galaxy and measure their `tophat_flux` to see whether the real variance of the flux measurements matches your prediction.\n"
   ]
  },
  {
   "cell_type": "code",
   "execution_count": null,
   "metadata": {},
   "outputs": [],
   "source": [
    "# your work here..."
   ]
  },
  {
   "cell_type": "markdown",
   "metadata": {},
   "source": [
    "**(c)** Now create a plot of the S/N level of the flux measurement vs the radius `R` of the aperture.  Here the signal is the mean, and the noise the std deviation, of the `tophat_flux` of many noisy measurements of this galaxy.  You can use either an analytic or numeric estimate of these quantities.  Report what the optimal tophat S/N is, and what `R` achieves it."
   ]
  },
  {
   "cell_type": "code",
   "execution_count": null,
   "metadata": {},
   "outputs": [],
   "source": [
    "# your work here..."
   ]
  },
  {
   "cell_type": "markdown",
   "metadata": {},
   "source": [
    "**(d)** Repeat part (c), but this time use a *Gaussian* aperture whose width $\\sigma_w$ you vary to optimize the S/N ratio of the aperture flux, i.e. a function `gaussian_flux(img,sigma_w)` is needed.  Which performs better, the optimized tophat or the optimized Gaussian?"
   ]
  },
  {
   "cell_type": "code",
   "execution_count": null,
   "metadata": {},
   "outputs": [],
   "source": [
    "# your work here..."
   ]
  },
  {
   "cell_type": "markdown",
   "metadata": {},
   "source": [
    "## Exercise 2: Spurious color\n",
    "\n",
    "This time let's consider that we want to measure an accurate $g-r$ color for our galaxy, but the seeing is $\\sigma_{\\rm PSF}=2$ pixels in the $r$ image but $\\sigma_{\\rm PSF}=2.5$ pixels in the $g$ image.  Let's see how the size of our aperture biases our color measurement.\n",
    "\n",
    "**(a)** Draw a noiseless $g$-band and a noiseless $r$-band image of our galaxy.  Let's assume that the true color $g-r \\equiv 2.5\\log_10(f_r/f_g) = 0,$ i.e. that the $g$ and $r$ fluxes of the galaxy are both equal to our nominal `flux`.  Plot the difference between the two images: are they the same?"
   ]
  },
  {
   "cell_type": "code",
   "execution_count": null,
   "metadata": {},
   "outputs": [],
   "source": [
    "# your work here..."
   ]
  },
  {
   "cell_type": "markdown",
   "metadata": {},
   "source": [
    "**(b)** Using either your Gaussian or your tophat aperture code, plot the *measured* $g-r$ color of the galaxy as a function of the size of the aperture.  Since the true color is zero, this measurement is the size of the systematic error that is being made in color because of mismatched *pre-seeing* apertures."
   ]
  },
  {
   "cell_type": "code",
   "execution_count": null,
   "metadata": {},
   "outputs": [],
   "source": [
    "# your work here..."
   ]
  },
  {
   "cell_type": "markdown",
   "metadata": {},
   "source": [
    "We can see here that a naive use of \"matched\" apertures can cause significant spurious color, even when the aperture has a sigma that is many times that of the galaxy and PSF. But the tophat does better.  So without any kind of PSF matching, we have to use algorithms with non-optimal S/N in order to approach true colors."
   ]
  },
  {
   "cell_type": "markdown",
   "metadata": {},
   "source": [
    "## Exercise 3: Degradation of ellipticity measurements by seeing\n",
    "\n",
    "It's hard to measure the shape of a galaxy that is not resolved by the PSF.  That means that poorly-resolved galaxies are less useful for detecting weak-lensing (WL) shear.  Let's see if we can quantify this by using the Fisher matrix to determine the best possible measurement accuracy on the parameter $e$ of our model (we'll make things easy by holding all other parameters of the galaxy model as fixed).\n",
    "\n",
    "Remember how the Fisher matrix works: for an image signal $I_{xy}$ and noise $\\sigma_{xy}$ in each pixel, the Fisher information for a parameter $\\theta$ is\n",
    "$$ F_{\\theta\\theta} = \\sum_{xy} \\frac{1}{\\sigma^2_{xy}} \\left(\\frac{\\partial I_{xy}}{\\partial\\theta}\\right)^2.$$\n",
    "\n",
    "Here we're interested in $\\theta=e$.\n",
    "\n",
    "**(a)** Draw two versions of our standard galaxy, with $e = \\pm0.01.$  Use these to calculate and plot the quantity we need, $\\frac{\\partial I_{xy}}{\\partial e}.$  Comment on how this picture relates to the fact that we like to measure WL shear using the moment of $x^2-y^2$."
   ]
  },
  {
   "cell_type": "code",
   "execution_count": null,
   "metadata": {},
   "outputs": [],
   "source": [
    "# your work here..."
   ]
  },
  {
   "cell_type": "markdown",
   "metadata": {},
   "source": [
    "**(b)** Use this to calculate the best achievable measurement accuracy on $e$ for our standard image."
   ]
  },
  {
   "cell_type": "code",
   "execution_count": null,
   "metadata": {},
   "outputs": [],
   "source": [
    "# your work here..."
   ]
  },
  {
   "cell_type": "markdown",
   "metadata": {},
   "source": [
    "**(c)** Make a graph showing how the optimal $\\sigma_e$ varies as the size $\\sigma_{\\rm PSF}$ of the Gaussian PSF varies from being $0.2\\times r_0$ to being $3\\times r_0.$.  What's the lesson here?"
   ]
  },
  {
   "cell_type": "code",
   "execution_count": null,
   "metadata": {},
   "outputs": [],
   "source": [
    "# your work here..."
   ]
  }
 ],
 "metadata": {
  "kernelspec": {
   "display_name": "Python 3",
   "language": "python",
   "name": "python3"
  },
  "language_info": {
   "codemirror_mode": {
    "name": "ipython",
    "version": 3
   },
   "file_extension": ".py",
   "mimetype": "text/x-python",
   "name": "python",
   "nbconvert_exporter": "python",
   "pygments_lexer": "ipython3",
   "version": "3.7.7"
  }
 },
 "nbformat": 4,
 "nbformat_minor": 4
}
