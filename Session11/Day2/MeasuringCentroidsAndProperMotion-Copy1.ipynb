{
 "cells": [
  {
   "cell_type": "markdown",
   "metadata": {},
   "source": [
    "# Practice with stellar astrometry\n",
    "To accompany astrometry lecture from the Rubin Observatory Data Science Fellows Program, July 2020.\n",
    "\n",
    "All questions and corrections can be directed to me at garyb@physics.upenn.edu\n",
    "\n",
    "Enjoy!\n",
    "\n",
    "_Gary Bernstein, 16 July 2020_"
   ]
  },
  {
   "cell_type": "code",
   "execution_count": 1,
   "metadata": {},
   "outputs": [],
   "source": [
    "# Load the packages we will use\n",
    "import numpy as np\n",
    "import astropy.io.fits as pf\n",
    "import astropy.coordinates as co\n",
    "from astropy.wcs import WCS\n",
    "from matplotlib import pyplot as pl\n",
    "%matplotlib inline"
   ]
  },
  {
   "cell_type": "markdown",
   "metadata": {},
   "source": [
    "## Useful tools\n",
    "First I'm going to give you one class and one function that will be needed for the first couple of problems.  The class called `MoffatPSF` describes a PSF with the following circular profile:\n",
    "$$ I(r) \\propto \\left[1 + (r/r_0)^2\\right]^{-\\beta}.$$\n",
    "Many ground-based PSFs look more like this Moffat function than they do like a Gaussian, so let's use this for our astrometry experiments.  We'll stick with $\\beta=2.5$ When you create a `MoffatPSF`, you give it the  `half_light_radius` $r_{1/2}$ which encloses half of the light, rather than giving it $r_0.$  You also give the coordinates $(x_0,y_0)$ of the center of the star.  All of these arguments we'll assume to be in units of pixels.\n",
    "\n",
    "Once you have made a `MoffatPSF`, you can do a few things with it:\n",
    "* `draw` a picture of the PSF as a 2d image (such that it sums to unity)\n",
    "* `realizeXY` will return you the (x,y) pixel locations of arrival for one observation of the star - including Poisson noise.\n",
    "* `realizeImage` will return you a 2d array that is the pixelized image of the arriving photons.\n",
    "\n",
    "If you're curious you can look inside the class to see how it's done - I've used a few non-obvious tricks to make this fast since we want to create a lot of star images. There is a common trick of random-number generation when we are picking photon locations, where we transform a uniform deviate (which computers are good at) using a function that creates some desired distribution instead.  But you don't need to understand this to do the problems.\n",
    "\n",
    "Then there is a function `addBackground` which will add background noise of a chosen level (denoted as $n$ in the lecture notes) to any image."
   ]
  },
  {
   "cell_type": "code",
   "execution_count": 2,
   "metadata": {},
   "outputs": [],
   "source": [
    "# Make a Moffat class to draw\n",
    "class MoffatPSF:\n",
    "    def __init__(self,half_light_radius=4., x0=15.75,y0=15.25):\n",
    "        # Create a Moffat PSF model that is centered at [y0,x0]\n",
    "        # with the specified half-light radius (given in pixels)\n",
    "        self.beta = 2.5\n",
    "        # Calculate r0 from half-light radius\n",
    "        tmp = np.power(0.5,1./(1-self.beta)) - 1\n",
    "        self.r0 = half_light_radius / np.sqrt(tmp)\n",
    "        self.x0 = x0\n",
    "        self.y0 = y0\n",
    "        # Factor that makes the integral of PSF be unity:\n",
    "        self.norm = (self.beta-1) / (np.pi * self.r0**2)\n",
    "    def draw(self,n_pix=32):\n",
    "        # Return an array of shape (n_pix,n_pix) drawing the PSF\n",
    "        # (using numpy convention\n",
    "        # of zero-indexing and fastest index, x, last)\n",
    "        \n",
    "        # First make arrays holding the x and y coordinates\n",
    "        xy=np.indices( (n_pix,n_pix),dtype=float)\n",
    "        x = xy[1].copy()\n",
    "        y = xy[0].copy()\n",
    "        rsq = np.square(x-self.x0)+np.square(y-self.y0)\n",
    "        \n",
    "        # Here's the basic formla for Moffat:\n",
    "        result = self.norm * np.power(1+rsq/(self.r0**2), -self.beta)\n",
    "        # Tune up the normalization to unity:\n",
    "        result /= np.sum(result)\n",
    "        return result\n",
    "    def realizeXY(self,n_photon=1e3):\n",
    "        # Produce an array of the arrival positions of\n",
    "        # photons, assuming that they are Poisson sample\n",
    "        # of a mean of n_photon arrivals.\n",
    "        # The returned array has shape (2,n_detected)\n",
    "        # where mean of n_detected is n_photon\n",
    "        \n",
    "        # First pick total number of photons:\n",
    "        n_detected = np.random.poisson(n_photon)\n",
    "        \n",
    "        # Then distribute them in radius using the trick\n",
    "        # of inverse cumulative distribution of uniform distribution.\n",
    "        r_uniform = np.random.random(n_detected)\n",
    "        rsq = np.power(r_uniform, 1./(1-self.beta))-1.\n",
    "        r = self.r0 * np.sqrt(rsq)\n",
    "        \n",
    "        # Draw position angles at random and produce output\n",
    "        theta = np.random.random(n_detected) * (2*np.pi)\n",
    "        return np.stack((r*np.sin(theta)+self.y0,r*np.cos(theta)+self.x0))\n",
    "    def realizeImage(self,n_pix=32,n_photon=1e3):\n",
    "        # Returns an image of shape (n_pix,n_pix) which is a \n",
    "        # Poisson-noise realization of the PSF having\n",
    "        # a mean expected flux of n_photon.\n",
    "        \n",
    "        # There are two ways to do this: just bin\n",
    "        # photons from realize_XY, or\n",
    "        # do a separate Poisson draw for each pixel.\n",
    "        if n_photon < n_pix*n_pix:\n",
    "            # The first way is probably faster\n",
    "            xy = self.realizeXY(n_photon=n_photon)\n",
    "            # Pixelize the arrival positions\n",
    "            xy_pix = np.floor(xy+0.5).astype(int)\n",
    "\n",
    "            # Discard photons out of bounds\n",
    "            keep = np.logical_and(xy_pix>=0,xy_pix<n_pix)\n",
    "            keep = np.logical_and(keep[0,:],keep[1,:])\n",
    "            xy_pix = xy_pix[:,keep]\n",
    "            \n",
    "            # Do some fancy footwork to count the photons into 2d\n",
    "            # bins\n",
    "            counts = np.bincount(xy_pix[0]*n_pix+xy_pix[1],minlength=n_pix*n_pix)\n",
    "            counts = counts.reshape(n_pix,n_pix)\n",
    "            return counts.astype(float)\n",
    "        else:\n",
    "            # Better to do a Poisson draw of each pixel\n",
    "            counts = np.random.poisson(lam=n_photon*self.draw(n_pix),\n",
    "                                     size=(n_pix,n_pix))\n",
    "            return counts.astype(float)\n",
    "        \n"
   ]
  },
  {
   "cell_type": "code",
   "execution_count": 3,
   "metadata": {},
   "outputs": [],
   "source": [
    "def addBackground(image, variance):\n",
    "    # Add Gaussian noise with given variance to each pixel of the image\n",
    "    image += np.random.normal(scale=np.sqrt(variance),size=image.shape)\n",
    "    return"
   ]
  },
  {
   "cell_type": "markdown",
   "metadata": {},
   "source": [
    "Here is one more very helpful hint.  A lot of our activities require us to do sums like $\\sum_{x,y} x I_{xy}.$  To do that it'll be very helpful to have numpy arrays that hold the x and y coordinate values of each pixel in an image.  Here I'll make them for you for the case of a 32x32 square image.\n",
    "\n",
    "Note that the numpy indexing convention places the y coordinate first in the `[y,x]` indexing.  Also the first pixel is number 0.  This differs from the convention used in FITS images, which is that the first pixel is number 1, and the first axis is the `x` axis."
   ]
  },
  {
   "cell_type": "code",
   "execution_count": 4,
   "metadata": {},
   "outputs": [
    {
     "data": {
      "text/plain": [
       "<matplotlib.colorbar.Colorbar at 0x7f4093c0a210>"
      ]
     },
     "execution_count": 4,
     "metadata": {},
     "output_type": "execute_result"
    },
    {
     "data": {
      "image/png": "[encoded data removed]",
      "text/plain": [
       "<Figure size 432x288 with 2 Axes>"
      ]
     },
     "metadata": {
      "needs_background": "light"
     },
     "output_type": "display_data"
    }
   ],
   "source": [
    "xy=np.indices( (32,32),dtype=float)\n",
    "x = xy[1].copy()\n",
    "y = xy[0].copy()\n",
    "pl.imshow(x,origin='lower',interpolation='nearest')\n",
    "pl.colorbar()"
   ]
  },
  {
   "cell_type": "markdown",
   "metadata": {},
   "source": [
    "## Exercise 1: source-dominated centroiding\n",
    "\n",
    "**(a)** Write a function `centroid(photon_list)` which will estimate the position of a star by taking the average of its x and y photon arrival positions, if it's give a (2,N) array of photon positions such as produced by `MoffatPSF.realizeXY`."
   ]
  },
  {
   "cell_type": "code",
   "execution_count": 5,
   "metadata": {},
   "outputs": [],
   "source": [
    "def centroid(photon_list):\n",
    "    return np.mean(photon_list, axis=1)"
   ]
  },
  {
   "cell_type": "markdown",
   "metadata": {},
   "source": [
    "**(b)** Now create a `MoffatPSF` instance with a true center of your choice (keep the default `half_light_radius=4`, which fits nicely into 32x32 images).  Make a loop that will create photon lists for each of 10,000 observations of a star with an average flux `n_photon=1e3.`  Use your function from (a) to create estimates $(\\hat x_0, \\hat y_0)$ of each star.  Then produce a histogram of these 10,000 estimates (one for $x$ and one for $y$), and figure out the standard deviations $\\sigma_x$ and $\\sigma_y$ of your measurements.\n",
    "\n",
    "*Tip:* Draw your photon lists 1 at a time, then measure each and throw it away before you draw the next one.  We don't want to use up our memory keeping them all around at once."
   ]
  },
  {
   "cell_type": "code",
   "execution_count": 6,
   "metadata": {},
   "outputs": [],
   "source": [
    "m_psf = MoffatPSF(x0=15.75,y0=15.25)\n",
    "XY = m_psf.realizeXY(n_photon=1e3)"
   ]
  },
  {
   "cell_type": "code",
   "execution_count": 7,
   "metadata": {},
   "outputs": [
    {
     "data": {
      "text/plain": [
       "array([14.8871085 , 15.90106961])"
      ]
     },
     "execution_count": 7,
     "metadata": {},
     "output_type": "execute_result"
    }
   ],
   "source": [
    "centroid(XY).T"
   ]
  },
  {
   "cell_type": "code",
   "execution_count": 8,
   "metadata": {},
   "outputs": [],
   "source": [
    "XY_est = np.empty((10000, 2))"
   ]
  },
  {
   "cell_type": "code",
   "execution_count": 9,
   "metadata": {},
   "outputs": [],
   "source": [
    "for i in range(10000):\n",
    "    XY_est[i] = centroid(m_psf.realizeXY(n_photon=1e3)).T"
   ]
  },
  {
   "cell_type": "code",
   "execution_count": 10,
   "metadata": {},
   "outputs": [
    {
     "data": {
      "text/plain": [
       "array([0.16447669, 0.16648111])"
      ]
     },
     "execution_count": 10,
     "metadata": {},
     "output_type": "execute_result"
    }
   ],
   "source": [
    "np.std(XY_est,axis=0)"
   ]
  },
  {
   "cell_type": "code",
   "execution_count": 11,
   "metadata": {},
   "outputs": [
    {
     "data": {
      "text/plain": [
       "<matplotlib.colorbar.Colorbar at 0x7f4093b13250>"
      ]
     },
     "execution_count": 11,
     "metadata": {},
     "output_type": "execute_result"
    },
    {
     "data": {
      "image/png": "[encoded data removed]",
      "text/plain": [
       "<Figure size 432x288 with 2 Axes>"
      ]
     },
     "metadata": {
      "needs_background": "light"
     },
     "output_type": "display_data"
    }
   ],
   "source": [
    "pl.imshow(m_psf.realizeImage(),origin='lower',interpolation='nearest')\n",
    "pl.colorbar()"
   ]
  },
  {
   "cell_type": "markdown",
   "metadata": {},
   "source": [
    "(c) Now see whether our formula for the accuracy of source-limiting centroiding is accurate:\n",
    "$$ \\sigma_x = \\frac{\\sigma_{\\rm PSF}}{\\sqrt{N_\\gamma}}$$\n",
    "in this case.  You'll need to use your `MoffatPSF` instance to estimate its standard deviation width $\\sigma_{\\rm PSF}$."
   ]
  },
  {
   "cell_type": "code",
   "execution_count": 14,
   "metadata": {},
   "outputs": [
    {
     "data": {
      "text/plain": [
       "array([0.16147365, 0.15126119])"
      ]
     },
     "execution_count": 14,
     "metadata": {},
     "output_type": "execute_result"
    }
   ],
   "source": [
    "np.std(XY, axis=1)/np.sqrt(1e3)"
   ]
  },
  {
   "cell_type": "markdown",
   "metadata": {},
   "source": [
    "## Exercise 2: aperture centroids for background-limited stars\n",
    "Now we're going to work with pixelized images and add background noise (say, $n=4000$). We know that simple centroiding will not be a good idea so we're going to need to use some apertures.  Before proceeding, let's just draw a background-noisy star:"
   ]
  },
  {
   "cell_type": "code",
   "execution_count": 15,
   "metadata": {},
   "outputs": [
    {
     "data": {
      "text/plain": [
       "<matplotlib.colorbar.Colorbar at 0x7f40939c48d0>"
      ]
     },
     "execution_count": 15,
     "metadata": {},
     "output_type": "execute_result"
    },
    {
     "data": {
      "image/png": "[encoded data removed]",
      "text/plain": [
       "<Figure size 432x288 with 2 Axes>"
      ]
     },
     "metadata": {
      "needs_background": "light"
     },
     "output_type": "display_data"
    }
   ],
   "source": [
    "x0,y0 = 15.22,16.17\n",
    "hlr = 4.\n",
    "flux = 4e4\n",
    "n_bg = 4e3\n",
    "star = MoffatPSF(half_light_radius=4.,x0=x0, y0=y0)\n",
    "img = star.realizeImage(n_pix=32,n_photon=flux)\n",
    "addBackground(img, variance=n_bg)\n",
    "pl.imshow(img,origin='lower',interpolation='nearest')\n",
    "pl.colorbar()"
   ]
  },
  {
   "cell_type": "markdown",
   "metadata": {},
   "source": [
    "**(a)** Is this stellar image background-limited or source-limited?  To answer, consider which one contributes more noise within the half-light radius of the star."
   ]
  },
  {
   "cell_type": "code",
   "execution_count": null,
   "metadata": {},
   "outputs": [],
   "source": [
    "# Your work here..."
   ]
  },
  {
   "cell_type": "markdown",
   "metadata": {},
   "source": [
    "**(b)** Write a function `aperture_centroid(img,R)` that will return the values of $(y0,x0)$ that satisfy \n",
    "$$ M_x = \\sum_xy I_{xy} W(x-x0,y-y0) (x-x0)=0$$\n",
    "(and the same for y0), where $W$ is a weight function. I provide for you below a class `GaussAp` which you can use to create a Gaussian-aperture weight function with some $\\sigma_w$:\n",
    "$$ W(x,y) = \\exp{\\left(-\\frac{x^2+y^2}{2\\sigma_w^2}\\right)}$$\n",
    "\n",
    "To do this, you'll need to start with an initial guess for $(y0,x0),$ and then calculate the values of $M_f, M_x$ and $M_y$.  Then move the aperture's $x_0,y_0$ by $(M_x/M_f, M_y/M_f)$ and try again.  Iterate until the centroid doesn't move any more (or until you have done 10 iterations and need to quit!).\n",
    "\n"
   ]
  },
  {
   "cell_type": "code",
   "execution_count": 16,
   "metadata": {},
   "outputs": [],
   "source": [
    "# Here's my weight function class\n",
    "# Remember, to use a class, you first create an \"instance\"\n",
    "# of it, e.g.:  weight = GaussAp(sigma=2.6)\n",
    "# and then you can call this instance like a function of dx,dy\n",
    "\n",
    "class GaussAp:\n",
    "    # A tophat weight function of radius sigma\n",
    "    def __init__(self,sigma):\n",
    "        self.sigma = sigma\n",
    "        return\n",
    "    def __call__(self,dx,dy):\n",
    "        # Given equal-shaped arrays dx=x-x0, dy=y-y0,\n",
    "        # returns an array of the same shape giving weight function.\n",
    "\n",
    "        # Calculate distance of a pixel from the center\n",
    "        rsq = np.square(dx) + np.square(dy)\n",
    "    \n",
    "        # Now return the weight\n",
    "        return np.exp(-rsq/(2.*self.sigma*self.sigma))"
   ]
  },
  {
   "cell_type": "code",
   "execution_count": 64,
   "metadata": {},
   "outputs": [],
   "source": [
    "def aperture_centroid(img, R):\n",
    "    y0, x0 = np.unravel_index(np.argmax(img), shape=img.shape)\n",
    "    weight = GaussAp(sigma=R)\n",
    "    for i in range(10):\n",
    "        arg = np.indices( (32,32),dtype=float) - np.array([y0, x0])[np.newaxis,np.newaxis].T\n",
    "        Mf = np.sum(img*weight(arg[1], arg[0]))\n",
    "        Mx = np.sum((arg[1])*img*weight(arg[1], arg[0]))\n",
    "        My = np.sum((arg[0])*img*weight(arg[1], arg[0]))\n",
    "        x0 = x0 + Mx/Mf\n",
    "        y0 = y0 + My/Mf\n",
    "    return (y0, x0)"
   ]
  },
  {
   "cell_type": "code",
   "execution_count": 65,
   "metadata": {},
   "outputs": [
    {
     "data": {
      "text/plain": [
       "(16.266975434340083, 15.324184080945207)"
      ]
     },
     "execution_count": 65,
     "metadata": {},
     "output_type": "execute_result"
    }
   ],
   "source": [
    "aperture_centroid(img, 4)"
   ]
  },
  {
   "cell_type": "markdown",
   "metadata": {},
   "source": [
    "**(c)** Now your job is to find the weight size radius $\\sigma_w$ that yields the best accuracy on the centroid.  To do so, use the Moffat star as created above, and measure the centroid of 4,000 realizations contaminated with background noise at the specified `n_bg`. \n",
    "\n",
    "Calculate the resultant $\\sigma_x,\\sigma_y$ for these 4,000 stars, trying values of $\\sigma_w=2,2.5,\\ldots,4.5.$  Plot the astrometric accuracy vs $\\sigma_w$.  \n",
    "\n",
    "Which $\\sigma_w$ is best?  See if you can make a rough comparison to the rule-of-thumb $\\sigma_x\\approx \\sigma_{\\rm PSF} / \\nu.$"
   ]
  },
  {
   "cell_type": "code",
   "execution_count": null,
   "metadata": {},
   "outputs": [],
   "source": [
    "# Your work here..."
   ]
  },
  {
   "cell_type": "markdown",
   "metadata": {},
   "source": [
    "**Bonus question:** Using the formula in the notes, derive the *optimal* centroid accuracy $\\sigma_e$ attainable for the Moffat profile with the chosen size, flux, and background noise.  How close is your best-choice Gaussian aperture to the optimum noise limit?"
   ]
  },
  {
   "cell_type": "markdown",
   "metadata": {},
   "source": [
    "According to the notes, the Cramer-Rao bound for the variance of the x center of a star is the inverse of the Fisher information\n",
    "$$F_{xx} = \\frac{f^2}{n} \\sum_{x,y} \\left(\\frac{\\partial \\textrm{PSF}}{\\partial x}\\right)^2.$$\n",
    "We have two viable options here: compute this analytically by taking the derivative of the Moffat profile and then turning the sum into an integral; or compute this numerically.  Let's do this numerically, since we already have the code to calculate the Moffat PSF."
   ]
  },
  {
   "cell_type": "code",
   "execution_count": null,
   "metadata": {},
   "outputs": [],
   "source": [
    "# Your work here..."
   ]
  },
  {
   "cell_type": "markdown",
   "metadata": {},
   "source": [
    "## Exercise 3: Using a WCS\n",
    "\n",
    "This exercise requires four fits files: `old_image.fits`, `new_image.fits`, `old_catalog.fits`, and `new_catalog.fits`. Please [download these files](https://northwestern.box.com/s/9k7vtoa5lbfsohw2dm9wdxz0jc66mh7r), and place them in the same directory as this notebook.  \n",
    "\n",
    "The 2 FITS images are from the [Dark Energy Survey (DES)](https://www.darkenergysurvey.org/), named `old_image.fits` and `new_image.fits`, and they overlap on the sky. According to Gaia DR2, there is a fast-moving star located at roughly $(\\alpha,\\delta)=$(29.91148,-8.212267). If you display these two images using DS9, then align them using the `Frame->Match->Frame->WCS` option, you will be able to move your cursor to those coordinates actually see the star move.\n",
    "\n",
    "We also have catalogs (FITS tables) named `old_catalog.fits` and `new_catalog.fits` that contain the precise pixel centroids measured by `SExtractor` on these frames.  Your exercise is to extract the WCS from each image's header using astropy, apply it to the $(x,y)$ coordinates to obtain $(\\alpha,\\delta)$ for this star in each image, and then estimate its proper motion.\n",
    "\n",
    "**(a)** Get a WCS and the `MJD-OBS` out of headers. \\[MJD is Modified Julian Date.  Basically it gives the time of the exposure in units of days since some reference moment.\\]"
   ]
  },
  {
   "cell_type": "code",
   "execution_count": 18,
   "metadata": {},
   "outputs": [
    {
     "name": "stdout",
     "output_type": "stream",
     "text": [
      "<SkyCoord (ICRS): (ra, dec) in deg\n",
      "    (29.75015272, -8.32410181)>\n",
      "29.750152720824026\n"
     ]
    }
   ],
   "source": [
    "# I'll start you off by constructing an astropy WCS from the first image\n",
    "h = pf.getheader('old_image.fits')\n",
    "wcs_old = WCS(h)\n",
    "mjd_old = h['MJD-OBS']\n",
    "\n",
    "# And here's an example of using the WCS to map to the sky:\n",
    "radec = wcs_old.pixel_to_world(1834,1620)\n",
    "print(radec)\n",
    "print(radec.ra.degree)"
   ]
  },
  {
   "cell_type": "code",
   "execution_count": 19,
   "metadata": {},
   "outputs": [
    {
     "data": {
      "text/plain": [
       "57006.15535881"
      ]
     },
     "execution_count": 19,
     "metadata": {},
     "output_type": "execute_result"
    }
   ],
   "source": [
    "h['MJD-OBS']"
   ]
  },
  {
   "cell_type": "markdown",
   "metadata": {},
   "source": [
    "**(b)** Now read the FITS catalogs into tables.  We will use the columns `XWIN_IMAGE` and `YWIN_IMAGE` to give us the pixel coordinates, with `ERRAWIN_IMAGE` giving the rough uncertainty on each (in units of pixels, 1 pixel = 0.264 arcsec).\n",
    "\n",
    "By whatever means you choose, figure out which row in each catalog corresponds to the fast-moving star at the coordinates given above.  Then use the WCS's to obtain the ICRS RA & Dec measured for this star on these two images."
   ]
  },
  {
   "cell_type": "code",
   "execution_count": 20,
   "metadata": {},
   "outputs": [],
   "source": [
    "# I'll start you off by giving the command to read in the catalog to a table:\n",
    "cat_old = pf.getdata('old_catalog.fits',1)"
   ]
  },
  {
   "cell_type": "code",
   "execution_count": 22,
   "metadata": {},
   "outputs": [
    {
     "data": {
      "text/plain": [
       "array([1264.75690085, 1896.13960065, 1003.24889021, 1271.18196888,\n",
       "       1855.8251319 ,   23.91669322,  249.89010039, 1631.20474895,\n",
       "       1152.3810557 ,  398.93049445, 1629.9806199 , 1808.37426298,\n",
       "       1846.72297793, 1206.12864347, 1248.86044247, 1160.45987238,\n",
       "       1004.06229735,  901.37198813,  639.14604699, 1728.79632857,\n",
       "        779.80477702,  712.2937131 ,  569.80626654,  207.23285468,\n",
       "       1763.16060597,  914.9651367 ,  494.3541744 ,  443.02096968,\n",
       "        836.80461273, 1531.05933622, 1986.6332028 , 1068.05062965,\n",
       "        684.99033001,  422.83317107, 1653.75500352,  114.87253919,\n",
       "        235.9390958 , 1669.78117411,  118.8819542 ,  788.10154346,\n",
       "        590.84665535, 1136.50829451,   61.37664775, 1180.12165532,\n",
       "         89.4716228 , 1163.57150475, 1557.09164569,   36.22692103,\n",
       "        867.45517529,  729.89556456, 1559.61909251,  145.90433515,\n",
       "       1027.38017512, 1028.85006106, 1709.90592911,  625.75584435,\n",
       "       1032.3079913 , 1780.34873659,  752.83667365,  657.42318918,\n",
       "        672.54504956, 1916.71471369, 1579.71829389, 1259.65649621,\n",
       "       1161.89309466,   78.27711213,  321.06276748, 1987.08704442,\n",
       "       1991.64007752,  801.74865693,   44.15218848, 1680.22722057,\n",
       "        415.28773863, 2030.59706654, 1410.54458853,  827.99736267,\n",
       "       1914.89571524,  779.64107305, 1315.98517216,  995.81898428,\n",
       "       1962.81276092,   37.78720209, 1980.91930181,  383.52078294,\n",
       "        156.48517227, 1187.88104201, 1835.16187018, 1657.9475526 ,\n",
       "       1463.59758735,  652.42853164,  630.99806655,  278.58246055,\n",
       "        219.35503048, 1965.54531694,  532.81795734, 1180.64471246,\n",
       "        221.86845877, 1448.12285809, 1272.47920058, 1506.91533332,\n",
       "        877.81243526, 1533.27459165, 1846.13362185, 1117.07998596,\n",
       "        935.10533344,  173.72438249,  905.51412664, 1826.45800923,\n",
       "        527.34129821, 1514.31216945, 1742.42368379, 1443.47525959,\n",
       "       1532.46211991,  985.35514902,  991.40976474, 1389.04702378,\n",
       "       1858.66047981, 1498.91824395,  557.2495713 , 1649.84244176,\n",
       "        696.24744556, 1135.95750648,  675.65345808, 1195.13413632,\n",
       "       1474.77239934, 1019.83874957,  413.99465105, 1174.80398993,\n",
       "       1253.71083026,  702.69953524,  310.13544938, 1188.08888508,\n",
       "        769.63472742, 1356.27270555, 1277.76851095, 1036.03266505,\n",
       "        917.37361695, 1664.5382884 , 1537.37417109, 1295.97056497,\n",
       "        650.02845615, 1391.0982678 , 1860.80377271, 1559.41150554,\n",
       "       1723.68166266,  366.73026785,  376.26589252,  655.67323076,\n",
       "        582.06277506,  953.12011419,  707.63277098, 1471.88797802,\n",
       "        955.83002377, 1979.94241179,  551.23261571, 1891.45028657,\n",
       "       1334.17047091,  585.97662198, 1657.87982573,   88.48636516,\n",
       "        551.98726762, 1672.84295886,  514.48002038, 1968.45470287,\n",
       "       1930.01890974, 1106.21999914, 2029.64483388, 1936.93922047,\n",
       "       2009.03745215,  423.44611846, 1508.5872239 , 1937.85328674,\n",
       "        658.91530177, 1781.97029154,  118.7782854 ,  516.93077331,\n",
       "       1624.20265668,  557.32512534,  913.14610992, 1573.11500576,\n",
       "        111.86273927,  306.96740875,  135.9442217 ,  841.84669809,\n",
       "        117.52363305, 1240.33550551,  833.99596391,  637.26176268,\n",
       "        932.68890562,  722.56821402, 1143.77888908,  869.78435766,\n",
       "       1805.49648438,   39.63244559,  709.33661336, 1962.94920334,\n",
       "        830.72166218,  205.41092703, 1441.31483938, 1100.91538133,\n",
       "       1952.22472951,  971.34260791, 2024.71828694, 1617.34015967,\n",
       "        346.05268877,  621.71646329, 1837.80889051,   53.89127294,\n",
       "        206.80241692, 1219.02234168, 1594.05707241, 1465.47982043,\n",
       "       2005.49018581, 1510.99298311,  420.43665283, 1826.08835956,\n",
       "       1346.45030688,  631.9542632 ,  146.71701904,  316.59330873,\n",
       "        103.76639451,  314.07485368,  982.44845689, 1954.48718006,\n",
       "       1760.22415258, 1655.41985492,   80.86087757,  489.41319561,\n",
       "       2000.8027661 ,  378.7429522 , 1054.21032856, 1742.78528281,\n",
       "       2002.61379247,  430.93815473, 1945.1099806 , 1083.63811494,\n",
       "       1162.96597583,   52.89374733,  776.40989722,  678.05227002,\n",
       "       1546.48055287, 1735.20519898, 1230.64361843, 1504.71969581,\n",
       "        442.75522055,  931.89706395,  166.48937367,  858.96850954,\n",
       "        508.68119082, 1790.67040866, 1051.54924145,  792.57608464,\n",
       "        305.40353086,   49.41515202, 1860.33609494,  990.19072899,\n",
       "        572.74577383,  428.04575911, 1395.18378543,  594.94172819])"
      ]
     },
     "execution_count": 22,
     "metadata": {},
     "output_type": "execute_result"
    }
   ],
   "source": [
    "cat_old['XWIN_IMAGE']"
   ]
  },
  {
   "cell_type": "code",
   "execution_count": null,
   "metadata": {},
   "outputs": [],
   "source": [
    "# Your work here..."
   ]
  },
  {
   "cell_type": "markdown",
   "metadata": {},
   "source": [
    "**(c)** Using these two sky coordinates, estimate the rate of proper motion (in mas/yr) of the star between the two exposures.  Note that proper motions are traditionally given in real angular motions, so that (RA PM) = (difference in RA) * cos(dec) / (time interval). \\[You can ignore the fact that there might be parallax motion mixed in here.\\]\n",
    "\n",
    "Give an uncertainty for our measurement as well.  Here we have to be careful, because `ERRAWIN_IMAGE` includes only the shot-noise errors.  It does not include the contribution from atmospheric turbulence, which we know is dominant for brighter stars.  So let's add another 10 mas of uncertainty in quadrature to each coordinate of each measurement as a guess of the size of the turbulence.\n",
    "\n",
    "Does the DES measurement agree with Gaia's estimates?  Are there any reasons it might disagree?\n",
    "```\n",
    "pmra  =  326.06  +- 0.94\tmas/yr\n",
    "pmdec = -124.12 +- 0.81\tmas/yr\n",
    "```"
   ]
  },
  {
   "cell_type": "code",
   "execution_count": null,
   "metadata": {},
   "outputs": [],
   "source": [
    "# Your work here..."
   ]
  },
  {
   "cell_type": "code",
   "execution_count": null,
   "metadata": {},
   "outputs": [],
   "source": []
  }
 ],
 "metadata": {
  "kernelspec": {
   "display_name": "astro",
   "language": "python",
   "name": "astro"
  },
  "language_info": {
   "codemirror_mode": {
    "name": "ipython",
    "version": 3
   },
   "file_extension": ".py",
   "mimetype": "text/x-python",
   "name": "python",
   "nbconvert_exporter": "python",
   "pygments_lexer": "ipython3",
   "version": "3.7.6"
  }
 },
 "nbformat": 4,
 "nbformat_minor": 4
}
