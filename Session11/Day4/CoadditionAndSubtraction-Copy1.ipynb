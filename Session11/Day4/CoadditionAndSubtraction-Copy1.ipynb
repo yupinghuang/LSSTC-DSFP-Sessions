{
 "cells": [
  {
   "cell_type": "markdown",
   "metadata": {},
   "source": [
    "# Coaddition and Subtraction\n",
    "\n",
    "Version 0.1\n",
    "\n",
    "By Yusra AlSayyad (Princeton University)\n",
    "\n",
    "This notebook provides some problems for ground-based coaddition and subtraction.\n",
    "\n",
    "We add and subtract images for different purposes: addition to get the benefits of longer exposures and subtraction to reveal what has changed.  However, in order to perform either operation, the following  image characteristics need to be normalized:\n",
    "* Astrometric calibration (i.e. WCS)\n",
    "* Photometric calibration (i.e. Zeropoint)\n",
    "* Background level\n",
    "* Point Spread Function (PSF) (optional for coaddition)\n",
    "\n",
    "For these problems, we'll assume that we have images that have already been normalized for WCS, zeropoint, and background variations.\n",
    "\n",
    "### Problem 1) Expected depth of a coadd\n",
    "\n",
    "In order of magnitude calculations, you may hear people throw around the statement that the depth of a coadd increases by a factor of $\\sqrt{N}$  for N single-epoch images. Where does this come from? Under what conditions is this a good approximation?\n",
    "\n",
    "We are going to use our same star + noise 1-D simulation from  `IntroductionToBasicStellarPhotometry.ipynb` and `FindingSources.ipynb`:"
   ]
  },
  {
   "cell_type": "code",
   "execution_count": 1,
   "metadata": {},
   "outputs": [],
   "source": [
    "import matplotlib.pyplot as plt\n",
    "import numpy as np\n",
    "from matplotlib.ticker import MultipleLocator\n",
    "from scipy.stats import norm"
   ]
  },
  {
   "cell_type": "code",
   "execution_count": 2,
   "metadata": {},
   "outputs": [],
   "source": [
    "def pixel_plot(pix, counts, fig=None, ax=None): \n",
    "    '''Make a pixelated 1D plot'''\n",
    "    if fig is None and ax is None:\n",
    "        fig, ax = plt.subplots()\n",
    "    \n",
    "    ax.step(pix, counts, \n",
    "            where='post')\n",
    "    \n",
    "    ax.set_xlabel('pixel number')\n",
    "    ax.set_ylabel('relative counts')\n",
    "    ax.xaxis.set_minor_locator(MultipleLocator(1))\n",
    "    ax.xaxis.set_major_locator(MultipleLocator(5))\n",
    "    fig.tight_layout()\n",
    "    return fig, ax\n",
    "\n",
    "# It is sufficient to copy and paste from\n",
    "# your introductionToBasicStellarPhotometry noteboook\n",
    "\n",
    "def phi(x, mu, fwhm):\n",
    "    \"\"\"Evalute the 1d PSF N(mu, sigma^2) along x\n",
    "    \n",
    "    Parameters\n",
    "    ----------\n",
    "    x : array-like of shape (n_pixels,)\n",
    "        detector pixel number\n",
    "    mu : float\n",
    "        mean position of the 1D star\n",
    "    fwhm : float\n",
    "        Full-width half-maximum of the stellar profile on the detector\n",
    "    \n",
    "    Returns\n",
    "    -------\n",
    "    flux : array-like of shape (n_pixels,)\n",
    "        Flux in each pixel of the input array\n",
    "    \"\"\"\n",
    "    sigma = fwhm/2.3548\n",
    "    flux = 1/np.sqrt(2*np.pi*sigma**2)*np.exp(-(x - mu)**2/(2*sigma**2))\n",
    "    return flux\n",
    "\n",
    "\n",
    "# Define your image simulation function to\n",
    "# It is sufficient to copy and paste from\n",
    "# your introductionToBasicStellarPhotometry noteboook\n",
    "# Note that the background S should now be supplied as \n",
    "# an array of length (x) or a constant. \n",
    "\n",
    "def simulate(x, mu, fwhm, S, F):\n",
    "    \"\"\"simulate a noisy stellar signal\n",
    "    \n",
    "    Parameters\n",
    "    ----------\n",
    "    x : array-like\n",
    "        detector pixel number\n",
    "    mu : float\n",
    "        mean position of the 1D star\n",
    "    fwhm : float\n",
    "        Full-width half-maximum of the stellar profile on the detector\n",
    "    S : float or array-like of len(x)\n",
    "        Sky background for each pixel\n",
    "    F : float\n",
    "        Total stellar flux\n",
    "    \n",
    "    Returns\n",
    "    -------\n",
    "    noisy_counts : array-like (same shape as x)\n",
    "        the (noisy) number of counts in each pixel\n",
    "    \"\"\"\n",
    "    source = F * phi(x+np.mean(np.diff(x))/2, mu, fwhm)\n",
    "    sky_plus_source = S * np.ones_like(x) + source\n",
    "    noisy_counts = np.random.normal(sky_plus_source, np.sqrt(sky_plus_source))\n",
    "    return noisy_counts"
   ]
  },
  {
   "cell_type": "markdown",
   "metadata": {},
   "source": [
    "### Problem 1.1) Make a simple mean coadd\n",
    "\n",
    "Simulate N observations of a star, and coadd them by taking the mean of the N observations. (We can only do this because they are already astrometrically and photometrically aligned and have the same background value.)"
   ]
  },
  {
   "cell_type": "code",
   "execution_count": 4,
   "metadata": {},
   "outputs": [
    {
     "data": {
      "text/plain": [
       "(<Figure size 432x288 with 1 Axes>,\n",
       " <matplotlib.axes._subplots.AxesSubplot at 0x7f23983aff90>)"
      ]
     },
     "execution_count": 4,
     "metadata": {},
     "output_type": "execute_result"
    },
    {
     "data": {
      "image/png": "[encoded data removed]",
      "text/plain": [
       "<Figure size 432x288 with 1 Axes>"
      ]
     },
     "metadata": {
      "needs_background": "light"
     },
     "output_type": "display_data"
    }
   ],
   "source": [
    "MU = 35\n",
    "S = 100\n",
    "F = 100\n",
    "FWHM = 5\n",
    "\n",
    "x = np.arange(100)\n",
    "\n",
    "# simulate a single observation of the star and plot:\n",
    "y = simulate(x, MU, FWHM, S, F)\n",
    "pixel_plot(x, y)"
   ]
  },
  {
   "cell_type": "code",
   "execution_count": 7,
   "metadata": {},
   "outputs": [],
   "source": [
    "# Write a simulateN function that returns an array of size (N, x)\n",
    "# representing N realizations of your simulated star\n",
    "# This will stand in as a stack of multiple observations of one star\n",
    "\n",
    "def simulateN(x, mu, fwhm, S, F, N):\n",
    "    \"\"\"simulate a noisy stellar signal\n",
    "    \n",
    "    Parameters\n",
    "    ----------\n",
    "    x : array-like\n",
    "        detector pixel number\n",
    "    mu : float\n",
    "        mean position of the 1D star\n",
    "    fwhm : float\n",
    "        Full-width half-maximum of the stellar profile on the detector\n",
    "    S : float or array-like of len(x)\n",
    "        Sky background for each pixel\n",
    "    F : float\n",
    "        Total stellar flux\n",
    "    N: int\n",
    "        Number of images to simulate\n",
    "        \n",
    "    Returns\n",
    "    -------\n",
    "    noisy_counts : array-like of shape (N, x)\n",
    "        the (noisy) number of counts in each pixel\n",
    "    \"\"\"\n",
    "    noisy_counts = np.empty(shape=(N, x.shape[0]))\n",
    "    for i in range(N):\n",
    "        noisy_counts[i] = simulate(x, mu, fwhm, S, F)\n",
    "    return noisy_counts"
   ]
  },
  {
   "cell_type": "code",
   "execution_count": 8,
   "metadata": {},
   "outputs": [
    {
     "data": {
      "text/plain": [
       "(<Figure size 432x288 with 1 Axes>,\n",
       " <matplotlib.axes._subplots.AxesSubplot at 0x7f23437a0750>)"
      ]
     },
     "execution_count": 8,
     "metadata": {},
     "output_type": "execute_result"
    },
    {
     "data": {
      "image/png": "[encoded data removed]",
      "text/plain": [
       "<Figure size 432x288 with 1 Axes>"
      ]
     },
     "metadata": {
      "needs_background": "light"
     },
     "output_type": "display_data"
    }
   ],
   "source": [
    "# simulate N=50 images with the same star\n",
    "x = np.arange(100)\n",
    "stack = simulateN(x, MU, FWHM, S, F, 50)\n",
    "# where stack is an array of size (50, 100) representing a pile of 50 images with 100 pixels\n",
    "\n",
    "# coadd by taking the mean and plot the result\n",
    "coadd = np.mean(stack, axis=0)\n",
    "pixel_plot(x, coadd)\n",
    "\n",
    "# Try a few different N to see how it affects the S/N of your result\n"
   ]
  },
  {
   "cell_type": "code",
   "execution_count": 12,
   "metadata": {},
   "outputs": [
    {
     "data": {
      "image/png": "[encoded data removed]",
      "text/plain": [
       "<Figure size 432x288 with 1 Axes>"
      ]
     },
     "metadata": {
      "needs_background": "light"
     },
     "output_type": "display_data"
    }
   ],
   "source": [
    "fig, ax = plt.subplots()\n",
    "# Plot the coadds of N=[1, 10, and 100] on the same plot:\n",
    "for n in [1, 10, 100]:\n",
    "    stack = simulateN(x, MU, FWHM, S, F, n)\n",
    "    pixel_plot(x, np.mean(stack, axis=0), fig=fig, ax=ax)\n"
   ]
  },
  {
   "cell_type": "markdown",
   "metadata": {},
   "source": [
    "### Problem 1.2)  SNR vs N\n",
    "\n",
    "Now compute the observed SNR of the simulated star on each coadd and compare to the expected SNR in the idealized case. The often repeated mnemonic for SNR inscrease as a function of number of images, $N$, is that noise decreses like $\\sqrt{N}$. This is of course idealized case where the noise in each observation is identical.\n",
    "\n",
    "Using your `simulateN` function, simulate a series of mean coadds with increasing N.\n",
    "\n",
    "* First, plot the empirical noise/uncertainty/stdev as a function of N. and overplot the expected uncertainty given the input sky level. You can use an area you know isn't touched by the star. \n",
    "* Next, plot the empirical SNR of the star (measured flux/fluxErr) as a function of N. Overplot the expected SNR. You can assume you know the sky level. \n",
    "\n",
    "Your expected scaling with N should roughly track your empirical estimate. "
   ]
  },
  {
   "cell_type": "code",
   "execution_count": null,
   "metadata": {},
   "outputs": [],
   "source": [
    "# complete\n",
    "\n",
    "# hint. One way to start this\n",
    "# std = []\n",
    "# flux = []\n",
    "# Ns = np.arange(1, 1000, 5)\n",
    "# for N in Ns:\n",
    "    # y = simulateN(...)\n",
    "    # complete\n",
    "    \n",
    "# plt.plot(Ns, ...,  label=\"coadd\")\n",
    "# plt.plot(Ns, ..., label=\"expected\")\n",
    "# plt.xlabel('N')\n",
    "# plt.ylabel('pixel noise')\n",
    "# plt.legend()"
   ]
  },
  {
   "cell_type": "code",
   "execution_count": null,
   "metadata": {},
   "outputs": [],
   "source": [
    "# complete\n",
    "\n",
    "# plt.plot(Ns, ...,  label=\"coadd\")\n",
    "# plt.plot(Ns, ..., label=\"expected\")\n",
    "# plt.xlabel('N')\n",
    "# plt.ylabel('PSF Flux SNR')\n",
    "# plt.legend()"
   ]
  },
  {
   "cell_type": "code",
   "execution_count": null,
   "metadata": {},
   "outputs": [],
   "source": []
  },
  {
   "cell_type": "markdown",
   "metadata": {},
   "source": [
    "## Problem 2) PSFs and Image weights in coadds \n",
    "\n",
    "Problem (1) pretends that the input images are identical in quality, however this is never the case in practice. In practice, adding another image does not necessarily increase the SNR. For example, imagine you have two exposures, but in one the dome light was accidentally left on. A coadd with these two images weighted equally will have a worse SNR than the first image alone. Therefore the images should be aggregated with a weighted mean, so that images of poor quality don't degrade the quality of the coadd. What weights to we pick?\n",
    "\n",
    "Weights can be chosen to either minimize the variance on the coadd or maximize the SNR of point sources on the coadd. "
   ]
  },
  {
   "cell_type": "markdown",
   "metadata": {},
   "source": [
    "#### Some background:\n",
    "\n",
    "Assuming that all noise sources are independent, the SNR of the measurement of flux from a star is:\n",
    "\\begin{equation}\n",
    "SNR \\propto {{N_{\\rm photons}}\\over{ \\sigma_{\\rm sky}} \\sqrt{A} },\n",
    "\\end{equation}\n",
    "where $N_{\\rm photons}$ is the number of photons detected from the star,\n",
    "$A$ is the area in pixels covered by the star.\n",
    "The per-pixel sky noise  $\\sigma_{sky}$ includes all sources of noise: dark current, read noise and sky-background, and it coded in the variance plane of the image. For the epoch $i$,  $\\sigma^2_{i, {\\rm sky}}$ is the average of the variance plane.\n",
    "\n",
    "The $N_{\\rm photons}$ is proportional to transparency $T$, and the area that the stellar photons cover is determined by the seeing: $A \\propto {\\rm FWHM}^2$.\n",
    " \n",
    "Therefore, a **coadd optimized for point-source detection** would, to weight each image by the SNR$^2$, use the following as weights which prefers good-seeing epochs taken when the sky is transparent and dark.\n",
    "\\begin{align}\n",
    "w_i & = {\\rm SNR}^2 \\propto {{T_i^2}\\over{{\\rm FWHM_i}^2 \\sigma_i^2}}.\n",
    "\\end{align} \n",
    " \n",
    "\n",
    "The usual inverse-variance weighting which produces the **minimum-variance co-add**, is given by, \n",
    "\\begin{align}\n",
    "w_i & =T_i^2/\\sigma_i^2\n",
    "\\end{align} \n",
    "\n",
    "In practice, the factor of $T_i^2$ is incorporated into the variance when flux-scaling the single-epoch images to a common zeropoint. This step multiplies the image by a scale-factor, which increases the variance of the image by the square of the scale factor. The scale factor is inversely proportional to the transparency, so that\n",
    "$\\sigma_{scaled}= \\sigma/T$. \n",
    "\n",
    "For this problem assume the images are all on the same zeropoint (like problem 1) i.e. T=1. "
   ]
  },
  {
   "cell_type": "markdown",
   "metadata": {},
   "source": [
    "### Problem 2.1  Weighting images in Variable Sky\n",
    "\n",
    "Now simulate 50 observations of stars with Sky `S` ranging from 100 to 1000. Remember to subtract this background off before stacking this time! Plot the plain (unweighted) mean coadd vs. the minimum variance coadd. Weights should add up to 1. What's the empirical noise estimate of the coadd?"
   ]
  },
  {
   "cell_type": "code",
   "execution_count": null,
   "metadata": {},
   "outputs": [],
   "source": [
    "# complete"
   ]
  },
  {
   "cell_type": "markdown",
   "metadata": {},
   "source": [
    "### Problem 2.2  Weighting images in Variable Seeing\n",
    "\n",
    "Simulate 50 observations with FWHM's ranging from 2-10 pixels. Keep the flux amplitude `F`, and sky noise `S` both fixed. \n",
    "Generate two coadds, (1) with the weights that minimize variance and (2) with the weights that maximize point source SNR. Weights should add up to 1. Plot both coadds."
   ]
  },
  {
   "cell_type": "code",
   "execution_count": null,
   "metadata": {},
   "outputs": [],
   "source": [
    "# complete"
   ]
  },
  {
   "cell_type": "markdown",
   "metadata": {},
   "source": [
    "### Problem 2.3 Image variance vs per pixel variance (Challenge Problem)\n",
    "\n",
    "Why do we use per image variances instead of per pixel variances? Let's see! Start tracking the per-pixel variance when you simulate the star. Make a coadd of 200 observations with FWHM's ranging from 2 to 20 pixels.  Make a coadd weighted by the per-pixel inverse variance. How does the profile of the star look in this coadd compared to an unweighted coadd and compared to the coadd with the $w_i  = \\frac{1}{{\\rm FWHM_i}^2 \\sigma_i^2}$? (You may have to plot the difference to see the change). "
   ]
  },
  {
   "cell_type": "code",
   "execution_count": null,
   "metadata": {},
   "outputs": [],
   "source": [
    "# complete"
   ]
  },
  {
   "cell_type": "markdown",
   "metadata": {},
   "source": [
    "## Problem 3) Dipoles in Image Subtraction\n",
    "\n",
    "In the lesson, we said that just because you see a dipole in a difference image, does not mean that the astrometric registration is terrible. For this problem, we'll forgo the pixelated simulated star from the previous problems and operate with Gaussian profiles. "
   ]
  },
  {
   "cell_type": "code",
   "execution_count": 13,
   "metadata": {},
   "outputs": [
    {
     "data": {
      "text/plain": [
       "<matplotlib.legend.Legend at 0x7f2342026fd0>"
      ]
     },
     "execution_count": 13,
     "metadata": {},
     "output_type": "execute_result"
    },
    {
     "data": {
      "image/png": "[encoded data removed]",
      "text/plain": [
       "<Figure size 432x288 with 1 Axes>"
      ]
     },
     "metadata": {
      "needs_background": "light"
     },
     "output_type": "display_data"
    }
   ],
   "source": [
    "# Create two Gaussian 1-D profiles with\n",
    "\n",
    "ASTROM_OFFSET = 0.1  # units of e.g. pixels\n",
    "FLUX_SCALE = 1. # units of e.g nanojansky\n",
    "PSF = 1  # rms pixels\n",
    "\n",
    "x = np.linspace(-5, 5)\n",
    "y1 = FLUX_SCALE * norm.pdf(x, ASTROM_OFFSET, PSF)\n",
    "y2 = FLUX_SCALE * norm.pdf(x, -ASTROM_OFFSET, PSF)\n",
    "plt.plot(x, y1, label='profile 1')\n",
    "plt.plot(x, y2, label='profile 2')\n",
    "plt.xlabel('x (pixel)')\n",
    "plt.ylabel('y (flux)')\n",
    "plt.legend()\n"
   ]
  },
  {
   "cell_type": "markdown",
   "metadata": {},
   "source": [
    "### Problem 3.1) Plot the difference of these two profiles:"
   ]
  },
  {
   "cell_type": "code",
   "execution_count": 15,
   "metadata": {},
   "outputs": [
    {
     "data": {
      "text/plain": [
       "Text(0, 0.5, 'y (flux)')"
      ]
     },
     "execution_count": 15,
     "metadata": {},
     "output_type": "execute_result"
    },
    {
     "data": {
      "image/png": "[encoded data removed]",
      "text/plain": [
       "<Figure size 432x288 with 1 Axes>"
      ]
     },
     "metadata": {
      "needs_background": "light"
     },
     "output_type": "display_data"
    }
   ],
   "source": [
    "plt.plot(x, y2 - y1)\n",
    "plt.xlabel('x (pixel)')\n",
    "plt.ylabel('y (flux)')"
   ]
  },
  {
   "cell_type": "markdown",
   "metadata": {},
   "source": [
    "### Problem 3.2)  What if we have amazing astrometric registration\n",
    "and shrink the astrometric offset by a factor of a thousand. Is there a star sufficiently bright to produce the same dipole? What is its `FLUX SCALE`?"
   ]
  },
  {
   "cell_type": "code",
   "execution_count": 21,
   "metadata": {},
   "outputs": [
    {
     "data": {
      "text/plain": [
       "<matplotlib.legend.Legend at 0x7f234178f650>"
      ]
     },
     "execution_count": 21,
     "metadata": {},
     "output_type": "execute_result"
    },
    {
     "data": {
      "image/png": "[encoded data removed]",
      "text/plain": [
       "<Figure size 432x288 with 1 Axes>"
      ]
     },
     "metadata": {
      "needs_background": "light"
     },
     "output_type": "display_data"
    }
   ],
   "source": [
    "ASTROM_OFFSET = 0.0001 \n",
    "PSF = 1. \n",
    "FLUX_SCALE2 = 500\n",
    "\n",
    "# complete \n",
    "y1_amazing = FLUX_SCALE2 * norm.pdf(x, ASTROM_OFFSET, PSF)\n",
    "y2_amazing = FLUX_SCALE2 * norm.pdf(x, -ASTROM_OFFSET, PSF)\n",
    "\n",
    "# Plot both dipoles (for the offset=0.1 and the offset=0.0001 in the same figure.\n",
    "plt.plot(x, y2 - y1, label='orig')\n",
    "plt.plot(x, y2_amazing - y1_amazing, label='amaz')\n",
    "plt.xlabel('x (pixel)')\n",
    "plt.ylabel('y (flux)')\n",
    "plt.legend()\n",
    "# Same or different subplots up to you. "
   ]
  },
  {
   "cell_type": "markdown",
   "metadata": {},
   "source": [
    "### Problem 3.3) Distance between peaks. \n",
    "\n",
    "Does the distance between the dipole's positive and negative peaks depend on the astrometric offset? If not, what *does* it depend on?  You can answer this by vizualizing the dipoles vs offsets. But for a **challenge, measure the distance between peaks** and plot them as a function of astrometric offset or another factor. "
   ]
  },
  {
   "cell_type": "code",
   "execution_count": 31,
   "metadata": {},
   "outputs": [],
   "source": [
    "def dist(x, delta_y):\n",
    "    return x[np.argmin(y)] - x[np.argmax(y)]"
   ]
  },
  {
   "cell_type": "code",
   "execution_count": 32,
   "metadata": {},
   "outputs": [
    {
     "data": {
      "text/plain": [
       "1.6326530612244898"
      ]
     },
     "execution_count": 32,
     "metadata": {},
     "output_type": "execute_result"
    }
   ],
   "source": [
    "dist(x, y2 - y1)"
   ]
  },
  {
   "cell_type": "code",
   "execution_count": 38,
   "metadata": {},
   "outputs": [],
   "source": [
    "fluxes = np.arange(1., 1001, 50)\n",
    "dists = np.zeros_like(fluxes)\n",
    "\n",
    "for i, f in enumerate(fluxes):\n",
    "    yy1 = f * norm.pdf(x, ASTROM_OFFSET, PSF)\n",
    "    yy2 = f * norm.pdf(x, -ASTROM_OFFSET, PSF)\n",
    "    dists[i] = dist(x, yy2 - yy1)"
   ]
  },
  {
   "cell_type": "code",
   "execution_count": 41,
   "metadata": {},
   "outputs": [
    {
     "data": {
      "text/plain": [
       "Text(0, 0.5, 'Distance')"
      ]
     },
     "execution_count": 41,
     "metadata": {},
     "output_type": "execute_result"
    },
    {
     "data": {
      "image/png": "[encoded data removed]",
      "text/plain": [
       "<Figure size 432x288 with 1 Axes>"
      ]
     },
     "metadata": {
      "needs_background": "light"
     },
     "output_type": "display_data"
    }
   ],
   "source": [
    "plt.plot(fluxes, dists)\n",
    "plt.xlabel('Flux')\n",
    "plt.ylabel('Distance')"
   ]
  },
  {
   "cell_type": "code",
   "execution_count": 43,
   "metadata": {},
   "outputs": [],
   "source": [
    "offsets = 10.0 ** np.array([-4, -3, -2, -1, 0, 1])"
   ]
  },
  {
   "cell_type": "code",
   "execution_count": 48,
   "metadata": {},
   "outputs": [],
   "source": [
    "dists2 = np.zeros_like(offsets)\n",
    "\n",
    "for i, ao in enumerate(offsets):\n",
    "    yy1 = FLUX_SCALE * norm.pdf(x, ao, PSF)\n",
    "    yy2 = FLUX_SCALE * norm.pdf(x, -ao, PSF)\n",
    "    dists2[i] = dist(x, yy2 - yy1)"
   ]
  },
  {
   "cell_type": "code",
   "execution_count": 49,
   "metadata": {},
   "outputs": [
    {
     "data": {
      "text/plain": [
       "Text(0, 0.5, 'Distance')"
      ]
     },
     "execution_count": 49,
     "metadata": {},
     "output_type": "execute_result"
    },
    {
     "data": {
      "image/png": "[encoded data removed]",
      "text/plain": [
       "<Figure size 432x288 with 1 Axes>"
      ]
     },
     "metadata": {
      "needs_background": "light"
     },
     "output_type": "display_data"
    }
   ],
   "source": [
    "plt.plot(offsets, dists2)\n",
    "plt.xlabel('Flux')\n",
    "plt.ylabel('Distance')"
   ]
  },
  {
   "cell_type": "markdown",
   "metadata": {},
   "source": [
    "### Problem  3.4) \n",
    "In the problem setup we assumed that the astrometric error was < the PSF width. Is this assumption likely to hold in an image you'd get from a wide-field imager like Rubin's?"
   ]
  }
 ],
 "metadata": {
  "kernelspec": {
   "display_name": "astro",
   "language": "python",
   "name": "astro"
  },
  "language_info": {
   "codemirror_mode": {
    "name": "ipython",
    "version": 3
   },
   "file_extension": ".py",
   "mimetype": "text/x-python",
   "name": "python",
   "nbconvert_exporter": "python",
   "pygments_lexer": "ipython3",
   "version": "3.7.6"
  }
 },
 "nbformat": 4,
 "nbformat_minor": 4
}
