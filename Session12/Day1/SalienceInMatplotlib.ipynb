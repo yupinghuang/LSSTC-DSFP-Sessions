{
 "cells": [
  {
   "cell_type": "code",
   "execution_count": null,
   "metadata": {},
   "outputs": [],
   "source": [
    "import numpy as np\n",
    "import pandas as pd\n",
    "import matplotlib.pyplot as plt\n",
    "\n",
    "from sklearn.datasets import make_classification"
   ]
  },
  {
   "cell_type": "code",
   "execution_count": null,
   "metadata": {},
   "outputs": [],
   "source": [
    "%matplotlib notebook"
   ]
  },
  {
   "cell_type": "markdown",
   "metadata": {},
   "source": [
    "# Salience in Matplotlib: Considering the Defaults For Basic Plotting\n",
    "\n",
    "**Version 0.1**\n",
    "\n",
    "***\n",
    "By AA Miller \n",
    "5 Jan 2021"
   ]
  },
  {
   "cell_type": "markdown",
   "metadata": {},
   "source": [
    "As discussed in today's lecture, and previous lectures, there is no limit on the number of choices you have when developing visual communications. This ranges from the relatively mundane – should the plot axis be 1 mm or 1.3 mm thick? – to the subtle and vitally complex – should the isolated 7-$\\sigma$ outlier be highlighted or just referenced in a caption? \n",
    "\n",
    "All of these choices (yes, even something as mundane as the width of the axis) affect the salience of the visualization."
   ]
  },
  {
   "cell_type": "markdown",
   "metadata": {},
   "source": [
    "To better understand how to build salience *in `matplotlib`* today's problems will first focus on the default settings. After examining the defaults, and identifying situations when they simply will not do, we will apply what we have learned to improve the salience of *an existing* image. "
   ]
  },
  {
   "cell_type": "markdown",
   "metadata": {},
   "source": [
    "**Important disclaimer** Many DSFP notebooks are designed with a goal to *do the thing*. While this notebook also has a *do the thing* component (namely to examine plotting choices in `matplotlib`), it is more essential to *consider the output*. Rather than rushing to \"level up\" each problem, consider the visual output *and how it affects what you are communicating to your audience*."
   ]
  },
  {
   "cell_type": "markdown",
   "metadata": {},
   "source": [
    "## Problem 1) Matplotlib Defaults & A Basic Plot\n",
    "\n",
    "The single most influential factor in the final appearance of the visualizations that you create is the default settings for your preferred plotting software,$^\\dagger$ whether you typically use `matplotlib` or something else. \n",
    "\n",
    "Therefore it is important to understand the defaults, and how they are secretly (or not so secretly) affecting your output.\n",
    "\n",
    "$^\\dagger$ There are some exceptions like [D3.js](https://d3js.org/) where literally every element of the visualization has to be specified by the user."
   ]
  },
  {
   "cell_type": "markdown",
   "metadata": {},
   "source": [
    "The default settings in `matplotlib` [changed dramatically between versions 1.0 and 2.0](https://matplotlib.org/users/dflt_style_changes.html). These changes were all for the better, but, as the docs say \"it is impossible to select the best default for all cases.\""
   ]
  },
  {
   "cell_type": "markdown",
   "metadata": {},
   "source": [
    "**Problem 1a**\n",
    "\n",
    "Create a \"toy\" data set using the [`make_classification`](https://scikit-learn.org/stable/modules/generated/sklearn.datasets.make_classification.html#sklearn.datasets.make_classification) function from [`scikit-learn`](https://scikit-learn.org/stable/index.html) to generate 3 different classes in a 4 dimensional data space.\n",
    "\n",
    "*Hint – execute the cell below*"
   ]
  },
  {
   "cell_type": "code",
   "execution_count": null,
   "metadata": {},
   "outputs": [],
   "source": [
    "np.random.seed(2003)\n",
    "X, y = make_classification(n_samples=367, n_classes=3, \n",
    "                           n_features=4, n_redundant=0, n_informative=4,\n",
    "                           flip_y=0.0, weights=[0.575,0.42, 0.005])"
   ]
  },
  {
   "cell_type": "markdown",
   "metadata": {},
   "source": [
    "Let's unpack what we just did: we created a data set with `n_samples=367` sources, separated across `n_classes=3` different classes, in a `n_features=4` dimensional space. The classes are not balanced, execute the cell below to show that class 2 is quite rare."
   ]
  },
  {
   "cell_type": "code",
   "execution_count": null,
   "metadata": {},
   "outputs": [],
   "source": [
    "np.unique(y, return_counts=True)"
   ]
  },
  {
   "cell_type": "markdown",
   "metadata": {},
   "source": [
    "Recall that `scikit-learn` feature arrays (typically labeled `X`) are 2D `numpy` arrays where each row corresponds to an individual source and each column corresponds to a different feature. We will mostly focus on features (i.e., columns) 1 and 2 and classes 0 and 1 today (the other class will become important in the end). "
   ]
  },
  {
   "cell_type": "markdown",
   "metadata": {},
   "source": [
    "**Problem 1b) A scatter plot function**\n",
    "\n",
    "Create a function `basic_scatter()` that takes as arguments a maplotlib axis instance `ax`, a scikit-learn data array `X`, and optional `**kwargs`. The function should add a scatter plot to the axis instance using the first two features in `X`, and then return `ax`. Note that this construction is a little silly, but it will allow us to easily loop and examine several different options in subsequent problems.\n",
    "\n",
    "*Hint - use the [`plt.plot()`](https://matplotlib.org/api/_as_gen/matplotlib.lines.Line2D.html#matplotlib.lines.Line2D.set_linestyle) call to create the scatter plot. This will require \"turning off\" the lines `ls = 'None'`, and specifying a marker `m = 'o'`. We will start with a circle but examine this choice later.*"
   ]
  },
  {
   "cell_type": "code",
   "execution_count": null,
   "metadata": {},
   "outputs": [],
   "source": [
    "def basic_scatter( # complete\n",
    "    \"\"\"Add simple scatter plot to axis object\n",
    "    \n",
    "    Parameters\n",
    "    ----------\n",
    "    ax : matplotlib.pyplot axis instance\n",
    "        The axis object that will have/display the scatter plot\n",
    "    \n",
    "    X : {array-like, sparse matrix} of shape (n_samples, n_features)\n",
    "        The input samples.\n",
    "    \n",
    "    m : matplotlib marker, optional (default = 'o')\n",
    "        A matplotlib marker, see: \n",
    "        https://matplotlib.org/api/_as_gen/matplotlib.lines.Line2D.html#matplotlib.lines.Line2D.set_marker \n",
    "    \n",
    "    Returns\n",
    "    -------\n",
    "    \n",
    "    ax : matplotlib.pyplot axis instance\n",
    "        The axis object with an associated scatter plot\n",
    "    \"\"\"\n",
    "    \n",
    "# complete\n",
    "# complete\n",
    "# complete\n",
    "# complete"
   ]
  },
  {
   "cell_type": "markdown",
   "metadata": {},
   "source": [
    "**Problem 1c) A histogram function**\n",
    "\n",
    "Create a function `basic_histogram()` that takes as arguments a maplotlib axis instance `ax`, a scikit-learn data array `X`, and optional `**kwargs`. The function should add a histogram to the axis instance using the first feature in `X`, and then return `ax`. Again, this is silly, but it will be useful later."
   ]
  },
  {
   "cell_type": "code",
   "execution_count": null,
   "metadata": {},
   "outputs": [],
   "source": [
    "def basic_histogram( # complete\n",
    "    \"\"\"Add simple histogram to axis object\n",
    "    \n",
    "    ### Write your own docstrings ###\n",
    "    \"\"\"\n",
    "    \n",
    "# complete\n",
    "# complete\n",
    "# complete\n",
    "# complete"
   ]
  },
  {
   "cell_type": "markdown",
   "metadata": {},
   "source": [
    "**Problem 1d) The basic figure**\n",
    "\n",
    "Execute the cell below to create a side-by-side visualization showing a scatter plot of the first two features in the `X` array ($\\mathtt{X1}$ vs. $\\mathtt{X0}$) in the left panel, and a histrogram of the first feature $\\mathtt{X0}$ in the right panel.\n",
    "\n",
    "*Hint - if there are only a few data points, you have indexed the `X` array incorrectly. If you do not have a scatter plot, you have either not specified a marker style and/or set `ls = 'None'` in the call to `basic_scatter`.*"
   ]
  },
  {
   "cell_type": "code",
   "execution_count": null,
   "metadata": {},
   "outputs": [],
   "source": [
    "fig, axes = plt.subplots(1, 2, sharex=True,\n",
    "                         figsize=(8,4))\n",
    "basic_scatter(axes[0], X)\n",
    "basic_histogram(axes[1], X)\n",
    "fig.tight_layout()"
   ]
  },
  {
   "cell_type": "markdown",
   "metadata": {},
   "source": [
    "This now constitutes our \"basic plot\" using the `matplotlib` defaults. (Technically we have specified a marker symbol, though note - this symbol is the default for [`plt.scatter`](https://matplotlib.org/api/_as_gen/matplotlib.pyplot.scatter.html).)\n",
    "\n",
    "Now we will change the `matplotlib` parameters and examine simple ways to more effectively communicate (hopefully it is now clear why \"silly\" functions were constructed for this problem)."
   ]
  },
  {
   "cell_type": "markdown",
   "metadata": {},
   "source": [
    "## Problem 2) Symbols\n",
    "\n",
    "The above figure is not satisfying. The large number of overlapping points near the center of the scatter plot obscures the true density of the data."
   ]
  },
  {
   "cell_type": "markdown",
   "metadata": {},
   "source": [
    "**Problem 2a**\n",
    "\n",
    "Remake the scatter plot from above using the `matplotlib` point symbol (`m='.'`), which is also a circle, but by default smaller than the `'o'` marker symbol.\n",
    "\n",
    "*Hint - for the remainder of this problem you can ignore the histogram.*"
   ]
  },
  {
   "cell_type": "code",
   "execution_count": null,
   "metadata": {},
   "outputs": [],
   "source": [
    "# complete"
   ]
  },
  {
   "cell_type": "markdown",
   "metadata": {},
   "source": [
    "That is better but the problem persists. We can of course always go smaller..."
   ]
  },
  {
   "cell_type": "markdown",
   "metadata": {},
   "source": [
    "**Problem 2b**\n",
    "\n",
    "Remake the scatter plot using the `matplotlib` pixel symbol (`m=','`)."
   ]
  },
  {
   "cell_type": "code",
   "execution_count": null,
   "metadata": {},
   "outputs": [],
   "source": [
    "# complete"
   ]
  },
  {
   "cell_type": "markdown",
   "metadata": {},
   "source": [
    "The points no longer overlap, but they are also nearly illegible. "
   ]
  },
  {
   "cell_type": "markdown",
   "metadata": {},
   "source": [
    "**Problem 2c**\n",
    "\n",
    "Make a grid of 5 side-by-side plots showing the following common symbols: circle `'o'`, square `'s'`, triangle `'^'`, plus sign `'+'`, and hexagon `'h'`. "
   ]
  },
  {
   "cell_type": "code",
   "execution_count": null,
   "metadata": {},
   "outputs": [],
   "source": [
    "fig, axes = plt.subplots( # complete\n",
    "# complete\n",
    "# complete\n",
    "# Complete"
   ]
  },
  {
   "cell_type": "markdown",
   "metadata": {},
   "source": [
    "**Problem 2d**\n",
    "\n",
    "Repeat the same grid using open symbols (i.e., only the outline of the symbol should be displayed). "
   ]
  },
  {
   "cell_type": "code",
   "execution_count": null,
   "metadata": {},
   "outputs": [],
   "source": [
    "# complete"
   ]
  },
  {
   "cell_type": "markdown",
   "metadata": {},
   "source": [
    "If the grid of plots is very small on your screen – be sure to consider each panel in detail (either zoom in, or remake the plot at a larger size, etc). \n",
    "\n",
    "What do you notice?"
   ]
  },
  {
   "cell_type": "markdown",
   "metadata": {},
   "source": [
    "*Write your response here*"
   ]
  },
  {
   "cell_type": "markdown",
   "metadata": {},
   "source": [
    "\n",
    "\n",
    "The open circle is **the most flexible symbol**. Overlapping circles do not create new circles thereby providing a more unique sense of the underlying density.\n",
    "\n",
    "(Quick aside - as N grows very large, plotting the individual points is not informative. Consider alternatives, e.g., contours, 2d histogram, etc.)"
   ]
  },
  {
   "cell_type": "markdown",
   "metadata": {},
   "source": [
    "## Problem 3) Strong Visual Boundaries\n",
    "\n",
    "We have, until now, ignored the different classes in our data set. We will now consider visualizations that feature $> 1$ symbol."
   ]
  },
  {
   "cell_type": "markdown",
   "metadata": {},
   "source": [
    "**Problem 3a**\n",
    "\n",
    "Start with the `matplotlib` defaults and remake the \"basic plot\" from **1d** with different symbols for class 0 and class 1 (ignore class 2 for now)."
   ]
  },
  {
   "cell_type": "code",
   "execution_count": null,
   "metadata": {},
   "outputs": [],
   "source": [
    "class0 = # complete\n",
    "class1 = # complete\n",
    "\n",
    "fig, axes = plt.subplots( # complete\n",
    "    \n",
    "# complete\n",
    "# complete\n",
    "# complete\n",
    "# complete"
   ]
  },
  {
   "cell_type": "markdown",
   "metadata": {},
   "source": [
    "The above plot shows that class 0 and 1 have overlapping distributions, though class 0 tends to have larger (smaller) values of $\\mathtt{X0}$ ($\\mathtt{X1}$) than class 1.\n",
    "\n",
    "We also see that the filled circle performs worse as the number of classes increases, while filled histograms obscure the data in regions that exhibit significant overlap. \n",
    "\n",
    "While minor changes to the above code can rectify these changes, recall that we are showing the defaults for `matplotlib`."
   ]
  },
  {
   "cell_type": "markdown",
   "metadata": {},
   "source": [
    "**Problem 3b**\n",
    "\n",
    "Following **2d** re-make the plot from **3a** using open circles and open histograms. \n",
    "\n",
    "*Hint - use the kwarg `histtype='step'` in the call to `basic_histogram()`*"
   ]
  },
  {
   "cell_type": "code",
   "execution_count": null,
   "metadata": {},
   "outputs": [],
   "source": [
    "# complete\n",
    "# complete\n",
    "# complete"
   ]
  },
  {
   "cell_type": "markdown",
   "metadata": {},
   "source": [
    "This represents an improvement, as we now get a better sense of the data density in regions of overlap.\n",
    "\n",
    "Nevertheless, this representation lacks strong visual boundaries. Only color separates the classes, and, color does not efficiently transmit information. \n",
    "\n",
    "As a rule of thumb it is a good idea to first – build strong visual boundaries, and then – add color (if it is necessary). "
   ]
  },
  {
   "cell_type": "markdown",
   "metadata": {},
   "source": [
    "**Problem 3c**\n",
    "\n",
    "Plot class 0 as an open circle and filled histogram, and plot class 1 as a cross and open histrogram. \n",
    "\n",
    "*Hint - if you are using a for loop the python `zip()` function may come in handy.*"
   ]
  },
  {
   "cell_type": "code",
   "execution_count": null,
   "metadata": {},
   "outputs": [],
   "source": [
    "# complete\n",
    "# complete\n",
    "# complete"
   ]
  },
  {
   "cell_type": "markdown",
   "metadata": {},
   "source": [
    "The visual boundaries between the two classes are now much stronger. While we still use color, we do not rely on color  to tell the difference between the classes.\n",
    "\n",
    "**Problem 3d** \n",
    "\n",
    "Make additional changes to the `kwargs` to build even stronger visual boundaries between the two classes."
   ]
  },
  {
   "cell_type": "code",
   "execution_count": null,
   "metadata": {},
   "outputs": [],
   "source": [
    "# complete\n",
    "# complete\n",
    "# complete"
   ]
  },
  {
   "cell_type": "markdown",
   "metadata": {},
   "source": [
    "Strong visual boundaries are essential for *efficient* communication."
   ]
  },
  {
   "cell_type": "markdown",
   "metadata": {},
   "source": [
    "**Problem 3e**\n",
    "\n",
    "Execute the cell below to see 5 different scatter plots, where only the symbol is being varied. \n",
    "\n",
    "Which combinations lead to strong visual boundaries? Which do not? (You may need to zoom to answer these questions)\n",
    "\n",
    "*Note - I have reduced the size of each class by a factor of 4 to reduce the crowding in these plots*"
   ]
  },
  {
   "cell_type": "code",
   "execution_count": null,
   "metadata": {},
   "outputs": [],
   "source": [
    "fig, axes = plt.subplots(1, 5, sharex=True,\n",
    "                         figsize=(20,4))\n",
    "\n",
    "\n",
    "for ax, sym_pair in zip(axes, [['v', '^'], # triangle up and triangle down\n",
    "                               ['o', 'x'], # circle and x\n",
    "                               ['h', '8'], # hexagon and octogon\n",
    "                               ['s', 'p'], # square and pentagon\n",
    "                               ['*', 'd']  # diamond and star\n",
    "                              ]):\n",
    "    for class_num, (this_class, m,  mec) in enumerate(zip([class0[0][::4], class1[0][::4]],\n",
    "                                                             sym_pair, \n",
    "                                                             ['0.25', 'k'])):\n",
    "        basic_scatter(ax, X[this_class], \n",
    "                      m=m, mfc='None', mec=mec, ms=7,\n",
    "                      label='class {}'.format(class_num))\n",
    "    ax.legend()\n",
    "fig.tight_layout()"
   ]
  },
  {
   "cell_type": "markdown",
   "metadata": {},
   "source": [
    "*Write your responses here*"
   ]
  },
  {
   "cell_type": "markdown",
   "metadata": {},
   "source": [
    "## Problem 4) Axes & Grids\n",
    "\n",
    "By default `matplotlib` has ticks pointing \"out\" and only located on the left and bottom axes (see any plot above to confirm). "
   ]
  },
  {
   "cell_type": "markdown",
   "metadata": {},
   "source": [
    "**Problem 4a** \n",
    "\n",
    "Remake the basic plot (**1d**) with the ticks pointing \"in\" from the axes."
   ]
  },
  {
   "cell_type": "code",
   "execution_count": null,
   "metadata": {},
   "outputs": [],
   "source": [
    "# complete\n",
    "# complete\n",
    "# complete"
   ]
  },
  {
   "cell_type": "markdown",
   "metadata": {},
   "source": [
    "From the histogram we quickly see the problem with ticks that point \"in\" – they can be obscured by the data. Furthermore, while it is not the case here ticks that go \"in\" can be confused with data. For these reasons, ticks that point out are almost always superior. "
   ]
  },
  {
   "cell_type": "markdown",
   "metadata": {},
   "source": [
    "What about the top and right axes? I often prefer these ticks because they make it easier to estimate data values far from the lower-left corner of the figure, but ticks all around can give a porcupine appearance, and lead to confusing grid plot layouts (see e.g., **3e**).\n",
    "\n",
    "Sometimes a better solution, though one that is rarely employed in journal publications, is grid lines. Grid lines eliminate the need to carefully trace ticklines to estimate data values. "
   ]
  },
  {
   "cell_type": "markdown",
   "metadata": {},
   "source": [
    "**Problem 4b**\n",
    "\n",
    "Remake the basic plot (**1d**) with gridlines. \n",
    "\n",
    "*Hint - See [`pyplot.grid()`](https://matplotlib.org/api/_as_gen/matplotlib.pyplot.grid.html) for documentation.*"
   ]
  },
  {
   "cell_type": "code",
   "execution_count": null,
   "metadata": {},
   "outputs": [],
   "source": [
    "# complete\n",
    "# complete\n",
    "# complete"
   ]
  },
  {
   "cell_type": "markdown",
   "metadata": {},
   "source": [
    "On the whole, the default application of grid lines detracts from the basic figure. In the plots above the \"ink to information\" ratio of the grid lines is low. The grid in this case is too dense relative to the data that is being displayed. The grid does, however, make it easier to estimate the coordinates of individual points, or the peak and FWHM of the histogram. "
   ]
  },
  {
   "cell_type": "markdown",
   "metadata": {},
   "source": [
    "Grids are extremely useful when making quick quantitative comparisons. "
   ]
  },
  {
   "cell_type": "markdown",
   "metadata": {},
   "source": [
    "**Problem 4c** \n",
    "\n",
    "Execute the cell below to see the histogram of all 4 features in the data set. Make a quick, but precise, estimate of the peak value of each histogram.\n",
    "\n",
    "Is this easier with or without the grid lines?"
   ]
  },
  {
   "cell_type": "code",
   "execution_count": null,
   "metadata": {},
   "outputs": [],
   "source": [
    "fig, axes = plt.subplots(2, 4, sharex=False,\n",
    "                         figsize=(16,8))\n",
    "\n",
    "for ax_num, ax in enumerate(axes.flatten()):\n",
    "    ax.hist(X[:,ax_num % 4], zorder=10)\n",
    "    ax.set_xlabel('X{}'.format(ax_num % 4))\n",
    "    if ax_num > 3:\n",
    "        ax.grid(axis='y')\n",
    "\n",
    "fig.tight_layout()"
   ]
  },
  {
   "cell_type": "markdown",
   "metadata": {},
   "source": [
    "In some applications grid lines are useful to support rapid inference or comparisons. \n",
    "\n",
    "Grid lines can also look like data. A visualization with 4 axes, grids, and other lines can quickly become confusing..."
   ]
  },
  {
   "cell_type": "markdown",
   "metadata": {},
   "source": [
    "Speaking of axes, they are probably the least considered default in `matplotlib`. They are, however, like everything else in your visualizations, customizable. "
   ]
  },
  {
   "cell_type": "markdown",
   "metadata": {},
   "source": [
    "**Problem 4d**\n",
    "\n",
    "Remake the basic plot (**1d**) and remove the top and right axes. \n",
    "\n",
    "Has the visualization significantly changed?\n",
    "\n",
    "*Hint – [`pyplot.spines()`](https://matplotlib.org/api/spines_api.html) makes it easy to turn axes on or off.*"
   ]
  },
  {
   "cell_type": "code",
   "execution_count": null,
   "metadata": {},
   "outputs": [],
   "source": [
    "# complete\n",
    "# complete\n",
    "# complete"
   ]
  },
  {
   "cell_type": "markdown",
   "metadata": {},
   "source": [
    "**Problem 4e**\n",
    "\n",
    "Remake the basic plot (**1d**) while showing each axis in \"bold\" (i.e., adjust the linewidth = 3). \n",
    "\n",
    "Has the visualization changed significantly?"
   ]
  },
  {
   "cell_type": "code",
   "execution_count": null,
   "metadata": {},
   "outputs": [],
   "source": [
    "# complete\n",
    "# complete\n",
    "# complete"
   ]
  },
  {
   "cell_type": "markdown",
   "metadata": {},
   "source": [
    "In the vast majority of cases the default axes parameters should be fine. Removing the top and right axis encourages the eye to wander out towards infinity (though in a paper the placement of text will prevent that). The bold axes draw attention away from the data, which is rarely what you want the viewer to focus on (one possible exception – on slides a bold axis can draw attention towards the figure should there be competing text or titles that the audience might otherwise look at). "
   ]
  },
  {
   "cell_type": "markdown",
   "metadata": {},
   "source": [
    "## Problem 5) Color"
   ]
  },
  {
   "cell_type": "markdown",
   "metadata": {},
   "source": [
    "There are two important default colors to know about in `matplotlib`: the default colormap is [viridis](https://matplotlib.org/users/dflt_style_changes.html#colormap) and the default color sequence is the [10 color palette](https://matplotlib.org/users/dflt_style_changes.html#colors-in-default-property-cycle) developed by [Tableau](https://www.tableau.com/). \n",
    "\n",
    "In short, `viridis` is much better than the previous default (the dreaded `jet`/rainbow colormap). The Tableau palette was designed to be colorblind friendly when displaying categorical data (it isn't perfect, but it is better than picking random \"well-known\" colors – green, blue, red, yellow, etc). "
   ]
  },
  {
   "cell_type": "markdown",
   "metadata": {},
   "source": [
    "**Problem 5a**\n",
    "\n",
    "Download [this](https://northwestern.box.com/s/czpn081xb6wq9xq3hlz0xg9k87matpbw) (incredibly small) image data file, im.npy.$^\\dagger$ Load the data into a variable `im`, and use [`pyplot.imshow()`](https://matplotlib.org/api/_as_gen/matplotlib.pyplot.imshow.html) to display the image data.\n",
    "\n",
    "What is this an image of?\n",
    "\n",
    "$^\\dagger$ The appendix at the end of this notebook shows how the file was created. Please don't skip ahead to learn the answer."
   ]
  },
  {
   "cell_type": "code",
   "execution_count": null,
   "metadata": {},
   "outputs": [],
   "source": [
    "im = np.load('im.npy')\n",
    "\n",
    "# complete\n",
    "# complete\n",
    "# complete"
   ]
  },
  {
   "cell_type": "markdown",
   "metadata": {},
   "source": [
    "I contend that you are familiar with the content of the above image. I also contend that, in this case, the use of `viridis` obscures what is being shown in the image."
   ]
  },
  {
   "cell_type": "markdown",
   "metadata": {},
   "source": [
    "**Problem 5b**\n",
    "\n",
    "Remake the above plot using the `binary` colormap. Do you recognize the image now?"
   ]
  },
  {
   "cell_type": "code",
   "execution_count": null,
   "metadata": {},
   "outputs": [],
   "source": [
    "# complete\n",
    "# complete\n",
    "# complete"
   ]
  },
  {
   "cell_type": "markdown",
   "metadata": {},
   "source": [
    "The image shows a pixelated scan of a handwritten \"6\" - which is more clear in greyscale than `viridis`. \n",
    "\n",
    "Color can be very powerful when building visualizations, but it is often unnecessary, and in some cases worse than a simple greyscale. If you must use color – make specific choices that improve what is being communicated by the final product."
   ]
  },
  {
   "cell_type": "markdown",
   "metadata": {},
   "source": [
    "## Problem 6) Defaults\n",
    "\n",
    "The developers of `matplotlib` are all much smarter than I. Their choices for default parameters work really well. But in papers, talks, posters and other presentations your aim should be to highlight and communicate very specific ideas. To do so you cannot rely solely on the defaults.  "
   ]
  },
  {
   "cell_type": "markdown",
   "metadata": {},
   "source": [
    "Avoiding defaults can also be daunting, the previous 5 problems only begin to scratch the surface of what is possible.  Fortunately, it is possible to \"pre-load\" different styles than the \"standard\" `matplotlib` default using `matplotlib` [style sheets](https://matplotlib.org/gallery/style_sheets/style_sheets_reference.html)."
   ]
  },
  {
   "cell_type": "markdown",
   "metadata": {},
   "source": [
    "**Problem 6a** \n",
    "\n",
    "Remake the basic multiclass plot (**3a**) using the `classic` (i.e., v1.0) matplotlib style.\n",
    "\n",
    "Do you see improvements relative to what we made previously?\n",
    "\n",
    "*Hint - set the plot style using `plt.style.context(\"classic\")`*"
   ]
  },
  {
   "cell_type": "code",
   "execution_count": null,
   "metadata": {},
   "outputs": [],
   "source": [
    "with plt.style.context(\"classic\"):\n",
    "    # complete\n",
    "    # complete\n",
    "    # complete"
   ]
  },
  {
   "cell_type": "markdown",
   "metadata": {},
   "source": [
    "[My eyes!](https://media.giphy.com/media/l2Je7GLhkevHc5I9G/giphy.gif) This style replicates many of the problems we discussed previously, while also adding new ones. "
   ]
  },
  {
   "cell_type": "markdown",
   "metadata": {},
   "source": [
    "**Problem 6b** \n",
    "\n",
    "Remake the basic multiclass plot using the `grayscale` matplotlib style.\n",
    "\n",
    "Do you see improvements relative to what we made previously?"
   ]
  },
  {
   "cell_type": "code",
   "execution_count": null,
   "metadata": {},
   "outputs": [],
   "source": [
    "# complete\n",
    "# complete\n",
    "# complete"
   ]
  },
  {
   "cell_type": "markdown",
   "metadata": {},
   "source": [
    "**Problem 6c** \n",
    "\n",
    "Remake the basic multiclass plot using the `seaborn` matplotlib style.\n",
    "\n",
    "Do you see improvements relative to what we made previously?"
   ]
  },
  {
   "cell_type": "code",
   "execution_count": null,
   "metadata": {},
   "outputs": [],
   "source": [
    "# complete\n",
    "# complete\n",
    "# complete"
   ]
  },
  {
   "cell_type": "markdown",
   "metadata": {},
   "source": [
    "**Problem 6d** \n",
    "\n",
    "Remake the basic multiclass plot using the `fivethirtyeight` matplotlib style.\n",
    "\n",
    "Do you see improvements relative to what we made previously?\n"
   ]
  },
  {
   "cell_type": "code",
   "execution_count": null,
   "metadata": {},
   "outputs": [],
   "source": [
    "# complete\n",
    "# complete\n",
    "# complete"
   ]
  },
  {
   "cell_type": "markdown",
   "metadata": {},
   "source": [
    "**Problem 6e** \n",
    "\n",
    "Remake the basic multiclass plot using the `dark_background` matplotlib style.\n",
    "\n",
    "Do you see improvements relative to what we made previously?"
   ]
  },
  {
   "cell_type": "code",
   "execution_count": null,
   "metadata": {},
   "outputs": [],
   "source": [
    "# complete\n",
    "# complete\n",
    "# complete"
   ]
  },
  {
   "cell_type": "markdown",
   "metadata": {},
   "source": [
    "In total there are 27 different style sheets, and they provide a wide range of initial plotting possibilities. Options include changes in the background colors (dark backgrounds, which are typically avoided because they look bad in papers, can often look really nice on projected slides), grids (`seaborn` and `fivethirtyeight` both provide grids that are not too intrusive, and colormaps and color cycles that vary significantly. "
   ]
  },
  {
   "cell_type": "markdown",
   "metadata": {},
   "source": [
    "## Problem 7) Salience\n",
    "\n",
    "The lecture and this notebook are supposed to be about building salience, and yet we have spent the last 6 problems only talking about default settings in `matplotlib` – what's your deal Adam?"
   ]
  },
  {
   "cell_type": "markdown",
   "metadata": {},
   "source": [
    "**Problem 7a**\n",
    "\n",
    "Build a visualization showing all three classes created in problem 1. Class 2 should be the \"salient feature\" for this visualization. Thinking about the defaults, discussed to an annoying degree above, and things like visual boundaries, highlight the importance of class 2.\n",
    "\n",
    "*Hint - this is intentionally open ended. You will need to explore a bit before arriving at your final answer.* "
   ]
  },
  {
   "cell_type": "code",
   "execution_count": null,
   "metadata": {},
   "outputs": [],
   "source": [
    "# complete\n",
    "# complete\n",
    "# complete\n",
    "\n",
    "# complete\n",
    "# complete\n",
    "# complete"
   ]
  },
  {
   "cell_type": "markdown",
   "metadata": {},
   "source": [
    "## Appendix\n",
    "\n",
    "The cells below show the process used to select the data for **Problem 5**"
   ]
  },
  {
   "cell_type": "code",
   "execution_count": null,
   "metadata": {},
   "outputs": [],
   "source": [
    "from sklearn.datasets import load_digits\n",
    "\n",
    "mnist = load_digits()\n",
    "np.save('im.npy', mnist.images[16])"
   ]
  }
 ],
 "metadata": {
  "kernelspec": {
   "display_name": "Python 3",
   "language": "python",
   "name": "python3"
  },
  "language_info": {
   "codemirror_mode": {
    "name": "ipython",
    "version": 3
   },
   "file_extension": ".py",
   "mimetype": "text/x-python",
   "name": "python",
   "nbconvert_exporter": "python",
   "pygments_lexer": "ipython3",
   "version": "3.7.9"
  }
 },
 "nbformat": 4,
 "nbformat_minor": 4
}
