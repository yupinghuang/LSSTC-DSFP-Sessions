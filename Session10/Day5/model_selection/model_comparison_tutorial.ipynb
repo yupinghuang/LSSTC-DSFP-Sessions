{
 "cells": [
  {
   "cell_type": "markdown",
   "metadata": {},
   "source": [
    "# WARNING!!!\n",
    "\n",
    "After pulling down the tutorial notebook, immediately make a copy. Then do not modify the original. Do your work in the copy. This will prevent the possibility of git conflicts should the version-controlled file change at any point in the future.\n",
    "\n",
    "This notebook is adapted from the [KIPAC/StatisticalMethods course](https://github.com/KIPAC/StatisticalMethods), (c) 2019 Adam Mantz and Phil Marshall, licensed under the GPLv2."
   ]
  },
  {
   "cell_type": "markdown",
   "metadata": {},
   "source": [
    "If the following cell is confusing, read the `KIPAC/StatisticalMethods` tutorial [how-to](howto.ipynb)."
   ]
  },
  {
   "cell_type": "code",
   "execution_count": null,
   "metadata": {},
   "outputs": [],
   "source": [
    "class SolutionMissingError(Exception):\n",
    "    def __init__(self):\n",
    "        Exception.__init__(self,\"You need to complete the solution for this code to work!\")\n",
    "def REPLACE_WITH_YOUR_SOLUTION():\n",
    "    raise SolutionMissingError\n",
    "REMOVE_THIS_LINE = REPLACE_WITH_YOUR_SOLUTION"
   ]
  },
  {
   "cell_type": "markdown",
   "metadata": {},
   "source": [
    "# Tutorial: Checking and Comparing Models\n",
    "\n",
    "## Goodness of fit, information criteria, and Bayesian evidence"
   ]
  },
  {
   "cell_type": "markdown",
   "metadata": {},
   "source": [
    "## Introduction\n",
    "\n",
    "In this tutorial we'll look at some simple, realistic, simulated data, and do some model evaluation, including\n",
    "\n",
    "* fitting a simple model, and then do a _posterior predictive model check_ of the adequacy of the fit\n",
    "* quantifying the generalized predictive accuracy of the model with the Deviance Information Criterion (DIC)\n",
    "* calculating the Bayesian evidence for the model\n",
    "\n",
    "Then you'll get to do it all again with a more complex model and determine which is preferred!"
   ]
  },
  {
   "cell_type": "markdown",
   "metadata": {},
   "source": [
    "## The Dataset\n",
    "\n",
    "Our data is just a list of numbers. Each one represents a measured distance, $y$, between two different estimates of the center of a galaxy cluster: the location of the presumed central galaxy and a centroid of the diffuse, emissive gas. The context here is that automated algorithms sometimes fail to chose the central galaxy correctly (because of image artifacts or other problems), whereas the gas centroid is more reliable but also more expensive to measure. Therefore, we'd like to use this data set to _characterize the distribution of mis-centerings_ so that the galaxy-based centers can be used for large sample, with the resulting errors propagated forward through future processing, e.g., weak lensing estimates.\n",
    "\n",
    "Let's load up the data and have a look."
   ]
  },
  {
   "cell_type": "code",
   "execution_count": null,
   "metadata": {},
   "outputs": [],
   "source": [
    "import numpy as np\n",
    "import scipy.stats as st\n",
    "from scipy.special import logsumexp\n",
    "import emcee\n",
    "import matplotlib.pyplot as plt\n",
    "%matplotlib inline"
   ]
  },
  {
   "cell_type": "code",
   "execution_count": null,
   "metadata": {},
   "outputs": [],
   "source": [
    "plt.rcParams.update({'font.size': 16});"
   ]
  },
  {
   "cell_type": "markdown",
   "metadata": {},
   "source": [
    "Load data into global variable `y`. Each entry is an offset in units of kpc."
   ]
  },
  {
   "cell_type": "code",
   "execution_count": null,
   "metadata": {},
   "outputs": [],
   "source": [
    "y = np.loadtxt('data/model_comparison.dat')"
   ]
  },
  {
   "cell_type": "markdown",
   "metadata": {},
   "source": [
    "Check out a quick histogram of the data."
   ]
  },
  {
   "cell_type": "code",
   "execution_count": null,
   "metadata": {},
   "outputs": [],
   "source": [
    "plt.rcParams['figure.figsize'] = (8.0, 6.0)\n",
    "bins = np.linspace(0,1000,20)\n",
    "plt.hist(y, bins=bins, color=\"skyblue\");\n",
    "plt.xlabel(\"Measured distance $y$\");\n",
    "plt.ylabel(\"Frequency\");"
   ]
  },
  {
   "cell_type": "markdown",
   "metadata": {},
   "source": [
    "## 1. Pre-registering a Test Statistic\n",
    "\n",
    "The hypothesis we will test in this tutorial is the model outlined in the next section - but how well that model fits the data is a question we will answer in part using a _test statistic._ \n",
    "\n",
    "Having understood what the data represent (and had a quick look at them), what feature in the data do you want your model to explain well?  \n",
    "\n",
    "With this in mind, what is a good test statistic to _summarize_ the data? Spend a few mins thinking about this and discussing it, then implement is before moving on. You'll then use this \"pre-registered\" test statistic in a Bayesian model check below.\n",
    "\n",
    "Your test statistic should be a function of the data only, although in general it's also possible to use statistics that are functions of both the data and model."
   ]
  },
  {
   "cell_type": "code",
   "execution_count": null,
   "metadata": {},
   "outputs": [],
   "source": [
    "try:\n",
    "    exec(open('solutions/teststatistic.py').read())\n",
    "except IOError:\n",
    "    REMOVE_THIS_LINE()\n",
    "    def T(yy):\n",
    "        \"\"\"\n",
    "        Argument: a data vector (either the real data or a simulated data set)\n",
    "        Returns: a scalar test statistic computed from the argument\n",
    "        \"\"\"\n",
    "        REPLACE_WITH_YOUR_SOLUTION()"
   ]
  },
  {
   "cell_type": "markdown",
   "metadata": {},
   "source": [
    "Compute the test statistic of the real data to verify that it works."
   ]
  },
  {
   "cell_type": "code",
   "execution_count": null,
   "metadata": {},
   "outputs": [],
   "source": [
    "T_true = T(y)\n",
    "print(\"The test statistic of the real data is T =\", T_true)"
   ]
  },
  {
   "cell_type": "markdown",
   "metadata": {},
   "source": [
    "## Setting up a Computational Framework\n",
    "\n",
    "Once we define a model to work with (below), we'll want to fit that model to the data, and then evaluate it using the methods we saw in the [model evaluation lesson](../lessons/modelevaluation.ipynb). These include:\n",
    "\n",
    "* a visual check using replica datasets drawn from the posterior predictive distribution\n",
    "* a quantitative posterior predictive model check using a suitable test statistic $T(y)$\n",
    "\n",
    "After chosing and fitting a second, alternative model, we can also compare the two in terms of\n",
    "\n",
    "* the Deviance Information Criterion (DIC), to assess the models' (relative) generalized predictive accuracy\n",
    "* the Bayesian Evidence, to provide insight on the (relative) probability of each model given the data\n",
    "\n",
    "Notice that each of these bulleted operations can be coded as a _function of the model_ (e.g. a visual check of the model, the evidence of the model, and so on). That suggests that we should write a _class_ that completely describes the model, and then a set of _functions that act on model objects passed to them._ Since we anticipate looking at multiple models, we'll use _inheritance_. While this level of object oriented programming may not be familiar, most of the details are filled in for you below.\n",
    "\n",
    "We start by defining a _base class_, which contains the functionality common to any model we care to define later. To make it clear what functionality we expect _derived classes_ to provide, we'll include defintions of non-functional methods that the derived classes will need to _override_."
   ]
  },
  {
   "cell_type": "code",
   "execution_count": null,
   "metadata": {},
   "outputs": [],
   "source": [
    "# This is something we can throw to discourage direct instantiation of the base class\n",
    "class VirtualClassError(Exception):\n",
    "    def __init__(self):\n",
    "        Exception.__init__(self,\"Do not directly instantiate the base Model class!\")\n",
    "\n",
    "class Model:\n",
    "    \"\"\"\n",
    "    Base class for inference and model evaluation in a simple cluster mis-centering analysis.\n",
    "    In all these functions, `args' is the ordered list of model parameters.\n",
    "    \"\"\"\n",
    "    def __init__(self):\n",
    "        \"\"\"\n",
    "        Note: derived classes should have their own __init__ function which ends by calling this one\n",
    "        \"\"\"\n",
    "        # Sometimes it will be convenient to compute many log_likelihood values at once:\n",
    "        self.vectorized_log_likelihood = np.vectorize(self.log_likelihood)\n",
    "        self.samples = None\n",
    "        self.Nsamples = 0\n",
    "  \n",
    "    def log_prior(self, *args):\n",
    "        \"\"\"\n",
    "        Evaluate the log prior PDF P(args|H)\n",
    "        \"\"\"\n",
    "        raise VirtualClassError # to be overriden by child classes\n",
    "\n",
    "    def draw_samples_from_prior(self, N):\n",
    "        \"\"\"\n",
    "        Return N samples from the prior PDF P(args|H)\n",
    "        \"\"\"\n",
    "        raise VirtualClassError # to be overriden by child classes\n",
    "\n",
    "    def log_likelihood(self, *args):\n",
    "        \"\"\"\n",
    "        Evaluate the log of the likelihood function L(args) = P(y|args,H)\n",
    "        \"\"\"\n",
    "        raise VirtualClassError # to be overriden by child classes\n",
    "    \n",
    "    def sampling_distribution(self, yy, *args):\n",
    "        \"\"\"\n",
    "        Evaluate the sampling distribution P(yy|args,H) at a point in data space yy given parameter(s) args\n",
    "        We expect a vector input yy, and return the corresponding probabilities.\n",
    "            \n",
    "        Note: This is useful for making plots of \"the model\" overlaid on the histogram of the data\n",
    "        \"\"\"\n",
    "        raise VirtualClassError # to be overriden by child classes \n",
    "        \n",
    "    def generate_replica_dataset(self, *args):\n",
    "        \"\"\"\n",
    "        Draw a replica dataset y_rep from the sampling distribution P(y_rep|args,H).\n",
    "        y_rep should have the same length as the true data set.\n",
    "        \"\"\"\n",
    "        raise VirtualClassError # to be overriden by child classes\n",
    "        \n",
    "    def log_posterior(self, *args):\n",
    "        \"\"\"\n",
    "        Evaluate the log of the (unnormalized) posterior PDF P(args|y,H)\n",
    "        \n",
    "        Note: We'll use this with an MCMC sampler, so it should call the non-vectorized likelihood.\n",
    "        \"\"\"\n",
    "        lnp = self.log_prior(*args)\n",
    "        if lnp != -np.inf:\n",
    "            lnp += self.log_likelihood(*args)\n",
    "        return lnp\n",
    "\n",
    "    def draw_samples_from_posterior(self, guess=None, nwalkers=None, nsteps=None, burn=None, thinby=None):\n",
    "        \"\"\"\n",
    "        Use emcee to draw samples from P(args|y,H)\n",
    "        \"\"\"\n",
    "        # Deal with unset inputs:\n",
    "        if guess is None: print(\"You need to specify a starting point in parameter space with the `guess=` kwarg...\")\n",
    "        if nwalkers is None: print(\"You need to specify the `nwalkers=` kwarg...\")\n",
    "        if nsteps is None: print(\"You need to specify the chain length `nsteps=` kwarg...\")\n",
    "        if burn is None: print(\"You need to specify the length of burnin `burn=` kwarg...\")\n",
    "        if thinby is None: print(\"You need to specify the thinning factor `thinby=` kwarg...\")\n",
    "      \n",
    "        # The density to sample is this model's own posterior PDF\n",
    "        lnprob = self.log_posterior\n",
    "        npars = len(guess)\n",
    "        \n",
    "        self.sampler = emcee.EnsembleSampler(nwalkers, npars, lnprob) \n",
    "        # You could add e.g. threads=4 to speed things up with multiprocessing\n",
    "        \n",
    "        # Generate an ensemble of walkers within +/-1% of the guess:\n",
    "        theta_0 = np.array([guess*(1.0 + 0.01*np.random.randn(npars)) for j in range(nwalkers)])\n",
    "        # Note that the initial parameter array theta_0 should have dimensions nwalkers × npars\n",
    "        \n",
    "        # Evolve the ensemble:\n",
    "        self.sampler.run_mcmc(theta_0, nsteps)\n",
    "        \n",
    "        # Plot the raw samples:\n",
    "        plt.rcParams['figure.figsize'] = (12.0, 6.0)\n",
    "        plt.subplot(211)\n",
    "        for j in range(nwalkers): \n",
    "            plt.plot(self.sampler.chain[j,:,0], 'o', alpha=0.2)\n",
    "        plt.title(\"Raw Markov chains\")\n",
    "            \n",
    "        # Extract the chain, remove burnin, merge, and thin:\n",
    "        samples = self.sampler.chain[:, burn:, :].reshape((-1, npars))\n",
    "        samples = samples[range(0,samples.shape[0],thinby),:]\n",
    "        \n",
    "        # Keep the samples with the model for future use!\n",
    "        self.samples = samples\n",
    "        self.Nsamples = len(samples)\n",
    "        \n",
    "        # Plot the thinned chain\n",
    "        plt.subplot(212)\n",
    "        plt.plot(samples[:,0], 'o')\n",
    "        plt.title(\"Thinned, post-burnin chains\");"
   ]
  },
  {
   "cell_type": "markdown",
   "metadata": {},
   "source": [
    "## 2. Evaluating a Simple Model\n",
    "\n",
    "First, let's assume a simple model $H_1$, that the sampling distribution is an exponential:\n",
    "\n",
    "**Model 1:** $P(y|a_1, H_1) = \\frac{1}{a_1}e^{-y/a_1}$; $y\\geq0$\n",
    "\n",
    "Our single parameter is $a_1$, the mean of the exponential distribution.\n",
    "\n",
    "### 2a. Implementation in code\n",
    "\n",
    "Complete the implementation of this model as a derived class of `Model`, below. Note than an `ExponentialModel` object still has all the methods defined for `Model`, in particular the ones that we _don't_ need to redefine here.\n",
    "\n",
    "Note that this includes choosing a reasonable prior for $a_1$. It should be a proper (normalizable) distribution. We don't want to deal with improper distributions when calculating the evidence later on.\n",
    "\n",
    "Make sure you understand the workings of even the functions that are completely given."
   ]
  },
  {
   "cell_type": "code",
   "execution_count": null,
   "metadata": {},
   "outputs": [],
   "source": [
    "try:\n",
    "    exec(open('solutions/exponentialmodel.py').read())\n",
    "except IOError:\n",
    "    REMOVE_THIS_LINE()\n",
    "\n",
    "    class ExponentialModel(Model):\n",
    "        \"\"\"\n",
    "        Simple exponential model for mis-centering.\n",
    "        \"\"\"\n",
    "        def __init__(self):\n",
    "            # Define any hyperparameters for the a1 prior here.\n",
    "            # E.g., for uniform, something like \"self.min_a1 = value\" and \"self.max_a1 = value\"\n",
    "            # More sophisticatedly, you could make these values arguments of __init__.\n",
    "            REPLACE_WITH_YOUR_SOLUTION()\n",
    "            # The next line finishes initialization by calling the parent class' __init__\n",
    "            Model.__init__(self)\n",
    "\n",
    "        def log_prior(self, a1):\n",
    "            \"\"\"\n",
    "            Evaluate the log prior PDF P(a1|H)\n",
    "            \"\"\"\n",
    "            REPLACE_WITH_YOUR_SOLUTION()\n",
    "\n",
    "        def draw_samples_from_prior(self, N):\n",
    "            \"\"\"\n",
    "            Return N samples of a1 from the prior PDF P(a1|H)\n",
    "            \"\"\"\n",
    "            REPLACE_WITH_YOUR_SOLUTION()\n",
    "\n",
    "        def log_likelihood(self, a1):\n",
    "            \"\"\"\n",
    "            Evaluate the log of the likelihood function L(a1) = P(y|a1,H)\n",
    "            Argument a1 is scalar.\n",
    "            \"\"\"\n",
    "            return np.sum(st.expon.logpdf(y, scale=a1))\n",
    "\n",
    "        def sampling_distribution(self, yy, a1):\n",
    "            \"\"\"\n",
    "            Evaluate the sampling distribution P(yy|a,H) at a point in data space yy given parameter value a1\n",
    "            We expect a vector input yy, and return the corresponding probabilities.\n",
    "            \n",
    "            Note: This is useful for making plots of \"the model\" overlaid on the histogram of the data\n",
    "            \"\"\"\n",
    "            return st.expon.pdf(yy, scale=a1)\n",
    "\n",
    "        def generate_replica_dataset(self, a1):\n",
    "            \"\"\"\n",
    "            Draw a replica data set y_rep from the sampling distribution P(y_rep|a1,H).\n",
    "            y_rep should have the same length as the true data set.\n",
    "            Argument a1 is a scalar.\n",
    "            \"\"\"\n",
    "            REPLACE_WITH_YOUR_SOLUTION()"
   ]
  },
  {
   "cell_type": "markdown",
   "metadata": {},
   "source": [
    "Now try instantiating a model and drawing a dozen samples from its prior as a test:"
   ]
  },
  {
   "cell_type": "code",
   "execution_count": null,
   "metadata": {},
   "outputs": [],
   "source": [
    "Model1 = ExponentialModel()\n",
    "print(\"12 sample values drawn from the prior of Model1: \", Model1.draw_samples_from_prior(12))"
   ]
  },
  {
   "cell_type": "markdown",
   "metadata": {},
   "source": [
    "Test out the log-posterior function to make sure it's not obviously buggy."
   ]
  },
  {
   "cell_type": "code",
   "execution_count": null,
   "metadata": {},
   "outputs": [],
   "source": [
    "for a1 in [1.0, 10.0, 100.0, -3.14]:\n",
    "    print('Log-posterior for a1=', a1, ' = ', Model1.log_posterior(a1))"
   ]
  },
  {
   "cell_type": "markdown",
   "metadata": {},
   "source": [
    "Similarly the mock-data producing function (with an arbitrary $a_1$ value)."
   ]
  },
  {
   "cell_type": "code",
   "execution_count": null,
   "metadata": {},
   "outputs": [],
   "source": [
    "plt.rcParams['figure.figsize'] = (8.0, 6.0)\n",
    "plt.hist(Model1.generate_replica_dataset(500.), bins=bins, color=\"lightgray\");\n",
    "plt.xlabel(\"Measured distance $y$\");\n",
    "plt.ylabel(\"Frequency (replica)\");"
   ]
  },
  {
   "cell_type": "markdown",
   "metadata": {},
   "source": [
    "Finally, test the sampling distribution function."
   ]
  },
  {
   "cell_type": "code",
   "execution_count": null,
   "metadata": {},
   "outputs": [],
   "source": [
    "plt.plot(bins, Model1.sampling_distribution(bins, 500.));\n",
    "plt.xlabel(\"Measured distance $y$\");\n",
    "plt.ylabel(\"$p(y|a_1)$\");"
   ]
  },
  {
   "cell_type": "markdown",
   "metadata": {},
   "source": [
    "### 2b. Fit the model to the data\n",
    "\n",
    "The `draw_samples_from_posterior` method carries out a parameter inference with `emcee`, displaying its Markov chains, removing burn-in, thinning, and concatenating the chains. Since this step isn't really the point of this problem, the code is given to you, but you'll still need to experiment with the keyword argument (\"kwarg\") inputs (and read the code to see what they do) in order to get good results. (The suggestions in the cell below are pretty terrible.)\n",
    "\n",
    "As a rule, you should start with `burn=0` and `thinby=1`, and set these appropriately for a final run once you know what the time to convergence and autocorrelation roughly are.\n",
    "\n",
    "The MCMC samples are stored in the `Model.samples` array."
   ]
  },
  {
   "cell_type": "code",
   "execution_count": null,
   "metadata": {},
   "outputs": [],
   "source": [
    "try:\n",
    "    exec(open('solutions/fit.py').read())\n",
    "except IOError:\n",
    "    # This will execute out of the box, but will not work well. The arguments should be fiddled with.\n",
    "    Model1.draw_samples_from_posterior(guess=[1000.0], nwalkers=8, nsteps=10, burn=0, thinby=1)"
   ]
  },
  {
   "cell_type": "markdown",
   "metadata": {},
   "source": [
    "It will be useful for later to know the mean of the posterior:"
   ]
  },
  {
   "cell_type": "code",
   "execution_count": null,
   "metadata": {},
   "outputs": [],
   "source": [
    "Model1.post_mean = np.mean(Model1.samples, axis=0)\n",
    "print(\"Posterior mean value of a1 = \", Model1.post_mean)"
   ]
  },
  {
   "cell_type": "markdown",
   "metadata": {},
   "source": [
    "### 2c. Visually compare the posterior predictions with the data.\n",
    "\n",
    "First, let's just plot the posterior-mean model over the data."
   ]
  },
  {
   "cell_type": "code",
   "execution_count": null,
   "metadata": {},
   "outputs": [],
   "source": [
    "plt.rcParams['figure.figsize'] = (8.0, 6.0)\n",
    "\n",
    "# First the histogram of observed data, as backdrop:\n",
    "plt.hist(y, bins=bins, color=\"skyblue\", density=True, label=\"Observed\")\n",
    "\n",
    "# Now overlay a curve following the sampling distribution conditioned on the posterior mean value of a1: \n",
    "pp = Model1.sampling_distribution(bins, Model1.post_mean)\n",
    "plt.plot(bins, pp, linestyle=\"dashed\", color=\"red\", label=\"Posterior mean model\")\n",
    "\n",
    "plt.xlabel(\"Measured distance $y$\")\n",
    "plt.ylabel(\"Normalized Frequency\")\n",
    "plt.legend();"
   ]
  },
  {
   "cell_type": "markdown",
   "metadata": {},
   "source": [
    "This kind of plot should be familiar: it's often a good idea to evaluate model adequacy in data space. You should already be able to see telling differences between the a well-fitting model's sampling distribution, and the data histogram.\n",
    "\n",
    "Now, let's compare a random predicted (\"replica\") data set, drawn from the _posterior predictive distribution,_ with the data. To do this we first draw a parameter value from the posterior PDF, and then generate a dataset from the sampling distribution conditioned on that value. The result is a sample from $P(y_{rep}|y)$."
   ]
  },
  {
   "cell_type": "code",
   "execution_count": null,
   "metadata": {},
   "outputs": [],
   "source": [
    "plt.rcParams['figure.figsize'] = (8.0, 6.0)\n",
    "\n",
    "# First the histogram of observed data, as backdrop:\n",
    "plt.hist(y, bins=bins, color=\"skyblue\", density=True, label=\"Observed\")\n",
    "\n",
    "# Choose a posterior sample at random and generate a replica dataset, and show its histogram\n",
    "j = np.random.randint(0, len(Model1.samples))\n",
    "mock = Model1.generate_replica_dataset(Model1.samples[j])\n",
    "plt.hist(mock, bins=bins, alpha=1.0, histtype=\"step\", color=\"red\", density=True, label=\"Sample posterior prediction\")\n",
    "\n",
    "plt.xlabel(\"Measured distance $y$\")\n",
    "plt.ylabel(\"Normalized Frequency\")\n",
    "plt.legend();"
   ]
  },
  {
   "cell_type": "markdown",
   "metadata": {},
   "source": [
    "This plot is nice because it is comparing apples with apples: do mock datasets drawn from our model sampling distribution with any plausible parameter value \"look like\" the real data?\n",
    "\n",
    "To best evaluate this, we want to visualize the posterior predictive distribution of replica datasets. We can do this by plotting many replica datasets drawn from the posterior predictive PDF, e.g. _one for each of our posterior samples_. Let's put this plot in a function, so we can re-use it later."
   ]
  },
  {
   "cell_type": "code",
   "execution_count": null,
   "metadata": {},
   "outputs": [],
   "source": [
    "def visual_check(Model, Nreps=None):\n",
    "    plt.rcParams['figure.figsize'] = (8.0, 6.0)\n",
    "\n",
    "    # First the histogram of observed data, as backdrop:\n",
    "    plt.hist(y, bins=bins, color=\"skyblue\", density=True, label=\"Observed\")\n",
    "\n",
    "    # Compute the posterior mean parameter (vector)\n",
    "    pm = np.mean(Model.samples, axis=0)\n",
    "\n",
    "    # Make a large number of replica datasets, and overlay histograms of them all \n",
    "    if Nreps is None: Nreps = len(Model.samples)\n",
    "    alpha = 5.0 / Nreps\n",
    "    for jj in np.round(np.linspace(0, len(Model.samples), num=Nreps, endpoint=False)): \n",
    "        j = int(jj)\n",
    "        if j==0:  \n",
    "            # Plot a dataset drawn using a = the posterior mean a, to give a good legend\n",
    "            mock = Model.generate_replica_dataset(pm)\n",
    "            plt.hist(mock, bins=bins, histtype=\"step\", alpha=1.0, color=\"red\", density=True, label=\"Sample posterior predictions\")\n",
    "        else:     \n",
    "            # Take the next posterior sample a and generate a replica dataset\n",
    "            mock = Model1.generate_replica_dataset(Model.samples[j])\n",
    "            plt.hist(mock, bins=bins, histtype=\"step\", alpha=alpha, color=\"red\", density=True)\n",
    "\n",
    "    # Include the posterior mean model for comparison\n",
    "    pp = Model1.sampling_distribution(bins, pm)\n",
    "    plt.plot(bins, pp, linestyle=\"dashed\", color=\"red\", label=\"Posterior mean model\")\n",
    "\n",
    "    plt.xlabel(\"Measured distance $y$\")\n",
    "    plt.ylabel(\"Normalized Frequency\")\n",
    "    plt.legend();"
   ]
  },
  {
   "cell_type": "code",
   "execution_count": null,
   "metadata": {},
   "outputs": [],
   "source": [
    "visual_check(Model1, Nreps=100)"
   ]
  },
  {
   "cell_type": "markdown",
   "metadata": {},
   "source": [
    "Based on these visual checks, would you say the model does a good job of predicting the observed data?"
   ]
  },
  {
   "cell_type": "markdown",
   "metadata": {},
   "source": [
    "### 2c. Quantitative posterior predictive model check\n",
    "\n",
    "Now let's quantify the (in)adequacy of the fit with a quantitative _posterior predictive model check_, based on the `test_statistic` function you've already defined."
   ]
  },
  {
   "cell_type": "markdown",
   "metadata": {},
   "source": [
    "To sample the posterior predictive distribution of test statistics $P(T(y_{rep})|y)$, we need to generate replica datasets from the model:"
   ]
  },
  {
   "cell_type": "code",
   "execution_count": null,
   "metadata": {},
   "outputs": [],
   "source": [
    "def distribution_of_T(Model):\n",
    "    \"\"\"\n",
    "    Compute T(yrep) for each yrep drawn from the posterior predictive distribution,\n",
    "    using parameter samples stored in Model.\n",
    "    \"\"\"\n",
    "    return np.array([T(Model.generate_replica_dataset(a)) for a in Model.samples])"
   ]
  },
  {
   "cell_type": "markdown",
   "metadata": {},
   "source": [
    "We can now do the following:\n",
    "* plot a histogram of $T(\\mathrm{mock~data})$\n",
    "* compare that distribution with $T(\\mathrm{real~data})$\n",
    "* compute and report the p-value for $T(\\mathrm{real~data})$\n",
    "\n",
    "And we want all of that in packaged in functions of the model, so that we can re-use it later (on different models!). \n",
    "\n",
    "First let's write a function to compute the p-value, $P(T > T(y)|y,H)$:"
   ]
  },
  {
   "cell_type": "code",
   "execution_count": null,
   "metadata": {},
   "outputs": [],
   "source": [
    "try:\n",
    "    exec(open('solutions/pvalue.py').read())\n",
    "except IOError:\n",
    "    REMOVE_THIS_LINE()\n",
    "    def pvalue(Model):\n",
    "        \"\"\"\n",
    "        Compute the posterior predictive p-value, P(T > T(y)|y,H):\n",
    "        \"\"\"\n",
    "        REPLACE_WITH_YOUR_SOLUTION()"
   ]
  },
  {
   "cell_type": "markdown",
   "metadata": {},
   "source": [
    "Here's a function that plots the distribution of T, and reports the p-value:"
   ]
  },
  {
   "cell_type": "code",
   "execution_count": null,
   "metadata": {},
   "outputs": [],
   "source": [
    "def posterior_predictive_check(Model, nbins=25):\n",
    "    \"\"\"\n",
    "    Compute the posterior predictive distribution of the test statistic T(y_rep), and compare with T(y_obs) \n",
    "    \"\"\"\n",
    "    # Compute distribution of T(yrep):\n",
    "    TT = distribution_of_T(Model)\n",
    "    \n",
    "    # Plot:\n",
    "    plt.rcParams['figure.figsize'] = (8.0, 6.0)\n",
    "    plt.hist(TT, bins=nbins, histtype=\"step\", color=\"red\", label=\"$P(T(y_{\\\\rm rep})|y)$\")\n",
    "    \n",
    "    # Overlay T(y_obs):\n",
    "    plt.axvline(x=T(y), color=\"gray\", linestyle=\"dashed\", label=\"$T(y_{\\\\rm observed})$\")\n",
    "    plt.xlabel(\"Test statistic T(y)\")\n",
    "    plt.ylabel(\"Posterior predictive probability density\")\n",
    "    plt.legend();\n",
    "    \n",
    "    # Compute p-value:\n",
    "    p = pvalue(Model)\n",
    "    print(\"p-value =\", p)\n",
    "\n",
    "    return p"
   ]
  },
  {
   "cell_type": "code",
   "execution_count": null,
   "metadata": {},
   "outputs": [],
   "source": [
    "p1 = posterior_predictive_check(Model1)"
   ]
  },
  {
   "cell_type": "markdown",
   "metadata": {},
   "source": [
    "Does this result agree with your visual evaluation of the model fitness from the last section? If not, perhaps the test statistic you chose doesn't reflect the agreement you're looking for when inspecting the posterior predictions. If you'd like to re-define your test statistic, do so now and repeat this check."
   ]
  },
  {
   "cell_type": "markdown",
   "metadata": {},
   "source": [
    "#### 6. Calculate the DIC for Model 1.\n",
    "\n",
    "We saw in class that the Deviance Information Criterion is given by:\n",
    "\n",
    "$\\mathrm{DIC} = \\langle D(\\theta) \\rangle + p_D; \\quad p_D = \\langle D(\\theta) \\rangle - D(\\langle\\theta\\rangle)$\n",
    "\n",
    "where the deviance $D(\\theta)=-2\\log P(\\mathrm{data}|\\theta)$, and averages $\\langle\\rangle$ are over the posterior.\n",
    "\n",
    "Write this function, and execute it for the simple model. "
   ]
  },
  {
   "cell_type": "code",
   "execution_count": null,
   "metadata": {},
   "outputs": [],
   "source": [
    "try:\n",
    "    exec(open('solutions/dic.py').read())\n",
    "except IOError:\n",
    "    REMOVE_THIS_LINE()\n",
    "    def DIC(Model):\n",
    "        \"\"\"\n",
    "        Compute the Deviance Information Criterion for the given model\n",
    "        \"\"\"\n",
    "        # Compute the deviance D for each sample, using the vectorized code.\n",
    "        D = -2.0*Model.vectorized_log_likelihood(Model.samples)\n",
    "        pD = REPLACE_WITH_YOUR_SOLUTION()\n",
    "        DIC = REPLACE_WITH_YOUR_SOLUTION()\n",
    "        return DIC, pD"
   ]
  },
  {
   "cell_type": "code",
   "execution_count": null,
   "metadata": {},
   "outputs": [],
   "source": [
    "DIC1, pD1 = DIC(Model1)\n",
    "print(\"Effective number of fitted parameters =\", pD1)\n",
    "print(\"DIC =\", DIC1)"
   ]
  },
  {
   "cell_type": "markdown",
   "metadata": {},
   "source": [
    "Does your value of $p_D$ make intuitive sense?"
   ]
  },
  {
   "cell_type": "markdown",
   "metadata": {},
   "source": [
    "### 2d. Compute the evidence\n",
    "\n",
    "To do this, note that\n",
    "\n",
    "$P(D|H)=\\int P(D|\\theta,H) \\, P(\\theta|H) d\\theta$\n",
    "\n",
    "can be approximated by an average over samples from the prior\n",
    "\n",
    "$P(D|H) \\approx \\frac{1}{m}\\sum_{k=1}^m P(D|\\theta_k,H)$; $\\theta_k\\sim P(\\theta|H)$.\n",
    "\n",
    "This estimate is better than trying to use samples from the posterior to calculate the evidence, if only because it's unbiased. But in general, and especially for large-dimensional parameter spaces, it is very inefficient (because the likelihood typically is large in only a small fraction of the prior volume). Still, it will do for this exercise.\n",
    "\n",
    "In a function, draw a large number of samples from the prior and use them to calculate the evidence. To avoid numerical over/underflows, use the special `scipy` function `logsumexp` (which we imported directly, way at the top of the notebook) to do the sum. As the name implies, this function is equivalent to `log(sum(exp(...)))`, but is more numerically stable."
   ]
  },
  {
   "cell_type": "code",
   "execution_count": null,
   "metadata": {},
   "outputs": [],
   "source": [
    "try:\n",
    "    exec(open('solutions/evidence.py').read())\n",
    "except IOError:\n",
    "    REMOVE_THIS_LINE()\n",
    "    def log_evidence(Model, N=1000):\n",
    "        \"\"\"\n",
    "        Compute the log evidence for the model using N samples from the prior\n",
    "        \"\"\"\n",
    "        REPLACE_WITH_YOUR_SOLUTION()"
   ]
  },
  {
   "cell_type": "markdown",
   "metadata": {},
   "source": [
    "Roughly how precisely do we need to know the log Evidence, to be able to compare models? Run `log_evidence` with different values of `N` (the number of prior samples in the average) to until you're satisfied that you're getting a usefully accurate result."
   ]
  },
  {
   "cell_type": "code",
   "execution_count": null,
   "metadata": {
    "scrolled": true
   },
   "outputs": [],
   "source": [
    "for Nevidence in [1, 10, 100]: # You *will* want to change these values\n",
    "    %time logE1 = log_evidence(Model1, N=Nevidence)\n",
    "    print(\"From\", Nevidence, \"samples, the log-evidence is\", logE1, \"\\n\")"
   ]
  },
  {
   "cell_type": "markdown",
   "metadata": {},
   "source": [
    "### Summary\n",
    "\n",
    "We now have a lot of useful machinery for evaluating models for our data. We can do both visual and quantitative posterior predictive model checks to assess the adequacy of the model fit, and we can compute (or at least approximate) the DIC and the Bayesian evidence for the model.\n",
    "\n",
    "The latter 2 are really only useful in the context of comparing with an alternative model, however. To see them shine, you'll need to continue on to the challenge problem."
   ]
  },
  {
   "cell_type": "markdown",
   "metadata": {},
   "source": [
    "## Challenge Problem 1\n",
    "\n",
    "Propose an alternative model for the data, including appropriate priors, and repeat the analysis in section 2:\n",
    "* implement the model,\n",
    "* fit it,\n",
    "* do visual and quantitative comparisons with the data,\n",
    "* compute the DIC and evidence.\n",
    "\n",
    "Then compare the DIC values and the evidence values of the two models. Is one strongly prefered over the other, and does this preference (or lack thereof) agree with your intuition given the visual model checks?"
   ]
  },
  {
   "cell_type": "code",
   "execution_count": null,
   "metadata": {},
   "outputs": [],
   "source": []
  },
  {
   "cell_type": "markdown",
   "metadata": {},
   "source": [
    "## Challenge Problem 2\n",
    "\n",
    "As already mentioned, the naive approach to calculating the evidence used above is not a good one to use in general (especially as the number of model parameters increases). Repeat the evidence calculation using a package specifically designed to deal with this challenge, such as [`dynesty`](https://dynesty.readthedocs.io/en/latest/). Compare with the results of the simple calculation above.\n",
    "\n",
    "(Author note: we haven't actually tried to use `dynesty` before, so if you get it to work please send us your notebook to look at!)"
   ]
  },
  {
   "cell_type": "code",
   "execution_count": null,
   "metadata": {},
   "outputs": [],
   "source": []
  }
 ],
 "metadata": {
  "anaconda-cloud": {},
  "kernelspec": {
   "display_name": "Python 3",
   "language": "python",
   "name": "python3"
  },
  "language_info": {
   "codemirror_mode": {
    "name": "ipython",
    "version": 3
   },
   "file_extension": ".py",
   "mimetype": "text/x-python",
   "name": "python",
   "nbconvert_exporter": "python",
   "pygments_lexer": "ipython3",
   "version": "3.6.8"
  }
 },
 "nbformat": 4,
 "nbformat_minor": 2
}
