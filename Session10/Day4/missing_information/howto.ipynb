{
 "cells": [
  {
   "cell_type": "markdown",
   "metadata": {},
   "source": [
    "This notebook is developed as part of the [KIPAC/StatisticalMethods course](https://github.com/KIPAC/StatisticalMethods), (c) 2019 Adam Mantz, licensed under the GPLv2.\n",
    "\n",
    "# What's the deal with REPLACE_WITH_YOUR_SOLUTION?\n",
    "\n",
    "Tutorial notebooks from [KIPAC/StatisticalMethods](https://github.com/KIPAC/StatisticalMethods) will all start with these definitions:"
   ]
  },
  {
   "cell_type": "code",
   "execution_count": null,
   "metadata": {},
   "outputs": [],
   "source": [
    "class SolutionMissingError(Exception):\n",
    "    def __init__(self):\n",
    "        Exception.__init__(self,\"You need to complete the solution for this code to work!\")\n",
    "def REPLACE_WITH_YOUR_SOLUTION():\n",
    "    raise SolutionMissingError\n",
    "REMOVE_THIS_LINE = REPLACE_WITH_YOUR_SOLUTION"
   ]
  },
  {
   "cell_type": "markdown",
   "metadata": {},
   "source": [
    "You'll then see cells that look something like this:"
   ]
  },
  {
   "cell_type": "code",
   "execution_count": null,
   "metadata": {},
   "outputs": [],
   "source": [
    "# Set x equal to something\n",
    "try:\n",
    "    exec(open('solutions/setx.py').read())\n",
    "except IOError:\n",
    "    x = REPLACE_WITH_YOUR_SOLUTION()"
   ]
  },
  {
   "cell_type": "markdown",
   "metadata": {},
   "source": [
    "Go ahead and try to run it. You'll get an error traceback, the end of which points out that you've neglected to provide a solution to the posed problem. This is our preferred method of providing incomplete code, since an alternative like\n",
    "```python\n",
    "x = # set x equal to something\n",
    "```\n",
    "will throw a different and less informative error if you accidentally run the cell before completing it."
   ]
  },
  {
   "cell_type": "markdown",
   "metadata": {},
   "source": [
    "The `try`-`except` wrapper is there so that we, the developers, can easily verify that the entire notebook runs if provided with a correct solution. There is no need for you to write solutions for each cell in separate files, and doing so will just make this notebook harder for you to use later. Instead, we suggest removing the `try`-`except` construction entirely, so your completed notebook cell would look like"
   ]
  },
  {
   "cell_type": "code",
   "execution_count": null,
   "metadata": {},
   "outputs": [],
   "source": [
    "# Set x equal to something\n",
    "x = 5.0"
   ]
  },
  {
   "cell_type": "markdown",
   "metadata": {},
   "source": [
    "You'll also see cells in this format:"
   ]
  },
  {
   "cell_type": "code",
   "execution_count": null,
   "metadata": {},
   "outputs": [],
   "source": [
    "# Define a function that does stuff\n",
    "try:\n",
    "    exec(open('solutions/func.py').read())\n",
    "except IOError:\n",
    "    REMOVE_THIS_LINE()\n",
    "    def myfunc(a, b):\n",
    "        c = REPLACE_WITH_YOUR_SOLUTION()\n",
    "        return REPLACE_WITH_YOUR_SOLUTION()"
   ]
  },
  {
   "cell_type": "markdown",
   "metadata": {},
   "source": [
    "The idea is exactly the same, except that the calls to `REPLACE_WITH_YOUR_SOLUTION` within the function skeleton wouldn't throw an exception when the cell is run, since the function isn't called at that time. Hence the inclusion of `REMOVE_THIS_LINE()`, which ensures that an error is thrown immediately."
   ]
  },
  {
   "cell_type": "markdown",
   "metadata": {},
   "source": [
    "Hopefully all this is easy enough to deal with. Although it seems like extra work, this approach actually saves time, since trying to maintain separate problem and solution notebooks inevitably results in bugs creeping in. If in doubt, just DO_WHAT_THE_CAPITAL_LETTERS_SAY."
   ]
  }
 ],
 "metadata": {
  "kernelspec": {
   "display_name": "Python 3",
   "language": "python",
   "name": "python3"
  },
  "language_info": {
   "codemirror_mode": {
    "name": "ipython",
    "version": 3
   },
   "file_extension": ".py",
   "mimetype": "text/x-python",
   "name": "python",
   "nbconvert_exporter": "python",
   "pygments_lexer": "ipython3",
   "version": "3.6.8"
  }
 },
 "nbformat": 4,
 "nbformat_minor": 2
}
