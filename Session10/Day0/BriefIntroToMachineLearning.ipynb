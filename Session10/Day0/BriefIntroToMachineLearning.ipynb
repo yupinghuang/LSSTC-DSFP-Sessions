{
 "cells": [
  {
   "cell_type": "markdown",
   "metadata": {
    "slideshow": {
     "slide_type": "slide"
    }
   },
   "source": [
    "# Machine Learning Applications for Astronomy\n",
    "========\n",
    "\n",
    "(or, but seriously - how does a machine learn?)\n",
    "\n",
    "#### Version 0.1\n",
    "\n",
    "***\n",
    "By AA Miller 2018 Nov 05"
   ]
  },
  {
   "cell_type": "markdown",
   "metadata": {
    "slideshow": {
     "slide_type": "slide"
    }
   },
   "source": [
    "## What is Machine Learning?\n",
    "\n",
    "Artificial Intelligence, clustering, data mining, pattern recognition, ...\n",
    "\n",
    "Lots of hype, lots of buzz, and lots and lots of \\$$$."
   ]
  },
  {
   "cell_type": "markdown",
   "metadata": {
    "slideshow": {
     "slide_type": "slide"
    }
   },
   "source": [
    "Summarizing the excitement for machine learning with one figure: \n",
    "\n",
    "<img style=\"display: block; margin-left: auto; margin-right: auto\" src=\"images/ImageNet.jpg\" align=\"middle\">\n",
    "\n",
    "<div align=\"right\"> <font size=\"-3\">(credit: https://www.researchgate.net/Winner-results-of-the-ImageNet-large-scale-visual-recognition-challenge-LSVRC-of-the_fig7_324476862) </font></div>"
   ]
  },
  {
   "cell_type": "markdown",
   "metadata": {
    "slideshow": {
     "slide_type": "slide"
    }
   },
   "source": [
    "So... what is it?\n",
    "\n",
    "Bishop's text book provides a useful 4 word summary: \n",
    "\n",
    "<img style=\"display: block; margin-left: auto; margin-right: auto\" src=\"images/Pattern-Recognition-and-Machine-Learning-Information-Science-and-Statistics.jpg\" align=\"middle\">\n",
    "\n",
    "<div align=\"right\"> <font size=\"-3\">(credit: Springer-Verlag New York) </font></div>"
   ]
  },
  {
   "cell_type": "markdown",
   "metadata": {
    "slideshow": {
     "slide_type": "subslide"
    }
   },
   "source": [
    "Briefly, machine learning algorithms build highly complex, non-linear models (i.e., these things are black boxes) to map outcomes from input information.\n",
    "\n",
    "Ultimately, machine learning is fundamentally concerned with classification (i.e. predicting outcomes). "
   ]
  },
  {
   "cell_type": "markdown",
   "metadata": {
    "slideshow": {
     "slide_type": "slide"
    }
   },
   "source": [
    "As astronomers and astrophysicists –– this is great news!\n",
    "\n",
    "The history of astronomy is a long story of classification. Essentially, point a telescope at some new location in the sky, and there is a decent chance you might find something that has never been seen before. Now, figure out how this new thing relates to all the things that you already know (classification).  "
   ]
  },
  {
   "cell_type": "markdown",
   "metadata": {
    "slideshow": {
     "slide_type": "subslide"
    }
   },
   "source": [
    "Astronomy is (and has been) an observational/experimental led field. The typical pattern is obsservers find some weird thing, and then the theorists try to explain what is going on (there are obviously exceptions, predictions for kilonovae prior to the LIGO detection of a neutron star-neutron star merger are a recent example).\n",
    "\n",
    "This makes us very different from physics, where theory generates predictions that then lead the observations (e.g., Higgs boson, general relativity, etc.)."
   ]
  },
  {
   "cell_type": "markdown",
   "metadata": {
    "slideshow": {
     "slide_type": "subslide"
    }
   },
   "source": [
    "Thus, if machine learning fundamentally is about classification, and astronomers spend all their time classifying objects, that must mean that machine learning and astronomy are a match made in heaven.\n",
    "\n",
    "\n",
    "\n",
    "Right?"
   ]
  },
  {
   "cell_type": "markdown",
   "metadata": {
    "slideshow": {
     "slide_type": "subslide"
    }
   },
   "source": [
    "This is where I say – not so fast.$^\\dagger$\n",
    "\n",
    "Even though astronomy is an observationally-led, classification-concerned field, ultimately, like physicists, we care about the development of a physical understanding of how the Universe works. And this is not what machine learning is fundamentally built to do.\n",
    "\n",
    "$^\\dagger$ A long list of people would dispute this assertion."
   ]
  },
  {
   "cell_type": "markdown",
   "metadata": {
    "slideshow": {
     "slide_type": "subslide"
    }
   },
   "source": [
    "In other words, \n",
    "\n",
    "machine learning $\\longleftrightarrow$ prediction\n",
    "\n",
    "astronomy $\\longleftrightarrow$ inference\n",
    "\n",
    "And thus, astronomy and machine learning may not be a match made in heaven. "
   ]
  },
  {
   "cell_type": "markdown",
   "metadata": {
    "slideshow": {
     "slide_type": "slide"
    }
   },
   "source": [
    "## Basic Concepts of Machine Learning\n",
    "\n",
    "Broadly, there are 2 types of machine learning: \n",
    "\n",
    "  *  There are no known outcomes for the data $\\longleftrightarrow$ unsupervised machine learning\n",
    "  *  Outcomes are known for a subset of the data $\\longleftrightarrow$ supervised machine learning\n"
   ]
  },
  {
   "cell_type": "markdown",
   "metadata": {
    "slideshow": {
     "slide_type": "slide"
    }
   },
   "source": [
    "### Unsupervised Machine Learning\n",
    "\n",
    "(aka clustering, data mining)\n",
    "\n",
    "1. Algorithm is designed to cluster data into groups\n",
    "2. No natural metric for measuring the quality of clustering (3, 4, or 17 clusters)\n",
    "3. Can be very useful for data exploration"
   ]
  },
  {
   "cell_type": "markdown",
   "metadata": {
    "slideshow": {
     "slide_type": "slide"
    }
   },
   "source": [
    "### Supervised Machine Learning\n",
    "\n",
    "1. Algorithm builds a map between data and (known) outcomes for a subset of the data\n",
    "2. Algorithm is optimized to maximize accuracy\n",
    "3. Useful for both classification and regression"
   ]
  },
  {
   "cell_type": "markdown",
   "metadata": {
    "slideshow": {
     "slide_type": "slide"
    }
   },
   "source": [
    "## Terminology\n",
    "\n",
    "Features – measured properties (numerical or categorical)\n",
    "\n",
    "Labels – outcomes, i.e., thing the algorithm predicts\n",
    "\n",
    "Training set – subset of the full data set where features and labels are known (used to train the model)"
   ]
  },
  {
   "cell_type": "markdown",
   "metadata": {
    "slideshow": {
     "slide_type": "subslide"
    }
   },
   "source": [
    "Adam's 1 slide summary of supervised machine learning: \n",
    "\n",
    "<img style=\"display: block; margin-left: auto; margin-right: auto\" src=\"images/ML_diagram.png\" align=\"middle\">"
   ]
  },
  {
   "cell_type": "markdown",
   "metadata": {
    "slideshow": {
     "slide_type": "slide"
    }
   },
   "source": [
    "True positive (TP) = + classified as +\n",
    "\n",
    "False positive (FP) = - classified as + (type I error)\n",
    "\n",
    "True negative (TN) = - classified as -\n",
    "\n",
    "False negative (FN) = + classified as - (type II error)"
   ]
  },
  {
   "cell_type": "markdown",
   "metadata": {
    "slideshow": {
     "slide_type": "slide"
    }
   },
   "source": [
    "## Problem 1\n",
    "\n",
    "What is more detrimental when building a model: false positives or false negatives?"
   ]
  },
  {
   "cell_type": "markdown",
   "metadata": {
    "slideshow": {
     "slide_type": "subslide"
    }
   },
   "source": [
    "*Take a few minutes to discuss with your partner*"
   ]
  },
  {
   "cell_type": "markdown",
   "metadata": {
    "slideshow": {
     "slide_type": "subslide"
    }
   },
   "source": [
    "Ultimately, this depends on the problem at hand. If you are building a model to detect cancer, false negatives are really really bad. If you are building a model to find extremely metal poor stars, and then you obtain a 10 hr spectrum on a 10 m telescope to confirm your candidates, false positives are really really bad."
   ]
  },
  {
   "cell_type": "markdown",
   "metadata": {
    "slideshow": {
     "slide_type": "slide"
    }
   },
   "source": [
    "From TP, FP, TN, and FN, it is possible to calculate several useful metrics for evaluating your model:\n",
    "\n",
    "Accuracy = (TP + TN)/(TP + FP + TN + FN)\n",
    "\n",
    "True Positive Rate (TPR) = TP/(TP + FN)\n",
    "\n",
    "False Positive Rate (FPR) = FP/(TN + FP)"
   ]
  },
  {
   "cell_type": "markdown",
   "metadata": {
    "slideshow": {
     "slide_type": "subslide"
    }
   },
   "source": [
    "By varying the classification threshold, it is possible to determine the TPR as a function of FPR, also known as the [Receiver Operating Characteristic (ROC) curve](https://en.wikipedia.org/wiki/Receiver_operating_characteristic)\n",
    "\n",
    "<img style=\"display: block; margin-left: auto; margin-right: auto\" src=\"images/ROCcurve.png\" align=\"middle\">\n",
    "\n",
    "<div align=\"right\"> <font size=\"-3\">(credit: Zahiri et al. 2013) </font></div>"
   ]
  },
  {
   "cell_type": "markdown",
   "metadata": {
    "slideshow": {
     "slide_type": "subslide"
    }
   },
   "source": [
    "Precision = TP/(TP + FP)\n",
    "\n",
    "This is an incredibly useful metric for astronmical applications, because it informs the degree of loss when obtaining follow up observations (follow up is expensive, e.g., we can only obtain spectra for a small fraction of LSST objects - how to choose which ones to observe?)"
   ]
  },
  {
   "cell_type": "markdown",
   "metadata": {
    "slideshow": {
     "slide_type": "slide"
    }
   },
   "source": [
    "Cross validation (CV) – method to estimate any of the above metrics using the training set alone\n",
    "\n",
    "Basic idea for $k$-fold CV: remove 1/$k$ from training set, train model on remaining data and predict labels for the remaining 1/$k$. Repeat $k$ times.\n",
    "\n",
    "Enables unique predictions for every training set source."
   ]
  },
  {
   "cell_type": "markdown",
   "metadata": {
    "slideshow": {
     "slide_type": "subslide"
    }
   },
   "source": [
    "CV enables the construction of the confusion matrix:\n",
    "\n",
    "\n",
    "<img style=\"display: block; margin-left: auto; margin-right: auto\" src=\"images/ConfusionMatrix.png\" align=\"middle\">\n",
    "\n",
    "<div align=\"right\"> <font size=\"-3\">(credit: Richards et al. 2013) </font></div>\n"
   ]
  },
  {
   "cell_type": "markdown",
   "metadata": {
    "slideshow": {
     "slide_type": "slide"
    }
   },
   "source": [
    "## Why is Adam Warning Me About Machine Learning?\n",
    "\n",
    "Training sets are hard. \n",
    "\n",
    "Why is this? Bias. Pattern matching cannot inherently know about bias, and so biases in the training set will be propagated to the final model predictions. "
   ]
  },
  {
   "cell_type": "markdown",
   "metadata": {
    "slideshow": {
     "slide_type": "subslide"
    }
   },
   "source": [
    "Furthermore, nearly every survey is guaranteed to have a biased training set. Any new survey is likely to be observing the sky in some unique fashion, and thus probing parameter space in some new way. This new survey mode will therefore find sources that were not present in the previous survey. \n",
    "\n",
    "For example, a new survey that goes 1.5 mag deeper than the previous survey will find a lot of galaxies at higher redshifts. Furthermore, at fixed redshift, the new survey will find more intrinsically faint galaxies. These high redshift and intrinsically faint galaxies, will not have counterparts in a training set based on the previous survey, and therefore they will be classified incorrectly.\n",
    "\n",
    "\n",
    "This is known as *sample selection bias* and it is nasty. "
   ]
  },
  {
   "cell_type": "markdown",
   "metadata": {
    "slideshow": {
     "slide_type": "slide"
    }
   },
   "source": [
    "## Problem 2\n",
    "\n",
    "Based on very sound theoretical reasoning, you expect to find the following in a sample of 100 stars: 60 orange stars, 30 purple stars, and 10 grey stars.\n",
    "\n",
    "Data from another survey includes 1000 orange stars, 200 purple stars, and 14 grey stars. \n",
    "\n",
    "Furthermore, 14 of the orange stars, 7 of the purple stars, and 5 of the grey stars have features that are missing. \n",
    "\n",
    "You need to build a model to classify stars as either orange, purple, or grey. What do you do?"
   ]
  },
  {
   "cell_type": "markdown",
   "metadata": {
    "slideshow": {
     "slide_type": "subslide"
    }
   },
   "source": [
    "*Take a few minutes to discuss with your partner*"
   ]
  },
  {
   "cell_type": "markdown",
   "metadata": {
    "slideshow": {
     "slide_type": "subslide"
    }
   },
   "source": [
    "There is no correct answer here. Given what we know, I'd do the following: \n",
    "\n",
    "  *  throw away the sources with the missing data\n",
    "  *  fit an unsupervized clustering model to the data to identify whether classes are easily separable\n",
    "  *  sample from the training set to create a distribution that matches the theoretical prediction\n",
    "  *  fit the machine learning model and make final predictions"
   ]
  },
  {
   "cell_type": "markdown",
   "metadata": {
    "slideshow": {
     "slide_type": "slide"
    }
   },
   "source": [
    "## Conclusions\n",
    "\n",
    "Machine learning algorithms are extremely powerful (next generation may not learn to drive)\n",
    "\n",
    "Machine learning = prediction; astronomy = inference (be caseful about equating the two)\n",
    "\n",
    "All astronomical training sets are biased – very difficult to properly interpret (some) predictions as a result"
   ]
  }
 ],
 "metadata": {
  "celltoolbar": "Slideshow",
  "kernelspec": {
   "display_name": "Python 3",
   "language": "python",
   "name": "python3"
  },
  "language_info": {
   "codemirror_mode": {
    "name": "ipython",
    "version": 3
   },
   "file_extension": ".py",
   "mimetype": "text/x-python",
   "name": "python",
   "nbconvert_exporter": "python",
   "pygments_lexer": "ipython3",
   "version": "3.7.4"
  }
 },
 "nbformat": 4,
 "nbformat_minor": 2
}
