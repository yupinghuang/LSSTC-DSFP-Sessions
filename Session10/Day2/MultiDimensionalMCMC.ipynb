{
 "cells": [
  {
   "cell_type": "code",
   "execution_count": null,
   "metadata": {
    "colab": {
     "base_uri": "https://localhost:8080/",
     "height": 224
    },
    "colab_type": "code",
    "id": "ZzlU0mHNuVq-",
    "outputId": "2f8402a6-6fb3-4b09-ec4d-fbcaccfb9263"
   },
   "outputs": [],
   "source": [
    "!pip install emcee==3.0rc2\n",
    "!pip install corner"
   ]
  },
  {
   "cell_type": "code",
   "execution_count": null,
   "metadata": {
    "colab": {},
    "colab_type": "code",
    "id": "zJrPiP3dVaLV"
   },
   "outputs": [],
   "source": [
    "import numpy as np\n",
    "import pandas as pd\n",
    "from scipy.optimize import minimize, newton\n",
    "import emcee\n",
    "import corner\n",
    "\n",
    "import matplotlib.pyplot as plt\n",
    "\n",
    "np.random.seed(42)"
   ]
  },
  {
   "cell_type": "markdown",
   "metadata": {
    "colab_type": "text",
    "id": "mPbqK8rtVaLd"
   },
   "source": [
    "#   Multi-Dimensional Integration with MCMC\n",
    "\n",
    "-----\n",
    "\n",
    "By Megan Bedell (Flatiron Institute)\n",
    "\n",
    "10 September 2019"
   ]
  },
  {
   "cell_type": "markdown",
   "metadata": {
    "colab_type": "text",
    "id": "xBt_glweW7Nk"
   },
   "source": [
    "### Problem 1: Fitting a Sinusoid to Data\n",
    "\n",
    "In this example, we will download a time series of radial velocities for the star HD209458. This star hosts a Hot Jupiter exoplanet. In fact, [this planet](https://en.wikipedia.org/wiki/HD_209458_b) was the first to be seen in transit and was discovered 20 years ago yesterday!\n",
    "\n",
    "Because the eccentricity is low for this planet, we can fit its orbit in the radial velocities with a relatively simple model: a sinusoid."
   ]
  },
  {
   "cell_type": "markdown",
   "metadata": {
    "colab_type": "text",
    "id": "-aZptzfVY7ry"
   },
   "source": [
    "Below is a snippet of code that will download the time-series data from [NASA Exoplanet Archive](https://exoplanetarchive.ipac.caltech.edu/):"
   ]
  },
  {
   "cell_type": "code",
   "execution_count": null,
   "metadata": {
    "colab": {},
    "colab_type": "code",
    "id": "PbxNvTrAVaLf"
   },
   "outputs": [],
   "source": [
    "datafile = 'https://exoplanetarchive.ipac.caltech.edu/data/ExoData/0108/0108859/data/UID_0108859_RVC_001.tbl'\n",
    "data = pd.read_fwf(datafile, header=0, names=['t', 'rv', 'rv_err'], skiprows=22)\n",
    "data['t'] -= data['t'][0]"
   ]
  },
  {
   "cell_type": "markdown",
   "metadata": {
    "colab_type": "text",
    "id": "UgsayphyZEJV"
   },
   "source": [
    "#### Problem 1a\n",
    "Plot the data. Let's take a look at what we're working with!"
   ]
  },
  {
   "cell_type": "code",
   "execution_count": null,
   "metadata": {
    "colab": {
     "base_uri": "https://localhost:8080/",
     "height": 283
    },
    "colab_type": "code",
    "id": "h-bD2rLAVaLj",
    "outputId": "837efc6e-a6e3-4bbf-de79-4afa1fe46ac8"
   },
   "outputs": [],
   "source": [
    "fig, ax = plt.subplots()\n",
    "ax.errorbar( # complete\n",
    "ax.set_xlabel('Time (days)')\n",
    "ax.set_ylabel(r'RV (m s$^{-1}$)');"
   ]
  },
  {
   "cell_type": "markdown",
   "metadata": {
    "colab_type": "text",
    "id": "uHJ5IlyZZKQi"
   },
   "source": [
    "#### Problem 1b\n",
    "\n",
    "Write the sinusoid function that we want to fit and get ready to run MCMC with helper functions."
   ]
  },
  {
   "cell_type": "markdown",
   "metadata": {
    "colab_type": "text",
    "id": "TMe9ZF5MIe1O"
   },
   "source": [
    "First let's write a \"get_model_predictions\" function - this will resemble yesterday's same-named function, but instead of returning a line it should return a sinusoid. I suggest using the following free parameters, although there are a few alternative options that you may use instead:\n",
    "\n",
    "\n",
    "\n",
    "```\n",
    "theta = [p, # period of the sinusoid\n",
    "         a, # semi-amplitude of the sinusoid\n",
    "         t0, # reference x at which sine phase = 0\n",
    "         rv0] # constant offset in y\n",
    "```\n",
    "\n",
    "The RV prediction is then:\n",
    "$$RV(t) = a \\sin\\Big(\\frac{2\\pi}{p} (t - t_0)\\Big) + rv_0$$\n"
   ]
  },
  {
   "cell_type": "code",
   "execution_count": null,
   "metadata": {
    "colab": {},
    "colab_type": "code",
    "id": "syuzuBZkXolQ"
   },
   "outputs": [],
   "source": [
    "def get_model_predictions(theta, t):\n",
    "  '''\n",
    "  Calculate RV predictions for parameters theta and timestamps t.\n",
    "  '''\n",
    "  period, amplitude, t0, rv0 = theta\n",
    "  model_preds = # complete\n",
    "  return model_preds"
   ]
  },
  {
   "cell_type": "markdown",
   "metadata": {
    "colab_type": "text",
    "id": "q-L7sOv4J0qb"
   },
   "source": [
    "Write a lnprior function with flat priors on all parameters - again, this will be similar to yesterday's function, but with different values.\n",
    "\n",
    "*Hint: some of the bounds on these parameters will be physically motivated (i.e. orbital period cannot be negative). For others, you'll need to guess something reasonable but generous - i.e., a Hot Jupiter planet probably does not have an orbital period above a year or so.*"
   ]
  },
  {
   "cell_type": "code",
   "execution_count": null,
   "metadata": {
    "colab": {},
    "colab_type": "code",
    "id": "PHV_WUkDJzVB"
   },
   "outputs": [],
   "source": [
    "def lnprior(theta):\n",
    "    period, amplitude, t0, rv0 = theta\n",
    "    if 0 < period <= 1e4 and # complete\n",
    "        lnp = np.log(1e-4) + # complete\n",
    "    else:\n",
    "        return -np.inf  \n",
    "    return lnp"
   ]
  },
  {
   "cell_type": "markdown",
   "metadata": {
    "colab_type": "text",
    "id": "p8dewjvBHmTE"
   },
   "source": [
    "The following functions can be reused as-is from the previous day's Metropolis-Hastings exercise, so just copy-and-paste or import them:\n",
    "\n",
    "lnlikelihood, lnposterior, hastings_ratio, propose_jump, mh_mcmc\n",
    "\n"
   ]
  },
  {
   "cell_type": "code",
   "execution_count": null,
   "metadata": {
    "colab": {},
    "colab_type": "code",
    "id": "SeONIfWwVaLr"
   },
   "outputs": [],
   "source": [
    "def lnlikelihood(theta, y, x, y_unc):\n",
    "    model_preds = get_model_predictions(theta, x)\n",
    "    \n",
    "    lnl = -np.sum((y-model_preds)**2/(2*y_unc**2))\n",
    "    \n",
    "    return lnl\n",
    "  \n",
    "\n",
    "def lnposterior(theta, y, x, y_unc):\n",
    "    lnp = lnprior(theta)\n",
    "    if not np.isfinite(lnp):\n",
    "        return -np.inf\n",
    "    lnl = lnlikelihood(theta, y, x, y_unc)\n",
    "    lnpost = lnl + lnp\n",
    "        \n",
    "    return lnpost\n",
    "\n",
    "def hastings_ratio(theta_1, theta_0, y, x, y_unc):\n",
    "    lnpost1 = lnposterior(theta_1, y, x, y_unc)\n",
    "    lnpost0 = lnposterior(theta_0, y, x, y_unc)\n",
    "    \n",
    "    h_ratio = np.exp(lnpost1 - lnpost0)\n",
    "    \n",
    "    return h_ratio\n",
    "  \n",
    "\n",
    "def propose_jump(theta, cov):\n",
    "    if np.shape(theta) == np.shape(cov):\n",
    "        cov = np.diag(np.array(cov)**2)\n",
    "    \n",
    "    proposed_position = np.random.multivariate_normal(theta, cov)\n",
    "    \n",
    "    return proposed_position\n",
    "  \n",
    "def mh_mcmc(theta_0, cov, nsteps, y, x, y_unc):\n",
    "    \n",
    "    positions = np.zeros((nsteps+1, len(theta_0)))\n",
    "    lnpost_at_pos = -np.inf*np.ones(nsteps+1)\n",
    "    acceptance_ratio = np.zeros_like(lnpost_at_pos)\n",
    "    accepted = 0\n",
    "    \n",
    "    positions[0] = theta_0\n",
    "    lnpost_at_pos[0] = lnposterior(theta_0, y, x, y_unc)\n",
    "    \n",
    "    for step_num in np.arange(1, nsteps+1):\n",
    "        proposal = propose_jump(positions[step_num-1], cov)\n",
    "        H = hastings_ratio(proposal, positions[step_num-1], y, x, y_unc)\n",
    "        R = np.random.uniform()\n",
    "        \n",
    "        if H > R:\n",
    "            accepted += 1\n",
    "            positions[step_num] = proposal\n",
    "            lnpost_at_pos[step_num] = lnposterior(proposal, y, x, y_unc)\n",
    "            acceptance_ratio[step_num] = float(accepted)/step_num\n",
    "        else:\n",
    "            positions[step_num] = positions[step_num-1]\n",
    "            lnpost_at_pos[step_num] = lnpost_at_pos[step_num-1]\n",
    "            acceptance_ratio[step_num] = float(accepted)/step_num\n",
    "    \n",
    "    return (positions, lnpost_at_pos, acceptance_ratio)\n",
    " "
   ]
  },
  {
   "cell_type": "markdown",
   "metadata": {
    "colab_type": "text",
    "id": "5bNn1MhBqvJ5"
   },
   "source": [
    "#### Problem 1c\n",
    "\n",
    "Run the MCMC."
   ]
  },
  {
   "cell_type": "markdown",
   "metadata": {
    "colab_type": "text",
    "id": "3-c7HErDV47m"
   },
   "source": [
    "Let's start with initialization values.\n",
    "\n",
    "To save some time, I will assert that if we made a Lomb-Scargle periodogram of the RVs, there would be a peak near period = 3.53 days, so start with that guess and let's figure out what the best values might be for the other parameters.\n",
    "\n",
    "(If you finish early and are up for a bonus problem, you can double-check my assertion using [astropy timeseries](https://docs.astropy.org/en/stable/timeseries/lombscargle.html)!)"
   ]
  },
  {
   "cell_type": "code",
   "execution_count": null,
   "metadata": {
    "colab": {},
    "colab_type": "code",
    "id": "pZ-2wc_dVekN"
   },
   "outputs": [],
   "source": [
    "theta_0 = [3.53, # complete"
   ]
  },
  {
   "cell_type": "markdown",
   "metadata": {
    "colab_type": "text",
    "id": "Wu3eVIsZWFw8"
   },
   "source": [
    "Now run the MCMC for 5000 steps. I'll give you (the diagonal of a) covariance matrix for the multi-dimensional Gaussian proposal function to start with. As you saw yesterday afternoon, this `cov` parameter sets the step sizes that the M-H algorithm will use when it proposes new values."
   ]
  },
  {
   "cell_type": "code",
   "execution_count": null,
   "metadata": {
    "colab": {
     "base_uri": "https://localhost:8080/",
     "height": 34
    },
    "colab_type": "code",
    "id": "Bt9ndLZVHuNa",
    "outputId": "3fd67a60-b6d8-4576-b1f7-1636666fc30f"
   },
   "outputs": [],
   "source": [
    "cov = [0.01, 1, 0.05, 0.01]\n",
    "pos, lnpost, acc = mh_mcmc( # complete"
   ]
  },
  {
   "cell_type": "markdown",
   "metadata": {
    "colab_type": "text",
    "id": "P1wFdT0XW3y4"
   },
   "source": [
    "Do a pairs plot for the first two parameters. Does the behavior of this chain seem efficient?"
   ]
  },
  {
   "cell_type": "code",
   "execution_count": null,
   "metadata": {
    "colab": {
     "base_uri": "https://localhost:8080/",
     "height": 297
    },
    "colab_type": "code",
    "id": "kxHd9_ECJqu1",
    "outputId": "8f378d4e-15f2-4760-fac5-5f6e7b6a405b"
   },
   "outputs": [],
   "source": [
    "fig, ax = plt.subplots()\n",
    "ax.plot( # complete\n",
    "ax.plot(theta_0[0], theta_0[1], '*', ms=30, \n",
    "        mfc='Crimson', mec='0.8', mew=2, \n",
    "        alpha=0.7)\n",
    "ax.set_xlabel('Period', fontsize=14)\n",
    "ax.set_ylabel(r'K (m s$^{-1}$)', fontsize=14)\n",
    "fig.tight_layout()"
   ]
  },
  {
   "cell_type": "markdown",
   "metadata": {
    "colab_type": "text",
    "id": "JQmNhA7Rqoqh"
   },
   "source": [
    "#### Problem 1d\n",
    "\n",
    "There were a couple of issues with the previous MCMC run. Let's start with this one: we started the chains running at a place that was not very close to the best-fit solution.\n",
    "\n",
    "Find a better set of initialization values by optimizing *before* we run the MCMC."
   ]
  },
  {
   "cell_type": "markdown",
   "metadata": {
    "colab_type": "text",
    "id": "gfdlpY0QMNNj"
   },
   "source": [
    "We'll use scipy.optimize.minimize to get best-fit parameters. Remember that the lnlikelihood function needs to be *maximized* not *minimized*, so we'll need a new function that works the same way, but negative."
   ]
  },
  {
   "cell_type": "code",
   "execution_count": null,
   "metadata": {
    "colab": {
     "base_uri": "https://localhost:8080/",
     "height": 51
    },
    "colab_type": "code",
    "id": "0JEPn8wBbpdb",
    "outputId": "6528dad4-6cf9-49ae-b1b2-75f2a104c712"
   },
   "outputs": [],
   "source": [
    "def nll(*par):\n",
    "  #complete\n",
    "  \n",
    "res = minimize(nll, theta_0, \n",
    "               args=(data['rv'], data['t'], data['rv_err']),\n",
    "               method='Powell')\n",
    "print('Optimizer finished with message \"{0}\" and \\n\\\n",
    "      best-fit parameters {1}'.format(res['message'], res['x']))"
   ]
  },
  {
   "cell_type": "markdown",
   "metadata": {
    "colab_type": "text",
    "id": "QVCvuEldXZGt"
   },
   "source": [
    "Plot the data points and your best-fit model. Does the fit look reasonable? (You may need to zoom into a small time range to tell.)"
   ]
  },
  {
   "cell_type": "code",
   "execution_count": null,
   "metadata": {
    "colab": {
     "base_uri": "https://localhost:8080/",
     "height": 283
    },
    "colab_type": "code",
    "id": "Cgc_3cKi-ZcF",
    "outputId": "4c0131f9-0da2-47a0-d7cf-4494c1aed399"
   },
   "outputs": [],
   "source": [
    "# complete\n",
    "plt.xlabel('Time (days)')\n",
    "plt.ylabel(r'RV (m s$^{-1}$)');"
   ]
  },
  {
   "cell_type": "markdown",
   "metadata": {
    "colab_type": "text",
    "id": "jrifZ-dd-L_S"
   },
   "source": [
    "Another way to see if we're on the right track is to plot the data phased to the orbital period that we found. Do that and optionally overplot the phased model as well."
   ]
  },
  {
   "cell_type": "code",
   "execution_count": null,
   "metadata": {
    "colab": {
     "base_uri": "https://localhost:8080/",
     "height": 283
    },
    "colab_type": "code",
    "id": "ayB5r6wSdxLc",
    "outputId": "c9c35021-cafd-40fc-eb43-ca74613b29c2"
   },
   "outputs": [],
   "source": [
    "period, amplitude, t0, rv0 = res['x']\n",
    "\n",
    "fig, ax = plt.subplots()\n",
    "phased_t = (data['t'] - t0) % period\n",
    "# complete"
   ]
  },
  {
   "cell_type": "markdown",
   "metadata": {
    "colab_type": "text",
    "id": "PAhrZmn1Z4cx"
   },
   "source": [
    "Now re-run the MCMC using these parameters as the initial values and make another pairs plot. Again, I'm going to give you some step size parameters to start with. Because we're now initializing the chain close to the likelihood maximum, we don't want it to move too far away, so I've lowered the values of `cov`."
   ]
  },
  {
   "cell_type": "code",
   "execution_count": null,
   "metadata": {
    "colab": {},
    "colab_type": "code",
    "id": "IEjLwO6eZ8sp"
   },
   "outputs": [],
   "source": [
    "theta_bestfit = res['x']\n",
    "cov = [0.001, 0.1, 0.01, 0.1]\n",
    "\n",
    "pos, lnpost, acc = mh_mcmc( # complete"
   ]
  },
  {
   "cell_type": "code",
   "execution_count": null,
   "metadata": {
    "colab": {
     "base_uri": "https://localhost:8080/",
     "height": 297
    },
    "colab_type": "code",
    "id": "awcEmR8YaU5h",
    "outputId": "1f4774eb-a93b-46c3-f602-13a598162d3f"
   },
   "outputs": [],
   "source": [
    "fig, ax = plt.subplots()\n",
    "ax.plot( # complete\n",
    "ax.plot(theta_bestfit[0], theta_bestfit[1], '*', ms=30, \n",
    "        mfc='Crimson', mec='0.8', mew=2, \n",
    "        alpha=0.7)\n",
    "ax.set_xlabel('Period', fontsize=14)\n",
    "ax.set_ylabel(r'K (m s$^{-1}$)', fontsize=14)\n",
    "fig.tight_layout()"
   ]
  },
  {
   "cell_type": "markdown",
   "metadata": {
    "colab_type": "text",
    "id": "2pGVLnEbq3Ne"
   },
   "source": [
    "#### Problem 1e\n",
    "\n",
    "Now let's tackle another issues: chain efficiency. Calculate the auto-correlation length of your chain."
   ]
  },
  {
   "cell_type": "markdown",
   "metadata": {
    "colab_type": "text",
    "id": "2OKo8YaNs-J5"
   },
   "source": [
    "First, let's just plot the sequence of orbital period values in the chain in a trace plot. From eyeballing this sequence, about how many steps do you think are needed to reach a sample that is independent from the previous one(s)?"
   ]
  },
  {
   "cell_type": "code",
   "execution_count": null,
   "metadata": {
    "colab": {
     "base_uri": "https://localhost:8080/",
     "height": 276
    },
    "colab_type": "code",
    "id": "JRZqy2VdIjqT",
    "outputId": "7ca4d00f-ab72-4ff4-a300-4a37f897eff8"
   },
   "outputs": [],
   "source": [
    "plt.plot( # complete"
   ]
  },
  {
   "cell_type": "markdown",
   "metadata": {
    "colab_type": "text",
    "id": "vtaEXzFUulpn"
   },
   "source": [
    "Writing an autocorrelation function for this purpose actually gets a bit tricky, so we'll use the built-in functionality of emcee.\n",
    "\n",
    "For the documentation on these functions, check [the emcee user guide](https://emcee.readthedocs.io/en/latest/user/autocorr/).\n",
    "\n",
    "For a more in-depth look at how this is calculated and why it's tricky, check out [this tutorial](https://emcee.readthedocs.io/en/latest/tutorials/autocorr/)."
   ]
  },
  {
   "cell_type": "code",
   "execution_count": null,
   "metadata": {
    "colab": {
     "base_uri": "https://localhost:8080/",
     "height": 283
    },
    "colab_type": "code",
    "id": "fDjuBT8oigSk",
    "outputId": "d907d41c-6378-4183-a25d-10fead6e7e32"
   },
   "outputs": [],
   "source": [
    "acf = emcee.autocorr.function_1d(pos[:,0])\n",
    "plt.plot(acf)\n",
    "plt.xlabel('Lag')\n",
    "plt.ylabel('Normalized ACF');"
   ]
  },
  {
   "cell_type": "code",
   "execution_count": null,
   "metadata": {
    "colab": {
     "base_uri": "https://localhost:8080/",
     "height": 105
    },
    "colab_type": "code",
    "id": "15x-v7kDveiJ",
    "outputId": "49912fee-7f0b-4a7b-ee1e-25ea14136f1c"
   },
   "outputs": [],
   "source": [
    "act = emcee.autocorr.integrated_time(pos[:,0], quiet=True)\n",
    "print('The integrated autocorrelation time is estimated as: {0}'.format(act))"
   ]
  },
  {
   "cell_type": "markdown",
   "metadata": {
    "colab_type": "text",
    "id": "a8pmr0elr_UG"
   },
   "source": [
    "#### Problem 1f\n",
    "\n",
    "Change the step size of the MCMC. What does this do to the auto-correlation length? Does this seem better or worse, and why?"
   ]
  },
  {
   "cell_type": "code",
   "execution_count": null,
   "metadata": {
    "colab": {},
    "colab_type": "code",
    "id": "UGhmEYGDsJg8"
   },
   "outputs": [],
   "source": [
    "cov = [0.0001, 0.1, 0.01, 0.1]\n",
    "pos, lnpost, acc = mh_mcmc( # complete"
   ]
  },
  {
   "cell_type": "code",
   "execution_count": null,
   "metadata": {
    "colab": {
     "base_uri": "https://localhost:8080/",
     "height": 276
    },
    "colab_type": "code",
    "id": "tXzeq6lGtcwj",
    "outputId": "9c93e1da-fde3-4e94-ee4a-dbf9372d41cb"
   },
   "outputs": [],
   "source": [
    "plt.plot( # complete"
   ]
  },
  {
   "cell_type": "code",
   "execution_count": null,
   "metadata": {
    "colab": {
     "base_uri": "https://localhost:8080/",
     "height": 283
    },
    "colab_type": "code",
    "id": "nQihk2Z7v-bd",
    "outputId": "9a1387a2-626d-4c95-b9c4-cd48ecbaf787"
   },
   "outputs": [],
   "source": [
    "acf = # complete"
   ]
  },
  {
   "cell_type": "code",
   "execution_count": null,
   "metadata": {
    "colab": {
     "base_uri": "https://localhost:8080/",
     "height": 34
    },
    "colab_type": "code",
    "id": "RxND1QFjwAxt",
    "outputId": "031340e0-7d05-426a-c91a-d8222b6ee25a"
   },
   "outputs": [],
   "source": [
    "act = # complete"
   ]
  },
  {
   "cell_type": "markdown",
   "metadata": {
    "colab_type": "text",
    "id": "RBsI7Gv2wPYh"
   },
   "source": [
    "#### Problem 1g\n",
    "\n",
    "Using the step sizes and starting conditions that you deem best, run your MCMC for *at least* 500x the auto-correlation length to get a large number of independent samples. Plot the posterior distribution of radial velocity semi-amplitude K. This parameter is arguably the most important output of an RV fit, because it is a measurement of the mass of the planet."
   ]
  },
  {
   "cell_type": "code",
   "execution_count": null,
   "metadata": {
    "colab": {},
    "colab_type": "code",
    "id": "C2XHmMcr9TDP"
   },
   "outputs": [],
   "source": [
    "pos, lnpost, acc = mh_mcmc(# complete"
   ]
  },
  {
   "cell_type": "code",
   "execution_count": null,
   "metadata": {
    "colab": {
     "base_uri": "https://localhost:8080/",
     "height": 288
    },
    "colab_type": "code",
    "id": "vbvyGoOhww53",
    "outputId": "f694b6c0-6a2e-4eab-e9e7-5dd31f18f5b3"
   },
   "outputs": [],
   "source": [
    "plt.hist( # complete\n",
    "plt.xlabel(r'K (m s$^{-1}$)');"
   ]
  },
  {
   "cell_type": "markdown",
   "metadata": {
    "colab_type": "text",
    "id": "mGFYn9P5B0Z1"
   },
   "source": [
    "From these results, what can we say about the true value of K? What is the probability that K > 84 m/s? 85 m/s? 90 m/s? Are these numbers a reliable estimator of the true probability, in your opinion?"
   ]
  },
  {
   "cell_type": "code",
   "execution_count": null,
   "metadata": {
    "colab": {
     "base_uri": "https://localhost:8080/",
     "height": 68
    },
    "colab_type": "code",
    "id": "II88PSq8ABLT",
    "outputId": "4763fce0-8fb1-4ddd-b62c-469a723296de"
   },
   "outputs": [],
   "source": [
    "print('The probability that K > 84 m/s is: {0:.2f}'.format( # complete\n",
    "print('The probability that K > 85 m/s is: {0:.2f}'.format( # complete\n",
    "print('The probability that K > 90 m/s is: {0:.2f}'.format( # complete"
   ]
  },
  {
   "cell_type": "markdown",
   "metadata": {
    "colab_type": "text",
    "id": "1vcA2nzqrR5Z"
   },
   "source": [
    "#### Challenge Problem 1h\n",
    "\n",
    "Try some different values of `cov[0]` (the step size for the orbital period). Make a plot of the acceptance fraction as a function of step size. Does this make sense?"
   ]
  },
  {
   "cell_type": "markdown",
   "metadata": {
    "colab_type": "text",
    "id": "P3HvEOBurxqz"
   },
   "source": [
    "#### Challenge Problem 1i\n",
    "\n",
    "For different values of `cov[0]`, plot the correlation length. Does this make sense?"
   ]
  },
  {
   "cell_type": "markdown",
   "metadata": {
    "colab_type": "text",
    "id": "dSkcfhjRsZ6u"
   },
   "source": [
    "### Problem 2: Fitting a Keplerian to Data\n",
    "\n",
    "In the previous example, the orbit we were fitting had negligible eccentricity, so we were able to fit it with a sinusoid. In this example, we'll look at the high-eccentricity planet HD 80606b and fit a full Keplerian model to its RV data. This requires introducing some new free parameters to the model, which as we will see are not always straightforward to sample!"
   ]
  },
  {
   "cell_type": "code",
   "execution_count": null,
   "metadata": {
    "colab": {},
    "colab_type": "code",
    "id": "0cl9eWYwsvCS"
   },
   "outputs": [],
   "source": [
    "datafile = 'https://exoplanetarchive.ipac.caltech.edu/data/ExoData/0045/0045982/data/UID_0045982_RVC_006.tbl'\n",
    "data = pd.read_fwf(datafile, header=0, names=['t', 'rv', 'rv_err'], skiprows=21)\n",
    "data['t'] -= data['t'][0]"
   ]
  },
  {
   "cell_type": "markdown",
   "metadata": {
    "colab_type": "text",
    "id": "Vh0c-yM094db"
   },
   "source": [
    "#### Problem 2a\n",
    "\n",
    "Again, let's start by plotting the data. Make plots of the time series and the time series phased to a period of 111.4 days."
   ]
  },
  {
   "cell_type": "code",
   "execution_count": null,
   "metadata": {
    "colab": {
     "base_uri": "https://localhost:8080/",
     "height": 283
    },
    "colab_type": "code",
    "id": "-TnU31Qrx_69",
    "outputId": "6d47021a-1e12-4a9a-f7cf-7556213ff979"
   },
   "outputs": [],
   "source": [
    "fig, ax = plt.subplots()\n",
    "ax.errorbar( # complete\n",
    "ax.set_xlabel('Time (days)')\n",
    "ax.set_ylabel(r'RV (m s$^{-1}$)');"
   ]
  },
  {
   "cell_type": "code",
   "execution_count": null,
   "metadata": {
    "colab": {},
    "colab_type": "code",
    "id": "K4X_od0qj25q"
   },
   "outputs": [],
   "source": [
    "# phased plot goes here"
   ]
  },
  {
   "cell_type": "markdown",
   "metadata": {
    "colab_type": "text",
    "id": "w4HNWzpNaUQO"
   },
   "source": [
    "This planet's orbit should look pretty different from a sine wave!"
   ]
  },
  {
   "cell_type": "markdown",
   "metadata": {
    "colab_type": "text",
    "id": "9T7dh3dfay9r"
   },
   "source": [
    "#### Problem 2b\n",
    "\n",
    "Remake the `get_model_predictions` and `lnprior` functions to fit a Keplerian.\n",
    "\n",
    "Since this is a bit in the weeds of astronomy for the purposes of this workshop, I've gone ahead and written a solver for Kepler's equation and a `get_model_predictions` function that will deliver RVs for you. Read over the docstring and use the information given there to write a `lnprior` function for `theta`."
   ]
  },
  {
   "cell_type": "code",
   "execution_count": null,
   "metadata": {
    "colab": {},
    "colab_type": "code",
    "id": "ocPoQ9b4Zt_0"
   },
   "outputs": [],
   "source": [
    "def calc_ea(ma, ecc):\n",
    "    # Kepler solver - calculates eccentric anomaly\n",
    "    tolerance = 1e-3\n",
    "    ea = np.copy(ma)\n",
    "    while True:\n",
    "        diff = ea - ecc * np.sin(ea) - ma\n",
    "        ea -= diff / (1. - ecc * np.cos(ea))\n",
    "        if abs(diff).all() <= tolerance:\n",
    "            break\n",
    "    return ea \n",
    "    \n",
    "def get_model_predictions(theta, t):\n",
    "    '''\n",
    "    Calculate Keplerian orbital RVs\n",
    "    \n",
    "    Input\n",
    "    -----\n",
    "    theta : list\n",
    "      A list of values for the following parameters:\n",
    "       Orbital period,\n",
    "       RV semi-amplitude,\n",
    "       eccentricity (between 0-1),\n",
    "       omega (argument of periastron; an angle in radians\n",
    "              denoting the orbital phase where the planet\n",
    "              passes closest to the host star)\n",
    "       Tp (time of periastron; reference timestamp for the above)\n",
    "       RV0 (constant RV offset)\n",
    "    \n",
    "    t : list or array\n",
    "      Timestamps at which to calculate the RV\n",
    "      \n",
    "    Returns\n",
    "    -------\n",
    "    rvs : list or array\n",
    "      Predicted RVs at the input times.\n",
    "    '''\n",
    "    P, K, ecc, omega, tp, rv0 = theta\n",
    "    \n",
    "    ma = 2. * np.pi / P * (t - tp)  # mean anomaly\n",
    "    ea = calc_ea(ma, ecc)  # eccentric anomaly\n",
    "\n",
    "    f = 2.0 * np.arctan2(np.sqrt(1+ecc)*np.sin(ea/2.0), \n",
    "                         np.sqrt(1-ecc)*np.cos(ea/2.0)) # true anomaly\n",
    "    rvs = - K * (np.cos(omega + f) + ecc*np.cos(omega))\n",
    "    return rvs + rv0"
   ]
  },
  {
   "cell_type": "code",
   "execution_count": null,
   "metadata": {
    "colab": {},
    "colab_type": "code",
    "id": "HrGhqfxsj8P7"
   },
   "outputs": [],
   "source": [
    "def lnprior(theta):\n",
    "    # complete"
   ]
  },
  {
   "cell_type": "markdown",
   "metadata": {
    "colab_type": "text",
    "id": "eg26E4FrbsW6"
   },
   "source": [
    "#### Problem 2c\n",
    "\n",
    "Play around with the starting parameters until you're convinced that you have a reasonable fit."
   ]
  },
  {
   "cell_type": "code",
   "execution_count": null,
   "metadata": {
    "colab": {
     "base_uri": "https://localhost:8080/",
     "height": 283
    },
    "colab_type": "code",
    "id": "8Fw1PFg43lKU",
    "outputId": "4e794d74-7e81-4d5c-9c37-073ebe9da520"
   },
   "outputs": [],
   "source": [
    "theta_0 = # complete\n",
    "\n",
    "plt.errorbar(data['t'], data['rv'], data['rv_err'],\n",
    "             fmt='o', ms=4)\n",
    "xs = np.linspace(900, 1050, 1000)\n",
    "plt.plot(xs, get_model_predictions(theta_0, xs), c='DarkOrange')\n",
    "plt.xlim([900,1050])\n",
    "plt.xlabel('Time (days)')\n",
    "plt.ylabel(r'RV (m s$^{-1}$)');"
   ]
  },
  {
   "cell_type": "markdown",
   "metadata": {
    "colab_type": "text",
    "id": "x4WtK2et-zc0"
   },
   "source": [
    "#### Problem 2d\n",
    "\n",
    "Run the MCMC for 1000 steps and plot a trace of the eccentricity parameter. How efficiently is it running?\n",
    "\n",
    "Optional challenge: if you wrote a Gibbs sampler yesterday, use that instead of Metropolis-Hastings here!"
   ]
  },
  {
   "cell_type": "code",
   "execution_count": null,
   "metadata": {
    "colab": {
     "base_uri": "https://localhost:8080/",
     "height": 34
    },
    "colab_type": "code",
    "id": "z18qSA2u-C1V",
    "outputId": "82204121-97a8-47c4-d094-2bc5ab3bb70d"
   },
   "outputs": [],
   "source": [
    "cov = [0.1, 100, 0.01, 0.1, 0.1, 100]\n",
    "\n",
    "pos, lnpost, acc = mh_mcmc( # complete"
   ]
  },
  {
   "cell_type": "code",
   "execution_count": null,
   "metadata": {
    "colab": {
     "base_uri": "https://localhost:8080/",
     "height": 283
    },
    "colab_type": "code",
    "id": "s1Dipcoc_GSC",
    "outputId": "649535d0-2162-4c85-b023-5fea05ef4807"
   },
   "outputs": [],
   "source": [
    "#complete \n",
    "plt.ylabel('Eccentricity')\n",
    "plt.xlabel('Step');"
   ]
  },
  {
   "cell_type": "markdown",
   "metadata": {
    "colab_type": "text",
    "id": "fRhm4_2h1NHl"
   },
   "source": [
    "#### Problem 2e\n",
    "\n",
    "Make a corner plot of the results. Which parameters seem most correlated? Which are most and least well-constrained by the data?"
   ]
  },
  {
   "cell_type": "code",
   "execution_count": null,
   "metadata": {
    "colab": {
     "base_uri": "https://localhost:8080/",
     "height": 1000
    },
    "colab_type": "code",
    "id": "0LSv8UPv_Kfy",
    "outputId": "47b16f5d-51b7-4d10-e6d4-5c306f65cae0"
   },
   "outputs": [],
   "source": [
    "corner.corner( # complete"
   ]
  },
  {
   "cell_type": "markdown",
   "metadata": {
    "colab_type": "text",
    "id": "eV2YH32m1wC9"
   },
   "source": [
    "#### Problem 2f\n",
    "\n",
    "Ford et al. (2006) suggest mitigating this issue by reparameterizing the orbital parameters $e$ and $\\omega$ as $e cos\\omega$ and $e sin\\omega$. Modify the `get_model_predictions` and `lnprior` functions accordingly and rerun the MCMC. Does performance improve?\n",
    "\n",
    "*Note: the efficiency of a basic MCMC in this situation is never going to be excellent. We'll talk more about challenging cases like this and how to deal with them in later lectures!*"
   ]
  },
  {
   "cell_type": "code",
   "execution_count": null,
   "metadata": {
    "colab": {},
    "colab_type": "code",
    "id": "ZI5MYgS62oPR"
   },
   "outputs": [],
   "source": [
    "def get_model_predictions(theta, t):\n",
    "    # complete\n",
    "  \n",
    "def lnprior(theta):\n",
    "    # complete"
   ]
  },
  {
   "cell_type": "code",
   "execution_count": null,
   "metadata": {
    "colab": {
     "base_uri": "https://localhost:8080/",
     "height": 68
    },
    "colab_type": "code",
    "id": "VOUZugge3Pwa",
    "outputId": "5469bbe9-0bd7-4a11-e7d7-49bbdfd6d71d"
   },
   "outputs": [],
   "source": [
    "theta_0 = # complete\n",
    "cov = # complete\n",
    "\n",
    "pos, lnpost, acc = mh_mcmc( # complete"
   ]
  },
  {
   "cell_type": "code",
   "execution_count": null,
   "metadata": {
    "colab": {
     "base_uri": "https://localhost:8080/",
     "height": 283
    },
    "colab_type": "code",
    "id": "pG5hYSV63lEk",
    "outputId": "6e2fe219-0709-4bee-e12f-0af16debf48e"
   },
   "outputs": [],
   "source": [
    "# complete\n",
    "plt.ylabel('ecosw')\n",
    "plt.xlabel('Step');"
   ]
  },
  {
   "cell_type": "code",
   "execution_count": null,
   "metadata": {
    "colab": {
     "base_uri": "https://localhost:8080/",
     "height": 993
    },
    "colab_type": "code",
    "id": "1rO7NtKM3o_X",
    "outputId": "6992f74e-71b4-49d6-e4ac-e66e7e46c5b8"
   },
   "outputs": [],
   "source": [
    "corner.corner( # complete"
   ]
  },
  {
   "cell_type": "code",
   "execution_count": null,
   "metadata": {
    "colab": {},
    "colab_type": "code",
    "id": "Wsr3Czcj8l6v"
   },
   "outputs": [],
   "source": []
  }
 ],
 "metadata": {
  "colab": {
   "collapsed_sections": [],
   "name": "Copy of Copy of IntroToMCMC.ipynb",
   "provenance": [],
   "version": "0.3.2"
  },
  "kernelspec": {
   "display_name": "Python 3",
   "language": "python",
   "name": "python3"
  },
  "language_info": {
   "codemirror_mode": {
    "name": "ipython",
    "version": 3
   },
   "file_extension": ".py",
   "mimetype": "text/x-python",
   "name": "python",
   "nbconvert_exporter": "python",
   "pygments_lexer": "ipython3",
   "version": "3.7.1"
  }
 },
 "nbformat": 4,
 "nbformat_minor": 1
}
