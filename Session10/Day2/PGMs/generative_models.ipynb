{
 "cells": [
  {
   "cell_type": "markdown",
   "metadata": {
    "slideshow": {
     "slide_type": "notes"
    }
   },
   "source": [
    "This notebook is adapted from a lesson from the 2019 [KIPAC/StatisticalMethods course](https://github.com/KIPAC/StatisticalMethods), (c) 2019 Adam Mantz and Phil Marshall, licensed under the [GPLv2](LICENSE)."
   ]
  },
  {
   "cell_type": "markdown",
   "metadata": {
    "slideshow": {
     "slide_type": "slide"
    }
   },
   "source": [
    "# Generative Models and Probabilistic Graphical Models\n",
    "\n",
    "Goals:\n",
    "* Introduce generative models in the context of mocking data and inference\n",
    "* Introduce probabilistic graphical models as a tool for model visualization\n",
    "* Practice drawing some PGMs"
   ]
  },
  {
   "cell_type": "markdown",
   "metadata": {
    "slideshow": {
     "slide_type": "slide"
    }
   },
   "source": [
    "You've already seen Bayes Theorem and the role of the prior, sampling and posterior distributions."
   ]
  },
  {
   "cell_type": "markdown",
   "metadata": {
    "slideshow": {
     "slide_type": "fragment"
    }
   },
   "source": [
    "Fully specifying these requires us to write down (or at least approximate) _how the data set comes to exist,_ e.g.\n",
    "* physical processes happening out there in the Universe\n",
    "* instrumental effects and the measurement process\n",
    "* any computations done prior to calling the result a \"data set\""
   ]
  },
  {
   "cell_type": "markdown",
   "metadata": {
    "slideshow": {
     "slide_type": "slide"
    }
   },
   "source": [
    "A **generative model** is formally the joint distribution of all our data and model parameters,\n",
    "\n",
    "$P(\\mathrm{data},\\mathrm{params}) = P(\\mathrm{params}) P(\\mathrm{data}|\\mathrm{params})$"
   ]
  },
  {
   "cell_type": "markdown",
   "metadata": {
    "slideshow": {
     "slide_type": "fragment"
    }
   },
   "source": [
    "It encodes the modelling information needed for both inference and creating mock data."
   ]
  },
  {
   "cell_type": "markdown",
   "metadata": {
    "slideshow": {
     "slide_type": "slide"
    }
   },
   "source": [
    "What are generative models useful for?\n",
    "\n",
    "* Performing inference: constructing the *sampling distribution* or *likelihood function*"
   ]
  },
  {
   "cell_type": "markdown",
   "metadata": {
    "slideshow": {
     "slide_type": "fragment"
    }
   },
   "source": [
    "* Testing inference: does our analysis, run on mock data, recover the input model?"
   ]
  },
  {
   "cell_type": "markdown",
   "metadata": {
    "slideshow": {
     "slide_type": "fragment"
    }
   },
   "source": [
    "* Checking inferences: do mock data generated from a fitted model resemble the real data?"
   ]
  },
  {
   "cell_type": "markdown",
   "metadata": {
    "slideshow": {
     "slide_type": "slide"
    }
   },
   "source": [
    "$P(\\mathrm{data},\\mathrm{params})$ is an abstract beast, but usually it factorizes in helpful ways."
   ]
  },
  {
   "cell_type": "markdown",
   "metadata": {
    "slideshow": {
     "slide_type": "fragment"
    }
   },
   "source": [
    "This is where **probabilistic graphical models** (PGMs) come in. A PGM is a sketch that encodes the conditional dependences within a generative model."
   ]
  },
  {
   "cell_type": "markdown",
   "metadata": {
    "slideshow": {
     "slide_type": "slide"
    }
   },
   "source": [
    "PGMs are to inference what free-body diagrams are to kinematics. Everyone hates having to draw them, yet everyone makes fewer mistakes when they do."
   ]
  },
  {
   "cell_type": "markdown",
   "metadata": {
    "slideshow": {
     "slide_type": "slide"
    }
   },
   "source": [
    "Let's do a simple example, first specifying a problem in words and then building the PGM."
   ]
  },
  {
   "cell_type": "markdown",
   "metadata": {
    "collapsed": true,
    "slideshow": {
     "slide_type": "slide"
    }
   },
   "source": [
    "Here's an image (and a zoom-in):\n",
    "\n",
    "<table><tr width=90%>\n",
    "<td><img src=\"graphics/tour_cluster_image.png\" height=300></td>\n",
    "<td><img src=\"graphics/tour_cluster_image_zoom.png\" height=300></td>\n",
    "</tr></table>"
   ]
  },
  {
   "cell_type": "markdown",
   "metadata": {
    "slideshow": {
     "slide_type": "slide"
    }
   },
   "source": [
    "Our measurement is the number of counts in each pixel. Here is a generative model in words:"
   ]
  },
  {
   "cell_type": "markdown",
   "metadata": {
    "slideshow": {
     "slide_type": "slide"
    }
   },
   "source": [
    "* There's an object emitting light, whose properties are parametrized by $\\theta$."
   ]
  },
  {
   "cell_type": "markdown",
   "metadata": {
    "slideshow": {
     "slide_type": "fragment"
    }
   },
   "source": [
    "* From $\\theta$, we can determine the average flux falling on a given pixel $k$, $F_k$."
   ]
  },
  {
   "cell_type": "markdown",
   "metadata": {
    "slideshow": {
     "slide_type": "fragment"
    }
   },
   "source": [
    "* Given the exposure time of our observation, $T$ (and some conversion factors), $F_k$ determines the average number of counts expected, $\\mu_k$."
   ]
  },
  {
   "cell_type": "markdown",
   "metadata": {
    "slideshow": {
     "slide_type": "fragment"
    }
   },
   "source": [
    "* The number of counts measured, $N_k$, is a Poisson draw, given the average $\\mu_k$."
   ]
  },
  {
   "cell_type": "markdown",
   "metadata": {
    "slideshow": {
     "slide_type": "slide"
    }
   },
   "source": [
    "Notice that the model was described in terms of conditional relationships.\n",
    "* $\\theta \\sim$ some prior\n",
    "\n",
    "For every pixel, $k$\n",
    "* $F_k \\Leftarrow \\theta,k$\n",
    "* $\\mu_k \\Leftarrow F_k,T$\n",
    "* $N_k \\sim \\mathrm{Poisson}(\\mu_k)$\n",
    "\n",
    "NB: $\\Leftarrow$ indicates a deterministic dependence, $\\sim$ means \"is distributed as\"."
   ]
  },
  {
   "cell_type": "markdown",
   "metadata": {
    "slideshow": {
     "slide_type": "slide"
    }
   },
   "source": [
    "The PGM shows most of the same information, visually:\n",
    "<img src=\"graphics/pgms_pixelcounts.png\">"
   ]
  },
  {
   "cell_type": "markdown",
   "metadata": {
    "slideshow": {
     "slide_type": "slide"
    }
   },
   "source": [
    "Ingredients of a PGM (sometimes also called a *directed acyclic graph*):\n",
    "* **Nodes** (dots and circles) represent PDFs for parameters\n",
    "* **Edges** (arrows) represent conditional relationships\n",
    "* **Plates** (rectangles) represent repeated model components whose contents are conditionally independent"
   ]
  },
  {
   "cell_type": "markdown",
   "metadata": {
    "slideshow": {
     "slide_type": "slide"
    }
   },
   "source": [
    "Types of nodes:\n",
    "* **Circles** represent a PDF. This parameter is a *stochastic* ($\\sim$) function of the parameters feeding into it.\n",
    "* **Points** represent a delta-function PDF. This parameter is a *deterministic* ($\\Leftarrow$) function of the parameters feeding into it.\n",
    "* **Double circles** (or shading) indicate measured data. They are stochastic ($\\sim$) in the context of generating mock data, but fixed in the context of parameter inference."
   ]
  },
  {
   "cell_type": "markdown",
   "metadata": {
    "slideshow": {
     "slide_type": "slide"
    }
   },
   "source": [
    "Q: According to this PGM, how can we factorize $p(\\theta,T,\\{F_k, \\mu_k, N_k\\})$?\n",
    "\n",
    "<img src=\"graphics/pgms_pixelcounts.png\">"
   ]
  },
  {
   "cell_type": "markdown",
   "metadata": {
    "slideshow": {
     "slide_type": "fragment"
    }
   },
   "source": [
    "What does all this imply in the context of\n",
    "1. parameter inference?\n",
    "2. mock data generation?"
   ]
  },
  {
   "cell_type": "markdown",
   "metadata": {
    "slideshow": {
     "slide_type": "slide"
    }
   },
   "source": [
    "The key here is that the PGM shows _conditional dependences_ - therefore, it also shows (by omission) where parameters are _conditionally independent_.\n",
    "\n",
    "That feature, plus the directional aspect, mean that the PGM is a map to the most logical sequence of steps (lines in code) for either generating mock data or evaluating the posterior density of real data."
   ]
  },
  {
   "cell_type": "markdown",
   "metadata": {
    "slideshow": {
     "slide_type": "slide"
    }
   },
   "source": [
    "Q: How are these PGMs different, and what does the difference mean?\n",
    "\n",
    "<table><tr><td>\n",
    "<img src=\"graphics/pgms_pixelcounts.png\">\n",
    "</td><td>\n",
    "<img src=\"graphics/pgms_pixelcounts2.png\">\n",
    "</td></tr></table>"
   ]
  },
  {
   "cell_type": "markdown",
   "metadata": {
    "slideshow": {
     "slide_type": "slide"
    }
   },
   "source": [
    "In this case, some PDFs are delta functions, so we can straightforwardly marginalize over such _deterministic_ variables:\n",
    "\n",
    "$p(\\theta,\\{N_k\\}) = $\n",
    "\n",
    "$\\quad \\int dF_k\\,d\\mu_k\\,dT\\; p(\\theta)p(T) \\prod_k P(N_k|\\mu_k)p(\\mu_k|F_k,T)p(F_k|\\theta)$"
   ]
  },
  {
   "cell_type": "markdown",
   "metadata": {
    "slideshow": {
     "slide_type": "fragment"
    }
   },
   "source": [
    "$= \\underbrace{p(\\theta)} ~ \\underbrace{\\prod_k P\\left(N_k|\\mu_k(\\theta,T)\\right)}$"
   ]
  },
  {
   "cell_type": "markdown",
   "metadata": {
    "collapsed": true,
    "slideshow": {
     "slide_type": "fragment"
    }
   },
   "source": [
    "$= \\mathrm{prior}(\\theta) ~\\times~ (\\mathrm{sampling~distribution~of~}\\vec{N})$"
   ]
  },
  {
   "cell_type": "markdown",
   "metadata": {
    "slideshow": {
     "slide_type": "slide"
    }
   },
   "source": [
    "We *could* have written/drawn everything without explicitly mentioning $F_k$ (or even $\\mu_k$). Like all simplifications, this is sometimes helpful and sometimes a pitfall."
   ]
  },
  {
   "cell_type": "markdown",
   "metadata": {
    "slideshow": {
     "slide_type": "slide"
    }
   },
   "source": [
    "### Exercise\n",
    "\n",
    "<table width=60%><tr>\n",
    "    <td><img src=\"graphics/pgms_a-c-d.png\"></td>\n",
    "    <td><img src=\"graphics/pgms_c-y-d.png\"></td>\n",
    "</tr></table>\n",
    "\n",
    "* On your own, write down the probability expressions (factorization of the generative model) illustrated by these two graphs. \n",
    "* Then, discuss their meaning with your neighbor, and prepare to report back to the class."
   ]
  },
  {
   "cell_type": "markdown",
   "metadata": {
    "slideshow": {
     "slide_type": "slide"
    }
   },
   "source": [
    "### Take-home messages\n",
    "\n",
    "* Both simulation of mock data and inference from data require a model for how the Universe (or our computer) generates data.\n",
    "* PGMs are a helpful way of visualizing the conditional dependences of a model (how the probability expressions factorize).\n",
    "\n",
    "Note: the `daft` Python package can be useful for making PGMs programatically, though it's no substitute for paper."
   ]
  },
  {
   "cell_type": "markdown",
   "metadata": {
    "slideshow": {
     "slide_type": "slide"
    }
   },
   "source": [
    "### Exercise: linear regression\n",
    "\n",
    "Your data is a list of $\\{x_k,y_k,\\sigma_k\\}$ triplets, where $\\sigma_k$ is some estimate of the \"error\" on $y_k$. You think a linear model, $y(x)=a+bx$, might explain these data. To start exploring this idea, you decide to generate some simulated data, to compare with your real dataset.\n",
    "\n",
    "In the absence of any better information, assume that $\\vec{x}$ and $\\vec{\\sigma}$ are (somehow) known precisely, and that the \"error\" on $y_k$ is Gaussian (mean of $a+bx_k$ and standard deviation $\\sigma_k$)."
   ]
  },
  {
   "cell_type": "markdown",
   "metadata": {
    "slideshow": {
     "slide_type": "slide"
    }
   },
   "source": [
    "1. Draw the PGM, and write down the corresponding probability expressions, for this problem.\n",
    "\n",
    "2. What (unspecified) assumptions, if any, would you have to make to actually generate data? Which assumptions do you think are unlikely to hold in practice? Choose one (or more) of these assumptions and work out how to generalize the PGM/generative model to avoid making it."
   ]
  },
  {
   "cell_type": "markdown",
   "metadata": {
    "slideshow": {
     "slide_type": "slide"
    }
   },
   "source": [
    "## Bonus numerical exercise:\n",
    "\n",
    "Extending the linear regression exercise, simulate a few data sets, given some values (your choice) for the input parameters. The commented code below is a (crummy) starting point."
   ]
  },
  {
   "cell_type": "code",
   "execution_count": null,
   "metadata": {
    "collapsed": true
   },
   "outputs": [],
   "source": [
    "'''\n",
    "import numpy as np\n",
    "import scipy.stats as st\n",
    "import matplotlib\n",
    "matplotlib.use('TkAgg')\n",
    "import matplotlib.pyplot as plt\n",
    "plt.rcParams['xtick.labelsize'] = 'x-large'\n",
    "plt.rcParams['ytick.labelsize'] = 'x-large'\n",
    "%matplotlib inline\n",
    "''';"
   ]
  },
  {
   "cell_type": "code",
   "execution_count": null,
   "metadata": {
    "collapsed": true
   },
   "outputs": [],
   "source": [
    "\"\"\"\n",
    "# Choose some linear model parameters, somehow\n",
    "a = \n",
    "b =\n",
    "\n",
    "# Choose some x and sigma values... somehow\n",
    "n = 10 # Number of data points. Feel free to change.\n",
    "x = np.array([\n",
    "sigma = np.array([\n",
    "\n",
    "# Work out the values for any intermediate nodes in your PGM\n",
    "    \n",
    "# generate the \"observed\" y values\n",
    "y = st.norm.rvs(\n",
    "\"\"\";"
   ]
  },
  {
   "cell_type": "code",
   "execution_count": null,
   "metadata": {
    "collapsed": true
   },
   "outputs": [],
   "source": [
    "\"\"\"\n",
    "# plot x, y and sigma in the usual way\n",
    "plt.rcParams['figure.figsize'] = (12.0, 5.0)\n",
    "plt.errorbar(x, y, yerr=sigma, fmt='none');\n",
    "plt.plt(x, y, 'bo');\n",
    "plt.xlabel('x', fontsize=14);\n",
    "plt.ylabel('y', fontsize=14);\n",
    "\"\"\";"
   ]
  },
  {
   "cell_type": "markdown",
   "metadata": {
    "slideshow": {
     "slide_type": "slide"
    }
   },
   "source": [
    "## Bonus exercise:  Exoplanet transit photometry\n",
    "\n",
    "You've taken several images of a particular field, in order to record the transit of an exoplanet in front of a star (resulting in a temporary decrease in its brightness). Some kind of model, parametrized by $\\theta$, describes the time series of the resulting flux. Before we get to measure a number of counts, however, each image is affected by time-specific variables, e.g. related to changing weather. To account for these, you've also measured a second star in the same field in every exposure. The assumption is that the average intrinsic flux of this second star is constant in time, so that it can be used to correct for photometric variations, putting the multiple measurements of the target star on the same scale.\n",
    "\n",
    "Draw a PGM and write down the corresponding probability expressions for this problem."
   ]
  },
  {
   "cell_type": "markdown",
   "metadata": {
    "slideshow": {
     "slide_type": "notes"
    }
   },
   "source": [
    "Thanks to Anja von der Linden for inspiring (and then correcting) the above problem."
   ]
  },
  {
   "cell_type": "markdown",
   "metadata": {
    "slideshow": {
     "slide_type": "notes"
    }
   },
   "source": [
    "Note: Sketchy solutions for the PGM-drawing exercises can be found with the corresponding material from DSFP Session 4. "
   ]
  }
 ],
 "metadata": {
  "anaconda-cloud": {},
  "celltoolbar": "Slideshow",
  "kernelspec": {
   "display_name": "Python 3",
   "language": "python",
   "name": "python3"
  },
  "language_info": {
   "codemirror_mode": {
    "name": "ipython",
    "version": 3
   },
   "file_extension": ".py",
   "mimetype": "text/x-python",
   "name": "python",
   "nbconvert_exporter": "python",
   "pygments_lexer": "ipython3",
   "version": "3.6.8"
  },
  "livereveal": {
   "scroll": true,
   "start_slideshow_at": "selected"
  }
 },
 "nbformat": 4,
 "nbformat_minor": 1
}
